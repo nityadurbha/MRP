{
 "cells": [
  {
   "cell_type": "markdown",
   "metadata": {},
   "source": [
    "# Feature Engineering and Model Building"
   ]
  },
  {
   "cell_type": "code",
   "execution_count": 345,
   "metadata": {},
   "outputs": [],
   "source": [
    "import pandas as pd\n",
    "import numpy as np\n",
    "import matplotlib.pyplot as plt\n",
    "import seaborn as sns\n",
    "import warnings\n",
    "warnings.filterwarnings(\"ignore\")\n",
    "%matplotlib inline"
   ]
  },
  {
   "cell_type": "code",
   "execution_count": 346,
   "metadata": {},
   "outputs": [],
   "source": [
    "df = pd.read_csv('Data/train.csv')\n",
    "X_test=pd.read_csv('Data/test.csv')"
   ]
  },
  {
   "cell_type": "code",
   "execution_count": 347,
   "metadata": {},
   "outputs": [
    {
     "data": {
      "text/html": [
       "<div>\n",
       "<style scoped>\n",
       "    .dataframe tbody tr th:only-of-type {\n",
       "        vertical-align: middle;\n",
       "    }\n",
       "\n",
       "    .dataframe tbody tr th {\n",
       "        vertical-align: top;\n",
       "    }\n",
       "\n",
       "    .dataframe thead th {\n",
       "        text-align: right;\n",
       "    }\n",
       "</style>\n",
       "<table border=\"1\" class=\"dataframe\">\n",
       "  <thead>\n",
       "    <tr style=\"text-align: right;\">\n",
       "      <th></th>\n",
       "      <th>id</th>\n",
       "      <th>Product ID</th>\n",
       "      <th>Type</th>\n",
       "      <th>Air temperature [K]</th>\n",
       "      <th>Process temperature [K]</th>\n",
       "      <th>Rotational speed [rpm]</th>\n",
       "      <th>Torque [Nm]</th>\n",
       "      <th>Tool wear [min]</th>\n",
       "      <th>Machine failure</th>\n",
       "      <th>TWF</th>\n",
       "      <th>HDF</th>\n",
       "      <th>PWF</th>\n",
       "      <th>OSF</th>\n",
       "      <th>RNF</th>\n",
       "    </tr>\n",
       "  </thead>\n",
       "  <tbody>\n",
       "    <tr>\n",
       "      <th>0</th>\n",
       "      <td>0</td>\n",
       "      <td>L50096</td>\n",
       "      <td>L</td>\n",
       "      <td>300.6</td>\n",
       "      <td>309.6</td>\n",
       "      <td>1596</td>\n",
       "      <td>36.1</td>\n",
       "      <td>140</td>\n",
       "      <td>0</td>\n",
       "      <td>0</td>\n",
       "      <td>0</td>\n",
       "      <td>0</td>\n",
       "      <td>0</td>\n",
       "      <td>0</td>\n",
       "    </tr>\n",
       "    <tr>\n",
       "      <th>1</th>\n",
       "      <td>1</td>\n",
       "      <td>M20343</td>\n",
       "      <td>M</td>\n",
       "      <td>302.6</td>\n",
       "      <td>312.1</td>\n",
       "      <td>1759</td>\n",
       "      <td>29.1</td>\n",
       "      <td>200</td>\n",
       "      <td>0</td>\n",
       "      <td>0</td>\n",
       "      <td>0</td>\n",
       "      <td>0</td>\n",
       "      <td>0</td>\n",
       "      <td>0</td>\n",
       "    </tr>\n",
       "    <tr>\n",
       "      <th>2</th>\n",
       "      <td>2</td>\n",
       "      <td>L49454</td>\n",
       "      <td>L</td>\n",
       "      <td>299.3</td>\n",
       "      <td>308.5</td>\n",
       "      <td>1805</td>\n",
       "      <td>26.5</td>\n",
       "      <td>25</td>\n",
       "      <td>0</td>\n",
       "      <td>0</td>\n",
       "      <td>0</td>\n",
       "      <td>0</td>\n",
       "      <td>0</td>\n",
       "      <td>0</td>\n",
       "    </tr>\n",
       "    <tr>\n",
       "      <th>3</th>\n",
       "      <td>3</td>\n",
       "      <td>L53355</td>\n",
       "      <td>L</td>\n",
       "      <td>301.0</td>\n",
       "      <td>310.9</td>\n",
       "      <td>1524</td>\n",
       "      <td>44.3</td>\n",
       "      <td>197</td>\n",
       "      <td>0</td>\n",
       "      <td>0</td>\n",
       "      <td>0</td>\n",
       "      <td>0</td>\n",
       "      <td>0</td>\n",
       "      <td>0</td>\n",
       "    </tr>\n",
       "    <tr>\n",
       "      <th>4</th>\n",
       "      <td>4</td>\n",
       "      <td>M24050</td>\n",
       "      <td>M</td>\n",
       "      <td>298.0</td>\n",
       "      <td>309.0</td>\n",
       "      <td>1641</td>\n",
       "      <td>35.4</td>\n",
       "      <td>34</td>\n",
       "      <td>0</td>\n",
       "      <td>0</td>\n",
       "      <td>0</td>\n",
       "      <td>0</td>\n",
       "      <td>0</td>\n",
       "      <td>0</td>\n",
       "    </tr>\n",
       "  </tbody>\n",
       "</table>\n",
       "</div>"
      ],
      "text/plain": [
       "   id Product ID Type  Air temperature [K]  Process temperature [K]  \\\n",
       "0   0     L50096    L                300.6                    309.6   \n",
       "1   1     M20343    M                302.6                    312.1   \n",
       "2   2     L49454    L                299.3                    308.5   \n",
       "3   3     L53355    L                301.0                    310.9   \n",
       "4   4     M24050    M                298.0                    309.0   \n",
       "\n",
       "   Rotational speed [rpm]  Torque [Nm]  Tool wear [min]  Machine failure  TWF  \\\n",
       "0                    1596         36.1              140                0    0   \n",
       "1                    1759         29.1              200                0    0   \n",
       "2                    1805         26.5               25                0    0   \n",
       "3                    1524         44.3              197                0    0   \n",
       "4                    1641         35.4               34                0    0   \n",
       "\n",
       "   HDF  PWF  OSF  RNF  \n",
       "0    0    0    0    0  \n",
       "1    0    0    0    0  \n",
       "2    0    0    0    0  \n",
       "3    0    0    0    0  \n",
       "4    0    0    0    0  "
      ]
     },
     "execution_count": 347,
     "metadata": {},
     "output_type": "execute_result"
    }
   ],
   "source": [
    "df.head()"
   ]
  },
  {
   "cell_type": "code",
   "execution_count": 348,
   "metadata": {},
   "outputs": [
    {
     "data": {
      "text/plain": [
       "(136429, 14)"
      ]
     },
     "execution_count": 348,
     "metadata": {},
     "output_type": "execute_result"
    }
   ],
   "source": [
    "df.shape"
   ]
  },
  {
   "cell_type": "markdown",
   "metadata": {},
   "source": [
    "### Data Cleaning & Feature Engineering"
   ]
  },
  {
   "cell_type": "code",
   "execution_count": 349,
   "metadata": {},
   "outputs": [],
   "source": [
    "def replace_spaces_with_underscore(column_labels):\n",
    "    return [label.replace(' ', '_') for label in column_labels]\n",
    "\n",
    "df.columns=replace_spaces_with_underscore(df.columns)\n",
    "\n",
    "X_test.columns=replace_spaces_with_underscore(X_test)"
   ]
  },
  {
   "cell_type": "code",
   "execution_count": 350,
   "metadata": {},
   "outputs": [],
   "source": [
    "import re\n",
    "def remove_special_characters(feature_names):\n",
    "    # Define the regular expression pattern to match special characters\n",
    "    pattern = r'[^\\w\\s]'\n",
    "    \n",
    "    # Initialize a list to store the cleaned feature names\n",
    "    cleaned_feature_names = []\n",
    "    \n",
    "    # Iterate through each feature name and remove special characters\n",
    "    for name in feature_names:\n",
    "        cleaned_name = re.sub(pattern, '', name)\n",
    "        cleaned_feature_names.append(cleaned_name)\n",
    "    \n",
    "    return cleaned_feature_names\n",
    "\n",
    "df.columns=remove_special_characters(df.columns)\n",
    "X_test.columns=remove_special_characters(X_test.columns)"
   ]
  },
  {
   "cell_type": "code",
   "execution_count": 351,
   "metadata": {},
   "outputs": [
    {
     "data": {
      "text/plain": [
       "Index(['id', 'Product_ID', 'Type', 'Air_temperature_K',\n",
       "       'Process_temperature_K', 'Rotational_speed_rpm', 'Torque_Nm',\n",
       "       'Tool_wear_min', 'Machine_failure', 'TWF', 'HDF', 'PWF', 'OSF', 'RNF'],\n",
       "      dtype='object')"
      ]
     },
     "execution_count": 351,
     "metadata": {},
     "output_type": "execute_result"
    }
   ],
   "source": [
    "df.columns"
   ]
  },
  {
   "cell_type": "code",
   "execution_count": 352,
   "metadata": {},
   "outputs": [
    {
     "data": {
      "text/plain": [
       "id                       0\n",
       "Product_ID               0\n",
       "Type                     0\n",
       "Air_temperature_K        0\n",
       "Process_temperature_K    0\n",
       "Rotational_speed_rpm     0\n",
       "Torque_Nm                0\n",
       "Tool_wear_min            0\n",
       "Machine_failure          0\n",
       "TWF                      0\n",
       "HDF                      0\n",
       "PWF                      0\n",
       "OSF                      0\n",
       "RNF                      0\n",
       "dtype: int64"
      ]
     },
     "execution_count": 352,
     "metadata": {},
     "output_type": "execute_result"
    }
   ],
   "source": [
    "df.isna().sum()"
   ]
  },
  {
   "cell_type": "code",
   "execution_count": 353,
   "metadata": {},
   "outputs": [
    {
     "data": {
      "text/plain": [
       "id                         int64\n",
       "Product_ID                object\n",
       "Type                      object\n",
       "Air_temperature_K        float64\n",
       "Process_temperature_K    float64\n",
       "Rotational_speed_rpm       int64\n",
       "Torque_Nm                float64\n",
       "Tool_wear_min              int64\n",
       "Machine_failure            int64\n",
       "TWF                        int64\n",
       "HDF                        int64\n",
       "PWF                        int64\n",
       "OSF                        int64\n",
       "RNF                        int64\n",
       "dtype: object"
      ]
     },
     "execution_count": 353,
     "metadata": {},
     "output_type": "execute_result"
    }
   ],
   "source": [
    "df.dtypes"
   ]
  },
  {
   "cell_type": "code",
   "execution_count": 354,
   "metadata": {},
   "outputs": [],
   "source": [
    "df.drop(columns='id',axis=1,inplace=True)"
   ]
  },
  {
   "cell_type": "code",
   "execution_count": 355,
   "metadata": {},
   "outputs": [],
   "source": [
    "target_col = 'Machine_failure'\n",
    "\n",
    "num_cols = [\n",
    "    'Air_temperature_K',\n",
    "    'Process_temperature_K',\n",
    "    'Rotational_speed_rpm',\n",
    "    'Torque_Nm',\n",
    "    'Tool_wear_min'\n",
    "]\n",
    "binary_cols = [\n",
    "    'TWF',\n",
    "    'HDF',\n",
    "    'PWF',\n",
    "    'OSF',\n",
    "    'RNF'\n",
    "]\n",
    "\n",
    "cat_cols=['Product_ID', 'Type']"
   ]
  },
  {
   "cell_type": "markdown",
   "metadata": {},
   "source": [
    "### Numerical Columns"
   ]
  },
  {
   "cell_type": "code",
   "execution_count": 356,
   "metadata": {},
   "outputs": [
    {
     "data": {
      "text/plain": [
       "['Air_temperature_K',\n",
       " 'Process_temperature_K',\n",
       " 'Rotational_speed_rpm',\n",
       " 'Torque_Nm',\n",
       " 'Tool_wear_min']"
      ]
     },
     "execution_count": 356,
     "metadata": {},
     "output_type": "execute_result"
    }
   ],
   "source": [
    "num_cols"
   ]
  },
  {
   "cell_type": "markdown",
   "metadata": {},
   "source": [
    "**Functions for Graph**"
   ]
  },
  {
   "cell_type": "code",
   "execution_count": 357,
   "metadata": {},
   "outputs": [],
   "source": [
    "\n",
    "def plot_histogram_column(column_name,dataframe=df):\n",
    "    \"\"\"\n",
    "    Function to plot a histogram for a specific column in the given DataFrame.\n",
    "\n",
    "    Parameters:\n",
    "    dataframe (pandas.DataFrame): The DataFrame containing the data.\n",
    "    column_name (str): The name of the column for which the histogram will be plotted.\n",
    "\n",
    "    Returns:\n",
    "    None\n",
    "    \"\"\"\n",
    "    # Check if the column_name exists in the DataFrame\n",
    "    if column_name not in dataframe.columns:\n",
    "        print(f\"Error: Column '{column_name}' not found in the DataFrame.\")\n",
    "        return\n",
    "\n",
    "    # Create the histogram\n",
    "    plt.figure(figsize=(8, 6))\n",
    "    plt.hist(dataframe[column_name], bins=20, color='skyblue', edgecolor='black')\n",
    "    \n",
    "    # Customize the plot\n",
    "    plt.xlabel(column_name.capitalize())\n",
    "    plt.ylabel('Frequency')\n",
    "    plt.title(f'Histogram of {column_name.capitalize()}')\n",
    "    \n",
    "    # Show the plot\n",
    "    plt.show()"
   ]
  },
  {
   "cell_type": "code",
   "execution_count": 358,
   "metadata": {},
   "outputs": [],
   "source": [
    "def plot_histograms(column_names, dataframe=df):\n",
    "    \"\"\"\n",
    "    Function to plot histograms for specific columns in the given DataFrame.\n",
    "\n",
    "    Parameters:\n",
    "    dataframe (pandas.DataFrame): The DataFrame containing the data.\n",
    "    column_names (list): List of column names for which the histograms will be plotted.\n",
    "\n",
    "    Returns:\n",
    "    None\n",
    "    \"\"\"\n",
    "    num_plots = len(column_names)\n",
    "    num_rows = (num_plots + 2) // 3  # Calculate the number of rows needed\n",
    "    num_cols = min(num_plots, 3)     # Maximum 3 columns per row\n",
    "\n",
    "    fig, axs = plt.subplots(num_rows, num_cols, figsize=(15, num_rows * 5))\n",
    "    axs = axs.ravel()  # Flatten the 2D array of subplots\n",
    "\n",
    "    for i, column_name in enumerate(column_names):\n",
    "        # Check if the column_name exists in the DataFrame\n",
    "        if column_name not in dataframe.columns:\n",
    "            print(f\"Error: Column '{column_name}' not found in the DataFrame.\")\n",
    "            continue\n",
    "\n",
    "        # Create the histogram\n",
    "        axs[i].hist(dataframe[column_name], bins=20, color='skyblue', edgecolor='black')\n",
    "        axs[i].set_xlabel(column_name.capitalize())\n",
    "        axs[i].set_ylabel('Frequency')\n",
    "        axs[i].set_title(f'Histogram of {column_name.capitalize()}')\n",
    "\n",
    "    # Hide any remaining empty subplots\n",
    "    for j in range(num_plots, num_rows * num_cols):\n",
    "        axs[j].axis('off')\n",
    "\n",
    "    plt.tight_layout()\n",
    "    plt.show()"
   ]
  },
  {
   "cell_type": "code",
   "execution_count": 359,
   "metadata": {},
   "outputs": [],
   "source": [
    "def plot_boxplots(column_names,dataframe=df ):\n",
    "    \"\"\"\n",
    "    Function to plot box plots for specific columns in the given DataFrame.\n",
    "\n",
    "    Parameters:\n",
    "    dataframe (pandas.DataFrame): The DataFrame containing the data.\n",
    "    column_names (list): List of column names for which the box plots will be plotted.\n",
    "\n",
    "    Returns:\n",
    "    None\n",
    "    \"\"\"\n",
    "    # Create a figure and axes for the subplots\n",
    "    num_plots = len(column_names)\n",
    "    num_rows = (num_plots + 2) // 3  # Calculate the number of rows needed\n",
    "    num_cols = min(num_plots, 3)     # Maximum 3 columns per row\n",
    "\n",
    "    fig, axs = plt.subplots(num_rows, num_cols, figsize=(15, num_rows * 5))\n",
    "    axs = axs.ravel()  # Flatten the 2D array of subplots\n",
    "\n",
    "    for i, column_name in enumerate(column_names):\n",
    "        # Check if the column_name exists in the DataFrame\n",
    "        if column_name not in dataframe.columns:\n",
    "            print(f\"Error: Column '{column_name}' not found in the DataFrame.\")\n",
    "            continue\n",
    "\n",
    "        # Create the box plot\n",
    "        axs[i].boxplot(dataframe[column_name])\n",
    "        axs[i].set_xlabel(column_name.capitalize())\n",
    "        axs[i].set_ylabel('Value')\n",
    "        axs[i].set_title(f'Box Plot of {column_name.capitalize()}')\n",
    "\n",
    "    # Hide any remaining empty subplots\n",
    "    for j in range(num_plots, num_rows * num_cols):\n",
    "        axs[j].axis('off')\n",
    "\n",
    "    plt.tight_layout()\n",
    "    plt.show()"
   ]
  },
  {
   "cell_type": "code",
   "execution_count": 360,
   "metadata": {},
   "outputs": [
    {
     "data": {
      "image/png": "[encoded data removed]",
      "text/plain": [
       "<Figure size 1500x1000 with 6 Axes>"
      ]
     },
     "metadata": {},
     "output_type": "display_data"
    }
   ],
   "source": [
    "plot_histograms(column_names=num_cols)"
   ]
  },
  {
   "cell_type": "code",
   "execution_count": 361,
   "metadata": {},
   "outputs": [
    {
     "data": {
      "image/png": "[encoded data removed]",
      "text/plain": [
       "<Figure size 1500x1000 with 6 Axes>"
      ]
     },
     "metadata": {},
     "output_type": "display_data"
    }
   ],
   "source": [
    "plot_boxplots(column_names=num_cols)"
   ]
  },
  {
   "cell_type": "markdown",
   "metadata": {},
   "source": [
    "**Functions to Creating New Features**"
   ]
  },
  {
   "cell_type": "code",
   "execution_count": 362,
   "metadata": {},
   "outputs": [],
   "source": [
    "def create_features(df=df):\n",
    "    \n",
    "    # Create a new feature by divided 'Air temperature' from 'Process temperature'\n",
    "    df[\"Temperature_ratio\"] = df['Process_temperature_K'] / df['Air_temperature_K']\n",
    "    \n",
    "    # Create a new feature by multiplying 'Torque' and 'Rotational speed'\n",
    "    df['Torque * Rotational_speed'] = df['Torque_Nm'] * df['Rotational_speed_rpm']\n",
    "\n",
    "    # Create a new feature by multiplying 'Torque' by 'Tool wear'\n",
    "    df['Torque * Tool wear'] = df['Torque_Nm'] * df['Tool_wear_min']\n",
    "\n",
    "    # Create a new feature by multiplying 'Torque' by 'Rotational speed'\n",
    "    df['Torque * Rotational_speed'] = df['Torque_Nm'] * df['Rotational_speed_rpm']\n",
    "    \n",
    "    return df"
   ]
  },
  {
   "cell_type": "code",
   "execution_count": 363,
   "metadata": {},
   "outputs": [],
   "source": [
    "df=create_features()\n",
    "X_test=create_features(df=X_test)"
   ]
  },
  {
   "cell_type": "code",
   "execution_count": 364,
   "metadata": {},
   "outputs": [],
   "source": [
    "new_Features=['Temperature_ratio','Torque * Rotational_speed','Torque * Tool wear','Torque * Rotational_speed']"
   ]
  },
  {
   "cell_type": "code",
   "execution_count": 365,
   "metadata": {},
   "outputs": [
    {
     "data": {
      "text/html": [
       "<div>\n",
       "<style scoped>\n",
       "    .dataframe tbody tr th:only-of-type {\n",
       "        vertical-align: middle;\n",
       "    }\n",
       "\n",
       "    .dataframe tbody tr th {\n",
       "        vertical-align: top;\n",
       "    }\n",
       "\n",
       "    .dataframe thead th {\n",
       "        text-align: right;\n",
       "    }\n",
       "</style>\n",
       "<table border=\"1\" class=\"dataframe\">\n",
       "  <thead>\n",
       "    <tr style=\"text-align: right;\">\n",
       "      <th></th>\n",
       "      <th>Product_ID</th>\n",
       "      <th>Type</th>\n",
       "      <th>Air_temperature_K</th>\n",
       "      <th>Process_temperature_K</th>\n",
       "      <th>Rotational_speed_rpm</th>\n",
       "      <th>Torque_Nm</th>\n",
       "      <th>Tool_wear_min</th>\n",
       "      <th>Machine_failure</th>\n",
       "      <th>TWF</th>\n",
       "      <th>HDF</th>\n",
       "      <th>PWF</th>\n",
       "      <th>OSF</th>\n",
       "      <th>RNF</th>\n",
       "      <th>Temperature_ratio</th>\n",
       "      <th>Torque * Rotational_speed</th>\n",
       "      <th>Torque * Tool wear</th>\n",
       "    </tr>\n",
       "  </thead>\n",
       "  <tbody>\n",
       "    <tr>\n",
       "      <th>0</th>\n",
       "      <td>L50096</td>\n",
       "      <td>L</td>\n",
       "      <td>300.6</td>\n",
       "      <td>309.6</td>\n",
       "      <td>1596</td>\n",
       "      <td>36.1</td>\n",
       "      <td>140</td>\n",
       "      <td>0</td>\n",
       "      <td>0</td>\n",
       "      <td>0</td>\n",
       "      <td>0</td>\n",
       "      <td>0</td>\n",
       "      <td>0</td>\n",
       "      <td>1.029940</td>\n",
       "      <td>57615.6</td>\n",
       "      <td>5054.0</td>\n",
       "    </tr>\n",
       "    <tr>\n",
       "      <th>1</th>\n",
       "      <td>M20343</td>\n",
       "      <td>M</td>\n",
       "      <td>302.6</td>\n",
       "      <td>312.1</td>\n",
       "      <td>1759</td>\n",
       "      <td>29.1</td>\n",
       "      <td>200</td>\n",
       "      <td>0</td>\n",
       "      <td>0</td>\n",
       "      <td>0</td>\n",
       "      <td>0</td>\n",
       "      <td>0</td>\n",
       "      <td>0</td>\n",
       "      <td>1.031395</td>\n",
       "      <td>51186.9</td>\n",
       "      <td>5820.0</td>\n",
       "    </tr>\n",
       "    <tr>\n",
       "      <th>2</th>\n",
       "      <td>L49454</td>\n",
       "      <td>L</td>\n",
       "      <td>299.3</td>\n",
       "      <td>308.5</td>\n",
       "      <td>1805</td>\n",
       "      <td>26.5</td>\n",
       "      <td>25</td>\n",
       "      <td>0</td>\n",
       "      <td>0</td>\n",
       "      <td>0</td>\n",
       "      <td>0</td>\n",
       "      <td>0</td>\n",
       "      <td>0</td>\n",
       "      <td>1.030738</td>\n",
       "      <td>47832.5</td>\n",
       "      <td>662.5</td>\n",
       "    </tr>\n",
       "    <tr>\n",
       "      <th>3</th>\n",
       "      <td>L53355</td>\n",
       "      <td>L</td>\n",
       "      <td>301.0</td>\n",
       "      <td>310.9</td>\n",
       "      <td>1524</td>\n",
       "      <td>44.3</td>\n",
       "      <td>197</td>\n",
       "      <td>0</td>\n",
       "      <td>0</td>\n",
       "      <td>0</td>\n",
       "      <td>0</td>\n",
       "      <td>0</td>\n",
       "      <td>0</td>\n",
       "      <td>1.032890</td>\n",
       "      <td>67513.2</td>\n",
       "      <td>8727.1</td>\n",
       "    </tr>\n",
       "    <tr>\n",
       "      <th>4</th>\n",
       "      <td>M24050</td>\n",
       "      <td>M</td>\n",
       "      <td>298.0</td>\n",
       "      <td>309.0</td>\n",
       "      <td>1641</td>\n",
       "      <td>35.4</td>\n",
       "      <td>34</td>\n",
       "      <td>0</td>\n",
       "      <td>0</td>\n",
       "      <td>0</td>\n",
       "      <td>0</td>\n",
       "      <td>0</td>\n",
       "      <td>0</td>\n",
       "      <td>1.036913</td>\n",
       "      <td>58091.4</td>\n",
       "      <td>1203.6</td>\n",
       "    </tr>\n",
       "  </tbody>\n",
       "</table>\n",
       "</div>"
      ],
      "text/plain": [
       "  Product_ID Type  Air_temperature_K  Process_temperature_K  \\\n",
       "0     L50096    L              300.6                  309.6   \n",
       "1     M20343    M              302.6                  312.1   \n",
       "2     L49454    L              299.3                  308.5   \n",
       "3     L53355    L              301.0                  310.9   \n",
       "4     M24050    M              298.0                  309.0   \n",
       "\n",
       "   Rotational_speed_rpm  Torque_Nm  Tool_wear_min  Machine_failure  TWF  HDF  \\\n",
       "0                  1596       36.1            140                0    0    0   \n",
       "1                  1759       29.1            200                0    0    0   \n",
       "2                  1805       26.5             25                0    0    0   \n",
       "3                  1524       44.3            197                0    0    0   \n",
       "4                  1641       35.4             34                0    0    0   \n",
       "\n",
       "   PWF  OSF  RNF  Temperature_ratio  Torque * Rotational_speed  \\\n",
       "0    0    0    0           1.029940                    57615.6   \n",
       "1    0    0    0           1.031395                    51186.9   \n",
       "2    0    0    0           1.030738                    47832.5   \n",
       "3    0    0    0           1.032890                    67513.2   \n",
       "4    0    0    0           1.036913                    58091.4   \n",
       "\n",
       "   Torque * Tool wear  \n",
       "0              5054.0  \n",
       "1              5820.0  \n",
       "2               662.5  \n",
       "3              8727.1  \n",
       "4              1203.6  "
      ]
     },
     "execution_count": 365,
     "metadata": {},
     "output_type": "execute_result"
    }
   ],
   "source": [
    "df.head()"
   ]
  },
  {
   "cell_type": "code",
   "execution_count": 366,
   "metadata": {},
   "outputs": [
    {
     "data": {
      "image/png": "[encoded data removed]",
      "text/plain": [
       "<Figure size 1500x1000 with 6 Axes>"
      ]
     },
     "metadata": {},
     "output_type": "display_data"
    }
   ],
   "source": [
    "plot_histograms(column_names=new_Features)"
   ]
  },
  {
   "cell_type": "code",
   "execution_count": 367,
   "metadata": {},
   "outputs": [
    {
     "data": {
      "image/png": "[encoded data removed]",
      "text/plain": [
       "<Figure size 1500x1000 with 6 Axes>"
      ]
     },
     "metadata": {},
     "output_type": "display_data"
    }
   ],
   "source": [
    "plot_boxplots(column_names=new_Features)"
   ]
  },
  {
   "cell_type": "markdown",
   "metadata": {},
   "source": [
    "### Categorical Columns"
   ]
  },
  {
   "cell_type": "code",
   "execution_count": 368,
   "metadata": {},
   "outputs": [
    {
     "data": {
      "text/plain": [
       "['Product_ID', 'Type']"
      ]
     },
     "execution_count": 368,
     "metadata": {},
     "output_type": "execute_result"
    }
   ],
   "source": [
    "cat_cols"
   ]
  },
  {
   "cell_type": "code",
   "execution_count": 369,
   "metadata": {},
   "outputs": [],
   "source": [
    "def plot_unique_value_counts(column_names,dataframe=df):\n",
    "    \"\"\"\n",
    "    Function to plot the number of unique values and their percentages for specific columns in the given DataFrame.\n",
    "\n",
    "    Parameters:\n",
    "    dataframe (pandas.DataFrame): The DataFrame containing the data.\n",
    "    column_names (list): List of column names for which the unique value counts will be plotted.\n",
    "\n",
    "    Returns:\n",
    "    None\n",
    "    \"\"\"\n",
    "    num_plots = len(column_names)\n",
    "\n",
    "    # Calculate the number of rows and columns for the subplot grid\n",
    "    num_rows = (num_plots + 2) // 3\n",
    "    num_cols = min(num_plots, 3)\n",
    "\n",
    "    # Create a single plot for all columns\n",
    "    fig, axs = plt.subplots(num_rows, num_cols, figsize=(15, num_rows * 5))\n",
    "    axs = axs.ravel()\n",
    "\n",
    "    for i, column_name in enumerate(column_names):\n",
    "        # Check if the column_name exists in the DataFrame\n",
    "        if column_name not in dataframe.columns:\n",
    "            print(f\"Error: Column '{column_name}' not found in the DataFrame.\")\n",
    "            continue\n",
    "\n",
    "        # Get the unique value counts and their percentages for the column\n",
    "        unique_value_counts = dataframe[column_name].nunique()\n",
    "        total_values = len(dataframe[column_name])\n",
    "        percentage = (unique_value_counts / total_values) * 100\n",
    "\n",
    "        # Create the bar plot\n",
    "        axs[i].bar([f'Unique Values'], [unique_value_counts], color='skyblue')\n",
    "        axs[i].set_xlabel(column_name.capitalize())\n",
    "        axs[i].set_ylabel('Number of Unique Values')\n",
    "        axs[i].set_title(f'Number of Unique Values for {column_name.capitalize()}')\n",
    "\n",
    "        # Annotate the bar plot with percentage values\n",
    "        axs[i].text(0.5, 0.8, f'{percentage:.2f}%\\n({unique_value_counts}/{total_values})',\n",
    "                    horizontalalignment='center', verticalalignment='center', transform=axs[i].transAxes)\n",
    "\n",
    "    # Hide any remaining empty subplots\n",
    "    for j in range(num_plots, num_rows * num_cols):\n",
    "        axs[j].axis('off')\n",
    "\n",
    "    plt.tight_layout()\n",
    "    plt.show()"
   ]
  },
  {
   "cell_type": "code",
   "execution_count": 370,
   "metadata": {},
   "outputs": [
    {
     "data": {
      "image/png": "[encoded data removed]",
      "text/plain": [
       "<Figure size 1500x500 with 2 Axes>"
      ]
     },
     "metadata": {},
     "output_type": "display_data"
    }
   ],
   "source": [
    "plot_unique_value_counts(column_names=cat_cols)"
   ]
  },
  {
   "cell_type": "code",
   "execution_count": 371,
   "metadata": {},
   "outputs": [
    {
     "data": {
      "text/plain": [
       "Product_ID    9976\n",
       "dtype: int64"
      ]
     },
     "execution_count": 371,
     "metadata": {},
     "output_type": "execute_result"
    }
   ],
   "source": [
    "df[['Product_ID']].nunique()"
   ]
  },
  {
   "cell_type": "code",
   "execution_count": 372,
   "metadata": {},
   "outputs": [
    {
     "data": {
      "text/plain": [
       "Type    3\n",
       "dtype: int64"
      ]
     },
     "execution_count": 372,
     "metadata": {},
     "output_type": "execute_result"
    }
   ],
   "source": [
    "df[['Type']].nunique()"
   ]
  },
  {
   "cell_type": "code",
   "execution_count": 373,
   "metadata": {},
   "outputs": [],
   "source": [
    "from category_encoders import OrdinalEncoder"
   ]
  },
  {
   "cell_type": "code",
   "execution_count": 374,
   "metadata": {},
   "outputs": [],
   "source": [
    "def cat_encoder(df, cat_cols=cat_cols, handle_missing='value', handle_unknown='value'):\n",
    "    \"\"\"\n",
    "    Encode categorical columns in the DataFrame using label encoding.\n",
    "\n",
    "    Parameters:\n",
    "        df (pd.DataFrame): Data with categorical columns to encode.\n",
    "        cat_cols (list): List of column names to encode.\n",
    "        handle_missing (str): Strategy for handling missing values: 'value' or 'return_nan'.\n",
    "        handle_unknown (str): Strategy for handling unknown categories: 'value' or 'return_nan'.\n",
    "\n",
    "    Returns:\n",
    "        df (pd.DataFrame): DataFrame with label-encoded categorical columns.\n",
    "        encoder (OrdinalEncoder): The fitted ordinal encoder object.\n",
    "    \"\"\"\n",
    "    from copy import deepcopy\n",
    "    import pandas as pd\n",
    "\n",
    "    # Validate inputs\n",
    "    if not isinstance(df, pd.DataFrame):\n",
    "        raise ValueError(\"df must be a pandas DataFrame.\")\n",
    "    if not set(cat_cols).issubset(df.columns):\n",
    "        raise ValueError(\"cat_cols must be a subset of columns in df.\")\n",
    "\n",
    "    # Make a copy to avoid modifying the original data\n",
    "    df = deepcopy(df)\n",
    "\n",
    "    # Label Encoder\n",
    "    encoder = OrdinalEncoder(cols=cat_cols, handle_missing=handle_missing, handle_unknown=handle_unknown)\n",
    "    df[cat_cols] = encoder.fit_transform(df[cat_cols]).astype(int)\n",
    "\n",
    "    return df, encoder"
   ]
  },
  {
   "cell_type": "code",
   "execution_count": 375,
   "metadata": {},
   "outputs": [],
   "source": [
    "df, encoder=cat_encoder(df=df)"
   ]
  },
  {
   "cell_type": "code",
   "execution_count": 376,
   "metadata": {},
   "outputs": [],
   "source": [
    "X_test,encoder=cat_encoder(df=X_test)"
   ]
  },
  {
   "cell_type": "code",
   "execution_count": 377,
   "metadata": {},
   "outputs": [
    {
     "data": {
      "text/html": [
       "<div>\n",
       "<style scoped>\n",
       "    .dataframe tbody tr th:only-of-type {\n",
       "        vertical-align: middle;\n",
       "    }\n",
       "\n",
       "    .dataframe tbody tr th {\n",
       "        vertical-align: top;\n",
       "    }\n",
       "\n",
       "    .dataframe thead th {\n",
       "        text-align: right;\n",
       "    }\n",
       "</style>\n",
       "<table border=\"1\" class=\"dataframe\">\n",
       "  <thead>\n",
       "    <tr style=\"text-align: right;\">\n",
       "      <th></th>\n",
       "      <th>Product_ID</th>\n",
       "      <th>Type</th>\n",
       "      <th>Air_temperature_K</th>\n",
       "      <th>Process_temperature_K</th>\n",
       "      <th>Rotational_speed_rpm</th>\n",
       "      <th>Torque_Nm</th>\n",
       "      <th>Tool_wear_min</th>\n",
       "      <th>Machine_failure</th>\n",
       "      <th>TWF</th>\n",
       "      <th>HDF</th>\n",
       "      <th>PWF</th>\n",
       "      <th>OSF</th>\n",
       "      <th>RNF</th>\n",
       "      <th>Temperature_ratio</th>\n",
       "      <th>Torque * Rotational_speed</th>\n",
       "      <th>Torque * Tool wear</th>\n",
       "    </tr>\n",
       "  </thead>\n",
       "  <tbody>\n",
       "    <tr>\n",
       "      <th>0</th>\n",
       "      <td>1</td>\n",
       "      <td>1</td>\n",
       "      <td>300.6</td>\n",
       "      <td>309.6</td>\n",
       "      <td>1596</td>\n",
       "      <td>36.1</td>\n",
       "      <td>140</td>\n",
       "      <td>0</td>\n",
       "      <td>0</td>\n",
       "      <td>0</td>\n",
       "      <td>0</td>\n",
       "      <td>0</td>\n",
       "      <td>0</td>\n",
       "      <td>1.029940</td>\n",
       "      <td>57615.6</td>\n",
       "      <td>5054.0</td>\n",
       "    </tr>\n",
       "    <tr>\n",
       "      <th>1</th>\n",
       "      <td>2</td>\n",
       "      <td>2</td>\n",
       "      <td>302.6</td>\n",
       "      <td>312.1</td>\n",
       "      <td>1759</td>\n",
       "      <td>29.1</td>\n",
       "      <td>200</td>\n",
       "      <td>0</td>\n",
       "      <td>0</td>\n",
       "      <td>0</td>\n",
       "      <td>0</td>\n",
       "      <td>0</td>\n",
       "      <td>0</td>\n",
       "      <td>1.031395</td>\n",
       "      <td>51186.9</td>\n",
       "      <td>5820.0</td>\n",
       "    </tr>\n",
       "    <tr>\n",
       "      <th>2</th>\n",
       "      <td>3</td>\n",
       "      <td>1</td>\n",
       "      <td>299.3</td>\n",
       "      <td>308.5</td>\n",
       "      <td>1805</td>\n",
       "      <td>26.5</td>\n",
       "      <td>25</td>\n",
       "      <td>0</td>\n",
       "      <td>0</td>\n",
       "      <td>0</td>\n",
       "      <td>0</td>\n",
       "      <td>0</td>\n",
       "      <td>0</td>\n",
       "      <td>1.030738</td>\n",
       "      <td>47832.5</td>\n",
       "      <td>662.5</td>\n",
       "    </tr>\n",
       "    <tr>\n",
       "      <th>3</th>\n",
       "      <td>4</td>\n",
       "      <td>1</td>\n",
       "      <td>301.0</td>\n",
       "      <td>310.9</td>\n",
       "      <td>1524</td>\n",
       "      <td>44.3</td>\n",
       "      <td>197</td>\n",
       "      <td>0</td>\n",
       "      <td>0</td>\n",
       "      <td>0</td>\n",
       "      <td>0</td>\n",
       "      <td>0</td>\n",
       "      <td>0</td>\n",
       "      <td>1.032890</td>\n",
       "      <td>67513.2</td>\n",
       "      <td>8727.1</td>\n",
       "    </tr>\n",
       "    <tr>\n",
       "      <th>4</th>\n",
       "      <td>5</td>\n",
       "      <td>2</td>\n",
       "      <td>298.0</td>\n",
       "      <td>309.0</td>\n",
       "      <td>1641</td>\n",
       "      <td>35.4</td>\n",
       "      <td>34</td>\n",
       "      <td>0</td>\n",
       "      <td>0</td>\n",
       "      <td>0</td>\n",
       "      <td>0</td>\n",
       "      <td>0</td>\n",
       "      <td>0</td>\n",
       "      <td>1.036913</td>\n",
       "      <td>58091.4</td>\n",
       "      <td>1203.6</td>\n",
       "    </tr>\n",
       "    <tr>\n",
       "      <th>...</th>\n",
       "      <td>...</td>\n",
       "      <td>...</td>\n",
       "      <td>...</td>\n",
       "      <td>...</td>\n",
       "      <td>...</td>\n",
       "      <td>...</td>\n",
       "      <td>...</td>\n",
       "      <td>...</td>\n",
       "      <td>...</td>\n",
       "      <td>...</td>\n",
       "      <td>...</td>\n",
       "      <td>...</td>\n",
       "      <td>...</td>\n",
       "      <td>...</td>\n",
       "      <td>...</td>\n",
       "      <td>...</td>\n",
       "    </tr>\n",
       "    <tr>\n",
       "      <th>136424</th>\n",
       "      <td>607</td>\n",
       "      <td>2</td>\n",
       "      <td>300.1</td>\n",
       "      <td>311.4</td>\n",
       "      <td>1530</td>\n",
       "      <td>37.5</td>\n",
       "      <td>210</td>\n",
       "      <td>0</td>\n",
       "      <td>0</td>\n",
       "      <td>0</td>\n",
       "      <td>0</td>\n",
       "      <td>0</td>\n",
       "      <td>0</td>\n",
       "      <td>1.037654</td>\n",
       "      <td>57375.0</td>\n",
       "      <td>7875.0</td>\n",
       "    </tr>\n",
       "    <tr>\n",
       "      <th>136425</th>\n",
       "      <td>9103</td>\n",
       "      <td>3</td>\n",
       "      <td>297.5</td>\n",
       "      <td>308.5</td>\n",
       "      <td>1447</td>\n",
       "      <td>49.1</td>\n",
       "      <td>2</td>\n",
       "      <td>0</td>\n",
       "      <td>0</td>\n",
       "      <td>0</td>\n",
       "      <td>0</td>\n",
       "      <td>0</td>\n",
       "      <td>0</td>\n",
       "      <td>1.036975</td>\n",
       "      <td>71047.7</td>\n",
       "      <td>98.2</td>\n",
       "    </tr>\n",
       "    <tr>\n",
       "      <th>136426</th>\n",
       "      <td>4659</td>\n",
       "      <td>1</td>\n",
       "      <td>300.5</td>\n",
       "      <td>311.8</td>\n",
       "      <td>1524</td>\n",
       "      <td>38.5</td>\n",
       "      <td>214</td>\n",
       "      <td>0</td>\n",
       "      <td>0</td>\n",
       "      <td>0</td>\n",
       "      <td>0</td>\n",
       "      <td>0</td>\n",
       "      <td>0</td>\n",
       "      <td>1.037604</td>\n",
       "      <td>58674.0</td>\n",
       "      <td>8239.0</td>\n",
       "    </tr>\n",
       "    <tr>\n",
       "      <th>136427</th>\n",
       "      <td>912</td>\n",
       "      <td>1</td>\n",
       "      <td>301.7</td>\n",
       "      <td>310.9</td>\n",
       "      <td>1447</td>\n",
       "      <td>46.3</td>\n",
       "      <td>42</td>\n",
       "      <td>0</td>\n",
       "      <td>0</td>\n",
       "      <td>0</td>\n",
       "      <td>0</td>\n",
       "      <td>0</td>\n",
       "      <td>0</td>\n",
       "      <td>1.030494</td>\n",
       "      <td>66996.1</td>\n",
       "      <td>1944.6</td>\n",
       "    </tr>\n",
       "    <tr>\n",
       "      <th>136428</th>\n",
       "      <td>6147</td>\n",
       "      <td>1</td>\n",
       "      <td>296.9</td>\n",
       "      <td>308.1</td>\n",
       "      <td>1557</td>\n",
       "      <td>39.3</td>\n",
       "      <td>229</td>\n",
       "      <td>0</td>\n",
       "      <td>0</td>\n",
       "      <td>0</td>\n",
       "      <td>0</td>\n",
       "      <td>0</td>\n",
       "      <td>0</td>\n",
       "      <td>1.037723</td>\n",
       "      <td>61190.1</td>\n",
       "      <td>8999.7</td>\n",
       "    </tr>\n",
       "  </tbody>\n",
       "</table>\n",
       "<p>136429 rows × 16 columns</p>\n",
       "</div>"
      ],
      "text/plain": [
       "        Product_ID  Type  Air_temperature_K  Process_temperature_K  \\\n",
       "0                1     1              300.6                  309.6   \n",
       "1                2     2              302.6                  312.1   \n",
       "2                3     1              299.3                  308.5   \n",
       "3                4     1              301.0                  310.9   \n",
       "4                5     2              298.0                  309.0   \n",
       "...            ...   ...                ...                    ...   \n",
       "136424         607     2              300.1                  311.4   \n",
       "136425        9103     3              297.5                  308.5   \n",
       "136426        4659     1              300.5                  311.8   \n",
       "136427         912     1              301.7                  310.9   \n",
       "136428        6147     1              296.9                  308.1   \n",
       "\n",
       "        Rotational_speed_rpm  Torque_Nm  Tool_wear_min  Machine_failure  TWF  \\\n",
       "0                       1596       36.1            140                0    0   \n",
       "1                       1759       29.1            200                0    0   \n",
       "2                       1805       26.5             25                0    0   \n",
       "3                       1524       44.3            197                0    0   \n",
       "4                       1641       35.4             34                0    0   \n",
       "...                      ...        ...            ...              ...  ...   \n",
       "136424                  1530       37.5            210                0    0   \n",
       "136425                  1447       49.1              2                0    0   \n",
       "136426                  1524       38.5            214                0    0   \n",
       "136427                  1447       46.3             42                0    0   \n",
       "136428                  1557       39.3            229                0    0   \n",
       "\n",
       "        HDF  PWF  OSF  RNF  Temperature_ratio  Torque * Rotational_speed  \\\n",
       "0         0    0    0    0           1.029940                    57615.6   \n",
       "1         0    0    0    0           1.031395                    51186.9   \n",
       "2         0    0    0    0           1.030738                    47832.5   \n",
       "3         0    0    0    0           1.032890                    67513.2   \n",
       "4         0    0    0    0           1.036913                    58091.4   \n",
       "...     ...  ...  ...  ...                ...                        ...   \n",
       "136424    0    0    0    0           1.037654                    57375.0   \n",
       "136425    0    0    0    0           1.036975                    71047.7   \n",
       "136426    0    0    0    0           1.037604                    58674.0   \n",
       "136427    0    0    0    0           1.030494                    66996.1   \n",
       "136428    0    0    0    0           1.037723                    61190.1   \n",
       "\n",
       "        Torque * Tool wear  \n",
       "0                   5054.0  \n",
       "1                   5820.0  \n",
       "2                    662.5  \n",
       "3                   8727.1  \n",
       "4                   1203.6  \n",
       "...                    ...  \n",
       "136424              7875.0  \n",
       "136425                98.2  \n",
       "136426              8239.0  \n",
       "136427              1944.6  \n",
       "136428              8999.7  \n",
       "\n",
       "[136429 rows x 16 columns]"
      ]
     },
     "execution_count": 377,
     "metadata": {},
     "output_type": "execute_result"
    }
   ],
   "source": [
    "df"
   ]
  },
  {
   "cell_type": "markdown",
   "metadata": {},
   "source": [
    "### Traget Column "
   ]
  },
  {
   "cell_type": "code",
   "execution_count": 378,
   "metadata": {},
   "outputs": [
    {
     "data": {
      "text/plain": [
       "'Machine_failure'"
      ]
     },
     "execution_count": 378,
     "metadata": {},
     "output_type": "execute_result"
    }
   ],
   "source": [
    "target_col"
   ]
  },
  {
   "cell_type": "code",
   "execution_count": 379,
   "metadata": {},
   "outputs": [
    {
     "data": {
      "text/plain": [
       "2"
      ]
     },
     "execution_count": 379,
     "metadata": {},
     "output_type": "execute_result"
    }
   ],
   "source": [
    "df[target_col].nunique()"
   ]
  },
  {
   "cell_type": "code",
   "execution_count": 380,
   "metadata": {},
   "outputs": [
    {
     "data": {
      "image/png": "[encoded data removed]",
      "text/plain": [
       "<Figure size 800x600 with 1 Axes>"
      ]
     },
     "metadata": {},
     "output_type": "display_data"
    }
   ],
   "source": [
    "\n",
    "def plot_unique_value_percentage(df, target_column):\n",
    "    # Get the counts of unique values in the target column\n",
    "    value_counts = df[target_column].value_counts()\n",
    "    \n",
    "    # Calculate the percentage of each unique value\n",
    "    total_values = len(df)\n",
    "    percentages = (value_counts / total_values) * 100\n",
    "    \n",
    "    # Plot the percentage of unique values\n",
    "    plt.figure(figsize=(8, 6))\n",
    "    plt.bar(percentages.index, percentages.values)\n",
    "    plt.xlabel(target_column)\n",
    "    plt.ylabel('Percentage (%)')\n",
    "    plt.title(f'Percentage of Unique Values in {target_column}')\n",
    "    plt.xticks(rotation=90)\n",
    "    plt.show()\n",
    "    \n",
    "plot_unique_value_percentage(df=df,target_column='Machine_failure')"
   ]
  },
  {
   "cell_type": "markdown",
   "metadata": {},
   "source": [
    "### Input and Target"
   ]
  },
  {
   "cell_type": "code",
   "execution_count": 381,
   "metadata": {},
   "outputs": [],
   "source": [
    "X_train=df.drop(columns='Machine_failure',axis=1)\n",
    "y_train=df['Machine_failure']"
   ]
  },
  {
   "cell_type": "code",
   "execution_count": 382,
   "metadata": {},
   "outputs": [
    {
     "data": {
      "text/plain": [
       "(136429,)"
      ]
     },
     "execution_count": 382,
     "metadata": {},
     "output_type": "execute_result"
    }
   ],
   "source": [
    "y_train.shape"
   ]
  },
  {
   "cell_type": "code",
   "execution_count": 383,
   "metadata": {},
   "outputs": [],
   "source": [
    "X_test=X_test.drop(columns='id',axis=1)"
   ]
  },
  {
   "cell_type": "code",
   "execution_count": 384,
   "metadata": {},
   "outputs": [
    {
     "data": {
      "text/html": [
       "<div>\n",
       "<style scoped>\n",
       "    .dataframe tbody tr th:only-of-type {\n",
       "        vertical-align: middle;\n",
       "    }\n",
       "\n",
       "    .dataframe tbody tr th {\n",
       "        vertical-align: top;\n",
       "    }\n",
       "\n",
       "    .dataframe thead th {\n",
       "        text-align: right;\n",
       "    }\n",
       "</style>\n",
       "<table border=\"1\" class=\"dataframe\">\n",
       "  <thead>\n",
       "    <tr style=\"text-align: right;\">\n",
       "      <th></th>\n",
       "      <th>Product_ID</th>\n",
       "      <th>Type</th>\n",
       "      <th>Air_temperature_K</th>\n",
       "      <th>Process_temperature_K</th>\n",
       "      <th>Rotational_speed_rpm</th>\n",
       "      <th>Torque_Nm</th>\n",
       "      <th>Tool_wear_min</th>\n",
       "      <th>TWF</th>\n",
       "      <th>HDF</th>\n",
       "      <th>PWF</th>\n",
       "      <th>OSF</th>\n",
       "      <th>RNF</th>\n",
       "      <th>Temperature_ratio</th>\n",
       "      <th>Torque * Rotational_speed</th>\n",
       "      <th>Torque * Tool wear</th>\n",
       "    </tr>\n",
       "  </thead>\n",
       "  <tbody>\n",
       "    <tr>\n",
       "      <th>0</th>\n",
       "      <td>1</td>\n",
       "      <td>1</td>\n",
       "      <td>300.6</td>\n",
       "      <td>309.6</td>\n",
       "      <td>1596</td>\n",
       "      <td>36.1</td>\n",
       "      <td>140</td>\n",
       "      <td>0</td>\n",
       "      <td>0</td>\n",
       "      <td>0</td>\n",
       "      <td>0</td>\n",
       "      <td>0</td>\n",
       "      <td>1.029940</td>\n",
       "      <td>57615.6</td>\n",
       "      <td>5054.0</td>\n",
       "    </tr>\n",
       "    <tr>\n",
       "      <th>1</th>\n",
       "      <td>2</td>\n",
       "      <td>2</td>\n",
       "      <td>302.6</td>\n",
       "      <td>312.1</td>\n",
       "      <td>1759</td>\n",
       "      <td>29.1</td>\n",
       "      <td>200</td>\n",
       "      <td>0</td>\n",
       "      <td>0</td>\n",
       "      <td>0</td>\n",
       "      <td>0</td>\n",
       "      <td>0</td>\n",
       "      <td>1.031395</td>\n",
       "      <td>51186.9</td>\n",
       "      <td>5820.0</td>\n",
       "    </tr>\n",
       "    <tr>\n",
       "      <th>2</th>\n",
       "      <td>3</td>\n",
       "      <td>1</td>\n",
       "      <td>299.3</td>\n",
       "      <td>308.5</td>\n",
       "      <td>1805</td>\n",
       "      <td>26.5</td>\n",
       "      <td>25</td>\n",
       "      <td>0</td>\n",
       "      <td>0</td>\n",
       "      <td>0</td>\n",
       "      <td>0</td>\n",
       "      <td>0</td>\n",
       "      <td>1.030738</td>\n",
       "      <td>47832.5</td>\n",
       "      <td>662.5</td>\n",
       "    </tr>\n",
       "    <tr>\n",
       "      <th>3</th>\n",
       "      <td>4</td>\n",
       "      <td>1</td>\n",
       "      <td>301.0</td>\n",
       "      <td>310.9</td>\n",
       "      <td>1524</td>\n",
       "      <td>44.3</td>\n",
       "      <td>197</td>\n",
       "      <td>0</td>\n",
       "      <td>0</td>\n",
       "      <td>0</td>\n",
       "      <td>0</td>\n",
       "      <td>0</td>\n",
       "      <td>1.032890</td>\n",
       "      <td>67513.2</td>\n",
       "      <td>8727.1</td>\n",
       "    </tr>\n",
       "    <tr>\n",
       "      <th>4</th>\n",
       "      <td>5</td>\n",
       "      <td>2</td>\n",
       "      <td>298.0</td>\n",
       "      <td>309.0</td>\n",
       "      <td>1641</td>\n",
       "      <td>35.4</td>\n",
       "      <td>34</td>\n",
       "      <td>0</td>\n",
       "      <td>0</td>\n",
       "      <td>0</td>\n",
       "      <td>0</td>\n",
       "      <td>0</td>\n",
       "      <td>1.036913</td>\n",
       "      <td>58091.4</td>\n",
       "      <td>1203.6</td>\n",
       "    </tr>\n",
       "    <tr>\n",
       "      <th>...</th>\n",
       "      <td>...</td>\n",
       "      <td>...</td>\n",
       "      <td>...</td>\n",
       "      <td>...</td>\n",
       "      <td>...</td>\n",
       "      <td>...</td>\n",
       "      <td>...</td>\n",
       "      <td>...</td>\n",
       "      <td>...</td>\n",
       "      <td>...</td>\n",
       "      <td>...</td>\n",
       "      <td>...</td>\n",
       "      <td>...</td>\n",
       "      <td>...</td>\n",
       "      <td>...</td>\n",
       "    </tr>\n",
       "    <tr>\n",
       "      <th>136424</th>\n",
       "      <td>607</td>\n",
       "      <td>2</td>\n",
       "      <td>300.1</td>\n",
       "      <td>311.4</td>\n",
       "      <td>1530</td>\n",
       "      <td>37.5</td>\n",
       "      <td>210</td>\n",
       "      <td>0</td>\n",
       "      <td>0</td>\n",
       "      <td>0</td>\n",
       "      <td>0</td>\n",
       "      <td>0</td>\n",
       "      <td>1.037654</td>\n",
       "      <td>57375.0</td>\n",
       "      <td>7875.0</td>\n",
       "    </tr>\n",
       "    <tr>\n",
       "      <th>136425</th>\n",
       "      <td>9103</td>\n",
       "      <td>3</td>\n",
       "      <td>297.5</td>\n",
       "      <td>308.5</td>\n",
       "      <td>1447</td>\n",
       "      <td>49.1</td>\n",
       "      <td>2</td>\n",
       "      <td>0</td>\n",
       "      <td>0</td>\n",
       "      <td>0</td>\n",
       "      <td>0</td>\n",
       "      <td>0</td>\n",
       "      <td>1.036975</td>\n",
       "      <td>71047.7</td>\n",
       "      <td>98.2</td>\n",
       "    </tr>\n",
       "    <tr>\n",
       "      <th>136426</th>\n",
       "      <td>4659</td>\n",
       "      <td>1</td>\n",
       "      <td>300.5</td>\n",
       "      <td>311.8</td>\n",
       "      <td>1524</td>\n",
       "      <td>38.5</td>\n",
       "      <td>214</td>\n",
       "      <td>0</td>\n",
       "      <td>0</td>\n",
       "      <td>0</td>\n",
       "      <td>0</td>\n",
       "      <td>0</td>\n",
       "      <td>1.037604</td>\n",
       "      <td>58674.0</td>\n",
       "      <td>8239.0</td>\n",
       "    </tr>\n",
       "    <tr>\n",
       "      <th>136427</th>\n",
       "      <td>912</td>\n",
       "      <td>1</td>\n",
       "      <td>301.7</td>\n",
       "      <td>310.9</td>\n",
       "      <td>1447</td>\n",
       "      <td>46.3</td>\n",
       "      <td>42</td>\n",
       "      <td>0</td>\n",
       "      <td>0</td>\n",
       "      <td>0</td>\n",
       "      <td>0</td>\n",
       "      <td>0</td>\n",
       "      <td>1.030494</td>\n",
       "      <td>66996.1</td>\n",
       "      <td>1944.6</td>\n",
       "    </tr>\n",
       "    <tr>\n",
       "      <th>136428</th>\n",
       "      <td>6147</td>\n",
       "      <td>1</td>\n",
       "      <td>296.9</td>\n",
       "      <td>308.1</td>\n",
       "      <td>1557</td>\n",
       "      <td>39.3</td>\n",
       "      <td>229</td>\n",
       "      <td>0</td>\n",
       "      <td>0</td>\n",
       "      <td>0</td>\n",
       "      <td>0</td>\n",
       "      <td>0</td>\n",
       "      <td>1.037723</td>\n",
       "      <td>61190.1</td>\n",
       "      <td>8999.7</td>\n",
       "    </tr>\n",
       "  </tbody>\n",
       "</table>\n",
       "<p>136429 rows × 15 columns</p>\n",
       "</div>"
      ],
      "text/plain": [
       "        Product_ID  Type  Air_temperature_K  Process_temperature_K  \\\n",
       "0                1     1              300.6                  309.6   \n",
       "1                2     2              302.6                  312.1   \n",
       "2                3     1              299.3                  308.5   \n",
       "3                4     1              301.0                  310.9   \n",
       "4                5     2              298.0                  309.0   \n",
       "...            ...   ...                ...                    ...   \n",
       "136424         607     2              300.1                  311.4   \n",
       "136425        9103     3              297.5                  308.5   \n",
       "136426        4659     1              300.5                  311.8   \n",
       "136427         912     1              301.7                  310.9   \n",
       "136428        6147     1              296.9                  308.1   \n",
       "\n",
       "        Rotational_speed_rpm  Torque_Nm  Tool_wear_min  TWF  HDF  PWF  OSF  \\\n",
       "0                       1596       36.1            140    0    0    0    0   \n",
       "1                       1759       29.1            200    0    0    0    0   \n",
       "2                       1805       26.5             25    0    0    0    0   \n",
       "3                       1524       44.3            197    0    0    0    0   \n",
       "4                       1641       35.4             34    0    0    0    0   \n",
       "...                      ...        ...            ...  ...  ...  ...  ...   \n",
       "136424                  1530       37.5            210    0    0    0    0   \n",
       "136425                  1447       49.1              2    0    0    0    0   \n",
       "136426                  1524       38.5            214    0    0    0    0   \n",
       "136427                  1447       46.3             42    0    0    0    0   \n",
       "136428                  1557       39.3            229    0    0    0    0   \n",
       "\n",
       "        RNF  Temperature_ratio  Torque * Rotational_speed  Torque * Tool wear  \n",
       "0         0           1.029940                    57615.6              5054.0  \n",
       "1         0           1.031395                    51186.9              5820.0  \n",
       "2         0           1.030738                    47832.5               662.5  \n",
       "3         0           1.032890                    67513.2              8727.1  \n",
       "4         0           1.036913                    58091.4              1203.6  \n",
       "...     ...                ...                        ...                 ...  \n",
       "136424    0           1.037654                    57375.0              7875.0  \n",
       "136425    0           1.036975                    71047.7                98.2  \n",
       "136426    0           1.037604                    58674.0              8239.0  \n",
       "136427    0           1.030494                    66996.1              1944.6  \n",
       "136428    0           1.037723                    61190.1              8999.7  \n",
       "\n",
       "[136429 rows x 15 columns]"
      ]
     },
     "execution_count": 384,
     "metadata": {},
     "output_type": "execute_result"
    }
   ],
   "source": [
    "X_train"
   ]
  },
  {
   "cell_type": "markdown",
   "metadata": {},
   "source": [
    "### Scaling "
   ]
  },
  {
   "cell_type": "code",
   "execution_count": 385,
   "metadata": {},
   "outputs": [],
   "source": [
    "from sklearn.pipeline import Pipeline\n",
    "from sklearn.preprocessing import StandardScaler,MinMaxScaler\n",
    "from sklearn.compose import ColumnTransformer\n",
    "\n",
    "scaler = MinMaxScaler()\n",
    "\n",
    "preprocessor = ColumnTransformer(transformers=[('num', scaler, X_train.columns)])\n",
    "\n",
    "pipeline = Pipeline(steps=[('preprocessor', preprocessor)])\n",
    "\n",
    "X_train_scaled = pipeline.fit_transform(X_train)\n",
    "\n",
    "X_train_scaled = pd.DataFrame(X_train_scaled, columns=X_train.columns)"
   ]
  },
  {
   "cell_type": "code",
   "execution_count": 386,
   "metadata": {},
   "outputs": [],
   "source": [
    "scaler = MinMaxScaler()\n",
    "\n",
    "preprocessor = ColumnTransformer(transformers=[('num', scaler, X_test.columns)])\n",
    "\n",
    "pipeline = Pipeline(steps=[('preprocessor', preprocessor)])\n",
    "\n",
    "\n",
    "X_test_scaled = pipeline.fit_transform(X_test)\n",
    "\n",
    "X_test_scaled = pd.DataFrame(X_test_scaled, columns=X_test.columns)"
   ]
  },
  {
   "cell_type": "code",
   "execution_count": 387,
   "metadata": {},
   "outputs": [
    {
     "data": {
      "text/html": [
       "<div>\n",
       "<style scoped>\n",
       "    .dataframe tbody tr th:only-of-type {\n",
       "        vertical-align: middle;\n",
       "    }\n",
       "\n",
       "    .dataframe tbody tr th {\n",
       "        vertical-align: top;\n",
       "    }\n",
       "\n",
       "    .dataframe thead th {\n",
       "        text-align: right;\n",
       "    }\n",
       "</style>\n",
       "<table border=\"1\" class=\"dataframe\">\n",
       "  <thead>\n",
       "    <tr style=\"text-align: right;\">\n",
       "      <th></th>\n",
       "      <th>Product_ID</th>\n",
       "      <th>Type</th>\n",
       "      <th>Air_temperature_K</th>\n",
       "      <th>Process_temperature_K</th>\n",
       "      <th>Rotational_speed_rpm</th>\n",
       "      <th>Torque_Nm</th>\n",
       "      <th>Tool_wear_min</th>\n",
       "      <th>TWF</th>\n",
       "      <th>HDF</th>\n",
       "      <th>PWF</th>\n",
       "      <th>OSF</th>\n",
       "      <th>RNF</th>\n",
       "      <th>Temperature_ratio</th>\n",
       "      <th>Torque * Rotational_speed</th>\n",
       "      <th>Torque * Tool wear</th>\n",
       "    </tr>\n",
       "  </thead>\n",
       "  <tbody>\n",
       "    <tr>\n",
       "      <th>0</th>\n",
       "      <td>0.000000</td>\n",
       "      <td>0.0</td>\n",
       "      <td>0.582418</td>\n",
       "      <td>0.4750</td>\n",
       "      <td>0.243402</td>\n",
       "      <td>0.443681</td>\n",
       "      <td>0.553360</td>\n",
       "      <td>0.0</td>\n",
       "      <td>0.0</td>\n",
       "      <td>0.0</td>\n",
       "      <td>0.0</td>\n",
       "      <td>0.0</td>\n",
       "      <td>0.484141</td>\n",
       "      <td>0.352222</td>\n",
       "      <td>0.323792</td>\n",
       "    </tr>\n",
       "    <tr>\n",
       "      <th>1</th>\n",
       "      <td>0.000100</td>\n",
       "      <td>0.5</td>\n",
       "      <td>0.802198</td>\n",
       "      <td>0.7875</td>\n",
       "      <td>0.339003</td>\n",
       "      <td>0.347527</td>\n",
       "      <td>0.790514</td>\n",
       "      <td>0.0</td>\n",
       "      <td>0.0</td>\n",
       "      <td>0.0</td>\n",
       "      <td>0.0</td>\n",
       "      <td>0.0</td>\n",
       "      <td>0.520445</td>\n",
       "      <td>0.308497</td>\n",
       "      <td>0.372867</td>\n",
       "    </tr>\n",
       "    <tr>\n",
       "      <th>2</th>\n",
       "      <td>0.000201</td>\n",
       "      <td>0.0</td>\n",
       "      <td>0.439560</td>\n",
       "      <td>0.3375</td>\n",
       "      <td>0.365982</td>\n",
       "      <td>0.311813</td>\n",
       "      <td>0.098814</td>\n",
       "      <td>0.0</td>\n",
       "      <td>0.0</td>\n",
       "      <td>0.0</td>\n",
       "      <td>0.0</td>\n",
       "      <td>0.0</td>\n",
       "      <td>0.504066</td>\n",
       "      <td>0.285682</td>\n",
       "      <td>0.042444</td>\n",
       "    </tr>\n",
       "    <tr>\n",
       "      <th>3</th>\n",
       "      <td>0.000301</td>\n",
       "      <td>0.0</td>\n",
       "      <td>0.626374</td>\n",
       "      <td>0.6375</td>\n",
       "      <td>0.201173</td>\n",
       "      <td>0.556319</td>\n",
       "      <td>0.778656</td>\n",
       "      <td>0.0</td>\n",
       "      <td>0.0</td>\n",
       "      <td>0.0</td>\n",
       "      <td>0.0</td>\n",
       "      <td>0.0</td>\n",
       "      <td>0.557780</td>\n",
       "      <td>0.419540</td>\n",
       "      <td>0.559114</td>\n",
       "    </tr>\n",
       "    <tr>\n",
       "      <th>4</th>\n",
       "      <td>0.000401</td>\n",
       "      <td>0.5</td>\n",
       "      <td>0.296703</td>\n",
       "      <td>0.4000</td>\n",
       "      <td>0.269795</td>\n",
       "      <td>0.434066</td>\n",
       "      <td>0.134387</td>\n",
       "      <td>0.0</td>\n",
       "      <td>0.0</td>\n",
       "      <td>0.0</td>\n",
       "      <td>0.0</td>\n",
       "      <td>0.0</td>\n",
       "      <td>0.658180</td>\n",
       "      <td>0.355458</td>\n",
       "      <td>0.077110</td>\n",
       "    </tr>\n",
       "    <tr>\n",
       "      <th>...</th>\n",
       "      <td>...</td>\n",
       "      <td>...</td>\n",
       "      <td>...</td>\n",
       "      <td>...</td>\n",
       "      <td>...</td>\n",
       "      <td>...</td>\n",
       "      <td>...</td>\n",
       "      <td>...</td>\n",
       "      <td>...</td>\n",
       "      <td>...</td>\n",
       "      <td>...</td>\n",
       "      <td>...</td>\n",
       "      <td>...</td>\n",
       "      <td>...</td>\n",
       "      <td>...</td>\n",
       "    </tr>\n",
       "    <tr>\n",
       "      <th>136424</th>\n",
       "      <td>0.060752</td>\n",
       "      <td>0.5</td>\n",
       "      <td>0.527473</td>\n",
       "      <td>0.7000</td>\n",
       "      <td>0.204692</td>\n",
       "      <td>0.462912</td>\n",
       "      <td>0.830040</td>\n",
       "      <td>0.0</td>\n",
       "      <td>0.0</td>\n",
       "      <td>0.0</td>\n",
       "      <td>0.0</td>\n",
       "      <td>0.0</td>\n",
       "      <td>0.676685</td>\n",
       "      <td>0.350586</td>\n",
       "      <td>0.504523</td>\n",
       "    </tr>\n",
       "    <tr>\n",
       "      <th>136425</th>\n",
       "      <td>0.912481</td>\n",
       "      <td>1.0</td>\n",
       "      <td>0.241758</td>\n",
       "      <td>0.3375</td>\n",
       "      <td>0.156012</td>\n",
       "      <td>0.622253</td>\n",
       "      <td>0.007905</td>\n",
       "      <td>0.0</td>\n",
       "      <td>0.0</td>\n",
       "      <td>0.0</td>\n",
       "      <td>0.0</td>\n",
       "      <td>0.0</td>\n",
       "      <td>0.659729</td>\n",
       "      <td>0.443580</td>\n",
       "      <td>0.006291</td>\n",
       "    </tr>\n",
       "    <tr>\n",
       "      <th>136426</th>\n",
       "      <td>0.466967</td>\n",
       "      <td>0.0</td>\n",
       "      <td>0.571429</td>\n",
       "      <td>0.7500</td>\n",
       "      <td>0.201173</td>\n",
       "      <td>0.476648</td>\n",
       "      <td>0.845850</td>\n",
       "      <td>0.0</td>\n",
       "      <td>0.0</td>\n",
       "      <td>0.0</td>\n",
       "      <td>0.0</td>\n",
       "      <td>0.0</td>\n",
       "      <td>0.675434</td>\n",
       "      <td>0.359421</td>\n",
       "      <td>0.527843</td>\n",
       "    </tr>\n",
       "    <tr>\n",
       "      <th>136427</th>\n",
       "      <td>0.091328</td>\n",
       "      <td>0.0</td>\n",
       "      <td>0.703297</td>\n",
       "      <td>0.6375</td>\n",
       "      <td>0.156012</td>\n",
       "      <td>0.583791</td>\n",
       "      <td>0.166008</td>\n",
       "      <td>0.0</td>\n",
       "      <td>0.0</td>\n",
       "      <td>0.0</td>\n",
       "      <td>0.0</td>\n",
       "      <td>0.0</td>\n",
       "      <td>0.497963</td>\n",
       "      <td>0.416023</td>\n",
       "      <td>0.124584</td>\n",
       "    </tr>\n",
       "    <tr>\n",
       "      <th>136428</th>\n",
       "      <td>0.616140</td>\n",
       "      <td>0.0</td>\n",
       "      <td>0.175824</td>\n",
       "      <td>0.2875</td>\n",
       "      <td>0.220528</td>\n",
       "      <td>0.487637</td>\n",
       "      <td>0.905138</td>\n",
       "      <td>0.0</td>\n",
       "      <td>0.0</td>\n",
       "      <td>0.0</td>\n",
       "      <td>0.0</td>\n",
       "      <td>0.0</td>\n",
       "      <td>0.678408</td>\n",
       "      <td>0.376534</td>\n",
       "      <td>0.576579</td>\n",
       "    </tr>\n",
       "  </tbody>\n",
       "</table>\n",
       "<p>136429 rows × 15 columns</p>\n",
       "</div>"
      ],
      "text/plain": [
       "        Product_ID  Type  Air_temperature_K  Process_temperature_K  \\\n",
       "0         0.000000   0.0           0.582418                 0.4750   \n",
       "1         0.000100   0.5           0.802198                 0.7875   \n",
       "2         0.000201   0.0           0.439560                 0.3375   \n",
       "3         0.000301   0.0           0.626374                 0.6375   \n",
       "4         0.000401   0.5           0.296703                 0.4000   \n",
       "...            ...   ...                ...                    ...   \n",
       "136424    0.060752   0.5           0.527473                 0.7000   \n",
       "136425    0.912481   1.0           0.241758                 0.3375   \n",
       "136426    0.466967   0.0           0.571429                 0.7500   \n",
       "136427    0.091328   0.0           0.703297                 0.6375   \n",
       "136428    0.616140   0.0           0.175824                 0.2875   \n",
       "\n",
       "        Rotational_speed_rpm  Torque_Nm  Tool_wear_min  TWF  HDF  PWF  OSF  \\\n",
       "0                   0.243402   0.443681       0.553360  0.0  0.0  0.0  0.0   \n",
       "1                   0.339003   0.347527       0.790514  0.0  0.0  0.0  0.0   \n",
       "2                   0.365982   0.311813       0.098814  0.0  0.0  0.0  0.0   \n",
       "3                   0.201173   0.556319       0.778656  0.0  0.0  0.0  0.0   \n",
       "4                   0.269795   0.434066       0.134387  0.0  0.0  0.0  0.0   \n",
       "...                      ...        ...            ...  ...  ...  ...  ...   \n",
       "136424              0.204692   0.462912       0.830040  0.0  0.0  0.0  0.0   \n",
       "136425              0.156012   0.622253       0.007905  0.0  0.0  0.0  0.0   \n",
       "136426              0.201173   0.476648       0.845850  0.0  0.0  0.0  0.0   \n",
       "136427              0.156012   0.583791       0.166008  0.0  0.0  0.0  0.0   \n",
       "136428              0.220528   0.487637       0.905138  0.0  0.0  0.0  0.0   \n",
       "\n",
       "        RNF  Temperature_ratio  Torque * Rotational_speed  Torque * Tool wear  \n",
       "0       0.0           0.484141                   0.352222            0.323792  \n",
       "1       0.0           0.520445                   0.308497            0.372867  \n",
       "2       0.0           0.504066                   0.285682            0.042444  \n",
       "3       0.0           0.557780                   0.419540            0.559114  \n",
       "4       0.0           0.658180                   0.355458            0.077110  \n",
       "...     ...                ...                        ...                 ...  \n",
       "136424  0.0           0.676685                   0.350586            0.504523  \n",
       "136425  0.0           0.659729                   0.443580            0.006291  \n",
       "136426  0.0           0.675434                   0.359421            0.527843  \n",
       "136427  0.0           0.497963                   0.416023            0.124584  \n",
       "136428  0.0           0.678408                   0.376534            0.576579  \n",
       "\n",
       "[136429 rows x 15 columns]"
      ]
     },
     "execution_count": 387,
     "metadata": {},
     "output_type": "execute_result"
    }
   ],
   "source": [
    "X_train_scaled"
   ]
  },
  {
   "cell_type": "code",
   "execution_count": 388,
   "metadata": {},
   "outputs": [
    {
     "data": {
      "text/html": [
       "<div>\n",
       "<style scoped>\n",
       "    .dataframe tbody tr th:only-of-type {\n",
       "        vertical-align: middle;\n",
       "    }\n",
       "\n",
       "    .dataframe tbody tr th {\n",
       "        vertical-align: top;\n",
       "    }\n",
       "\n",
       "    .dataframe thead th {\n",
       "        text-align: right;\n",
       "    }\n",
       "</style>\n",
       "<table border=\"1\" class=\"dataframe\">\n",
       "  <thead>\n",
       "    <tr style=\"text-align: right;\">\n",
       "      <th></th>\n",
       "      <th>Product_ID</th>\n",
       "      <th>Type</th>\n",
       "      <th>Air_temperature_K</th>\n",
       "      <th>Process_temperature_K</th>\n",
       "      <th>Rotational_speed_rpm</th>\n",
       "      <th>Torque_Nm</th>\n",
       "      <th>Tool_wear_min</th>\n",
       "      <th>TWF</th>\n",
       "      <th>HDF</th>\n",
       "      <th>PWF</th>\n",
       "      <th>OSF</th>\n",
       "      <th>RNF</th>\n",
       "      <th>Temperature_ratio</th>\n",
       "      <th>Torque * Rotational_speed</th>\n",
       "      <th>Torque * Tool wear</th>\n",
       "    </tr>\n",
       "  </thead>\n",
       "  <tbody>\n",
       "    <tr>\n",
       "      <th>0</th>\n",
       "      <td>0.000000</td>\n",
       "      <td>0.0</td>\n",
       "      <td>0.769231</td>\n",
       "      <td>0.716049</td>\n",
       "      <td>0.192666</td>\n",
       "      <td>0.469780</td>\n",
       "      <td>0.237154</td>\n",
       "      <td>0.0</td>\n",
       "      <td>0.0</td>\n",
       "      <td>0.0</td>\n",
       "      <td>0.0</td>\n",
       "      <td>0.0</td>\n",
       "      <td>0.454345</td>\n",
       "      <td>0.294539</td>\n",
       "      <td>0.138442</td>\n",
       "    </tr>\n",
       "    <tr>\n",
       "      <th>1</th>\n",
       "      <td>0.000101</td>\n",
       "      <td>0.0</td>\n",
       "      <td>0.703297</td>\n",
       "      <td>0.654321</td>\n",
       "      <td>0.317229</td>\n",
       "      <td>0.343407</td>\n",
       "      <td>0.067194</td>\n",
       "      <td>0.0</td>\n",
       "      <td>0.0</td>\n",
       "      <td>0.0</td>\n",
       "      <td>0.0</td>\n",
       "      <td>0.0</td>\n",
       "      <td>0.463927</td>\n",
       "      <td>0.249698</td>\n",
       "      <td>0.029729</td>\n",
       "    </tr>\n",
       "    <tr>\n",
       "      <th>2</th>\n",
       "      <td>0.000202</td>\n",
       "      <td>0.0</td>\n",
       "      <td>0.659341</td>\n",
       "      <td>0.580247</td>\n",
       "      <td>0.207800</td>\n",
       "      <td>0.465659</td>\n",
       "      <td>0.379447</td>\n",
       "      <td>0.0</td>\n",
       "      <td>0.0</td>\n",
       "      <td>0.0</td>\n",
       "      <td>0.0</td>\n",
       "      <td>0.0</td>\n",
       "      <td>0.448701</td>\n",
       "      <td>0.297658</td>\n",
       "      <td>0.219758</td>\n",
       "    </tr>\n",
       "    <tr>\n",
       "      <th>3</th>\n",
       "      <td>0.000303</td>\n",
       "      <td>0.5</td>\n",
       "      <td>0.527473</td>\n",
       "      <td>0.481481</td>\n",
       "      <td>0.181024</td>\n",
       "      <td>0.601648</td>\n",
       "      <td>0.019763</td>\n",
       "      <td>0.0</td>\n",
       "      <td>0.0</td>\n",
       "      <td>0.0</td>\n",
       "      <td>0.0</td>\n",
       "      <td>0.0</td>\n",
       "      <td>0.484234</td>\n",
       "      <td>0.373541</td>\n",
       "      <td>0.014451</td>\n",
       "    </tr>\n",
       "    <tr>\n",
       "      <th>4</th>\n",
       "      <td>0.000404</td>\n",
       "      <td>0.5</td>\n",
       "      <td>0.890110</td>\n",
       "      <td>0.814815</td>\n",
       "      <td>0.201979</td>\n",
       "      <td>0.515110</td>\n",
       "      <td>0.450593</td>\n",
       "      <td>0.0</td>\n",
       "      <td>0.0</td>\n",
       "      <td>0.0</td>\n",
       "      <td>0.0</td>\n",
       "      <td>0.0</td>\n",
       "      <td>0.427478</td>\n",
       "      <td>0.327505</td>\n",
       "      <td>0.285883</td>\n",
       "    </tr>\n",
       "    <tr>\n",
       "      <th>...</th>\n",
       "      <td>...</td>\n",
       "      <td>...</td>\n",
       "      <td>...</td>\n",
       "      <td>...</td>\n",
       "      <td>...</td>\n",
       "      <td>...</td>\n",
       "      <td>...</td>\n",
       "      <td>...</td>\n",
       "      <td>...</td>\n",
       "      <td>...</td>\n",
       "      <td>...</td>\n",
       "      <td>...</td>\n",
       "      <td>...</td>\n",
       "      <td>...</td>\n",
       "      <td>...</td>\n",
       "    </tr>\n",
       "    <tr>\n",
       "      <th>90949</th>\n",
       "      <td>0.537142</td>\n",
       "      <td>0.0</td>\n",
       "      <td>0.769231</td>\n",
       "      <td>0.703704</td>\n",
       "      <td>0.183935</td>\n",
       "      <td>0.502747</td>\n",
       "      <td>0.059289</td>\n",
       "      <td>0.0</td>\n",
       "      <td>0.0</td>\n",
       "      <td>0.0</td>\n",
       "      <td>0.0</td>\n",
       "      <td>0.0</td>\n",
       "      <td>0.446259</td>\n",
       "      <td>0.312126</td>\n",
       "      <td>0.036796</td>\n",
       "    </tr>\n",
       "    <tr>\n",
       "      <th>90950</th>\n",
       "      <td>0.273920</td>\n",
       "      <td>0.0</td>\n",
       "      <td>0.285714</td>\n",
       "      <td>0.506173</td>\n",
       "      <td>0.217695</td>\n",
       "      <td>0.412088</td>\n",
       "      <td>0.122530</td>\n",
       "      <td>0.0</td>\n",
       "      <td>0.0</td>\n",
       "      <td>0.0</td>\n",
       "      <td>0.0</td>\n",
       "      <td>0.0</td>\n",
       "      <td>0.686878</td>\n",
       "      <td>0.266072</td>\n",
       "      <td>0.063623</td>\n",
       "    </tr>\n",
       "    <tr>\n",
       "      <th>90951</th>\n",
       "      <td>0.222245</td>\n",
       "      <td>0.0</td>\n",
       "      <td>0.032967</td>\n",
       "      <td>0.061728</td>\n",
       "      <td>0.193830</td>\n",
       "      <td>0.516484</td>\n",
       "      <td>0.739130</td>\n",
       "      <td>0.0</td>\n",
       "      <td>0.0</td>\n",
       "      <td>0.0</td>\n",
       "      <td>0.0</td>\n",
       "      <td>0.0</td>\n",
       "      <td>0.586975</td>\n",
       "      <td>0.324988</td>\n",
       "      <td>0.470083</td>\n",
       "    </tr>\n",
       "    <tr>\n",
       "      <th>90952</th>\n",
       "      <td>0.634235</td>\n",
       "      <td>0.0</td>\n",
       "      <td>0.307692</td>\n",
       "      <td>0.259259</td>\n",
       "      <td>0.213038</td>\n",
       "      <td>0.501374</td>\n",
       "      <td>0.272727</td>\n",
       "      <td>0.0</td>\n",
       "      <td>0.0</td>\n",
       "      <td>0.0</td>\n",
       "      <td>0.0</td>\n",
       "      <td>0.0</td>\n",
       "      <td>0.505826</td>\n",
       "      <td>0.323100</td>\n",
       "      <td>0.168844</td>\n",
       "    </tr>\n",
       "    <tr>\n",
       "      <th>90953</th>\n",
       "      <td>0.662192</td>\n",
       "      <td>0.0</td>\n",
       "      <td>0.901099</td>\n",
       "      <td>0.876543</td>\n",
       "      <td>0.213038</td>\n",
       "      <td>0.443681</td>\n",
       "      <td>0.363636</td>\n",
       "      <td>0.0</td>\n",
       "      <td>0.0</td>\n",
       "      <td>0.0</td>\n",
       "      <td>0.0</td>\n",
       "      <td>0.0</td>\n",
       "      <td>0.459458</td>\n",
       "      <td>0.285224</td>\n",
       "      <td>0.201664</td>\n",
       "    </tr>\n",
       "  </tbody>\n",
       "</table>\n",
       "<p>90954 rows × 15 columns</p>\n",
       "</div>"
      ],
      "text/plain": [
       "       Product_ID  Type  Air_temperature_K  Process_temperature_K  \\\n",
       "0        0.000000   0.0           0.769231               0.716049   \n",
       "1        0.000101   0.0           0.703297               0.654321   \n",
       "2        0.000202   0.0           0.659341               0.580247   \n",
       "3        0.000303   0.5           0.527473               0.481481   \n",
       "4        0.000404   0.5           0.890110               0.814815   \n",
       "...           ...   ...                ...                    ...   \n",
       "90949    0.537142   0.0           0.769231               0.703704   \n",
       "90950    0.273920   0.0           0.285714               0.506173   \n",
       "90951    0.222245   0.0           0.032967               0.061728   \n",
       "90952    0.634235   0.0           0.307692               0.259259   \n",
       "90953    0.662192   0.0           0.901099               0.876543   \n",
       "\n",
       "       Rotational_speed_rpm  Torque_Nm  Tool_wear_min  TWF  HDF  PWF  OSF  \\\n",
       "0                  0.192666   0.469780       0.237154  0.0  0.0  0.0  0.0   \n",
       "1                  0.317229   0.343407       0.067194  0.0  0.0  0.0  0.0   \n",
       "2                  0.207800   0.465659       0.379447  0.0  0.0  0.0  0.0   \n",
       "3                  0.181024   0.601648       0.019763  0.0  0.0  0.0  0.0   \n",
       "4                  0.201979   0.515110       0.450593  0.0  0.0  0.0  0.0   \n",
       "...                     ...        ...            ...  ...  ...  ...  ...   \n",
       "90949              0.183935   0.502747       0.059289  0.0  0.0  0.0  0.0   \n",
       "90950              0.217695   0.412088       0.122530  0.0  0.0  0.0  0.0   \n",
       "90951              0.193830   0.516484       0.739130  0.0  0.0  0.0  0.0   \n",
       "90952              0.213038   0.501374       0.272727  0.0  0.0  0.0  0.0   \n",
       "90953              0.213038   0.443681       0.363636  0.0  0.0  0.0  0.0   \n",
       "\n",
       "       RNF  Temperature_ratio  Torque * Rotational_speed  Torque * Tool wear  \n",
       "0      0.0           0.454345                   0.294539            0.138442  \n",
       "1      0.0           0.463927                   0.249698            0.029729  \n",
       "2      0.0           0.448701                   0.297658            0.219758  \n",
       "3      0.0           0.484234                   0.373541            0.014451  \n",
       "4      0.0           0.427478                   0.327505            0.285883  \n",
       "...    ...                ...                        ...                 ...  \n",
       "90949  0.0           0.446259                   0.312126            0.036796  \n",
       "90950  0.0           0.686878                   0.266072            0.063623  \n",
       "90951  0.0           0.586975                   0.324988            0.470083  \n",
       "90952  0.0           0.505826                   0.323100            0.168844  \n",
       "90953  0.0           0.459458                   0.285224            0.201664  \n",
       "\n",
       "[90954 rows x 15 columns]"
      ]
     },
     "execution_count": 388,
     "metadata": {},
     "output_type": "execute_result"
    }
   ],
   "source": [
    "X_test_scaled"
   ]
  },
  {
   "cell_type": "markdown",
   "metadata": {},
   "source": [
    "# Handeling Impbalance data "
   ]
  },
  {
   "cell_type": "code",
   "execution_count": 389,
   "metadata": {},
   "outputs": [],
   "source": [
    "from imblearn.over_sampling import SMOTE\n",
    "\n",
    "smote = SMOTE(random_state=42)\n",
    "X_train_scaled, y_train = smote.fit_resample(X_train_scaled, y_train)"
   ]
  },
  {
   "cell_type": "markdown",
   "metadata": {},
   "source": [
    "# Handeling outliers using Z-score"
   ]
  },
  {
   "cell_type": "code",
   "execution_count": 390,
   "metadata": {},
   "outputs": [],
   "source": [
    "from scipy import stats\n",
    "\n",
    "def remove_outliers(df, threshold=3):\n",
    "    z_scores = np.abs(stats.zscore(df))\n",
    "    return df[(z_scores < threshold).all(axis=1)]\n",
    "\n",
    "X_train_scaled = remove_outliers(X_train_scaled)\n",
    "y_train = y_train.loc[X_train_scaled.index]\n"
   ]
  },
  {
   "cell_type": "markdown",
   "metadata": {},
   "source": [
    "### Splitter"
   ]
  },
  {
   "cell_type": "code",
   "execution_count": 391,
   "metadata": {},
   "outputs": [],
   "source": [
    "from sklearn.model_selection import train_test_split, KFold, StratifiedKFold\n",
    "import pandas as pd"
   ]
  },
  {
   "cell_type": "code",
   "execution_count": 392,
   "metadata": {},
   "outputs": [],
   "source": [
    "class Splitter:\n",
    "    def __init__(self, kfold=True, n_splits=5, cat_df=pd.DataFrame(), test_size=0.3):\n",
    "        self.n_splits = n_splits\n",
    "        self.kfold = kfold\n",
    "        self.cat_df = cat_df\n",
    "        self.test_size = test_size\n",
    "\n",
    "    def split_data(self, X, y, random_state_list=[42]):\n",
    "\n",
    "        for random_state in random_state_list:\n",
    "            kf = StratifiedKFold(n_splits=self.n_splits, random_state=random_state, shuffle=True)\n",
    "            for train_index, val_index in kf.split(X, self.cat_df):\n",
    "                X_train, X_val = X.iloc[train_index], X.iloc[val_index]\n",
    "                y_train, y_val = y.iloc[train_index], y.iloc[val_index]\n",
    "                yield X_train, X_val, y_train, y_val, val_index                        "
   ]
  },
  {
   "cell_type": "markdown",
   "metadata": {},
   "source": [
    "### Models"
   ]
  },
  {
   "cell_type": "code",
   "execution_count": 393,
   "metadata": {},
   "outputs": [],
   "source": [
    "import lightgbm as lgb\n",
    "from catboost import CatBoostClassifier\n",
    "import xgboost as xgb\n",
    "from sklearn.metrics import roc_auc_score, roc_curve\n",
    "import matplotlib.pyplot as plt\n",
    "from sklearn.model_selection import GridSearchCV\n",
    "\n",
    "\n",
    "class ModelClassifier:\n",
    "    def __init__(self):\n",
    "        self.model_dict = {\n",
    "            'LightGBM': lgb.LGBMClassifier(verbose=0),\n",
    "            'CatBoost': CatBoostClassifier(silent=True, iterations=50),\n",
    "            'XgBoost': xgb.XGBClassifier()\n",
    "        }\n",
    "        self.params = {\n",
    "                        'LightGBM': {\n",
    "                            'num_leaves': (10, 60),\n",
    "                            'learning_rate': (0.01, 0.5),\n",
    "                            'min_data_in_leaf': (10, 50),\n",
    "                            'feature_fraction': (0.1, 0.9), \n",
    "                            'bagging_fraction': (0.5, 1.0)   \n",
    "                        },\n",
    "                        'CatBoost': {\n",
    "                            'depth': (6, 16),\n",
    "                            'learning_rate': (0.0, 0.5),\n",
    "                            'l2_leaf_reg': (1, 10),\n",
    "                            'iterations': (30, 30)\n",
    "            \n",
    "                        },\n",
    "                        'XgBoost': {\n",
    "                            'max_depth': (3, 50),\n",
    "                            'learning_rate': (0.01, 0.4),\n",
    "                            'n_estimators': (100, 500),\n",
    "                            'min_child_weight': (1, 10)   \n",
    "                        }\n",
    "                    }   \n",
    "\n",
    "    def fit_with_params(self, model_name, X, y):\n",
    "        model = self.model_dict.get(model_name)\n",
    "        if model:\n",
    "            params = self.params.get(model_name, None)\n",
    "            if params:\n",
    "                print(f\"Fitting {model_name} with specified parameters...\")\n",
    "                model.set_params(**params)\n",
    "            else:\n",
    "                print(f\"Fitting {model_name} with default parameters.\")\n",
    "                # Implement fitting logic with default parameters\n",
    "\n",
    "            return model.fit(X, y)\n",
    "        else:\n",
    "            raise ValueError(f\"Model {model_name} not found. Please set the model first.\")\n",
    "\n",
    "    def fit_without_params(self, model_name, X, y):\n",
    "        model = self.model_dict.get(model_name)\n",
    "        if model:\n",
    "            print(f\"Fitting {model_name} without parameters.\")\n",
    "            return model.fit(X, y)\n",
    "        else:\n",
    "            raise ValueError(f\"Model {model_name} not found. Please set the model first.\")"
   ]
  },
  {
   "cell_type": "markdown",
   "metadata": {},
   "source": [
    "### Model Predict"
   ]
  },
  {
   "cell_type": "code",
   "execution_count": 394,
   "metadata": {},
   "outputs": [
    {
     "name": "stdout",
     "output_type": "stream",
     "text": [
      "Requirement already satisfied: tqdm in .\\venv\\lib\\site-packages (4.66.4)\n",
      "Requirement already satisfied: colorama in .\\venv\\lib\\site-packages (from tqdm) (0.4.6)\n"
     ]
    },
    {
     "name": "stderr",
     "output_type": "stream",
     "text": [
      "\n",
      "[notice] A new release of pip available: 22.3.1 -> 24.1.1\n",
      "[notice] To update, run: python.exe -m pip install --upgrade pip\n"
     ]
    }
   ],
   "source": [
    "!pip install tqdm"
   ]
  },
  {
   "cell_type": "code",
   "execution_count": 395,
   "metadata": {},
   "outputs": [],
   "source": [
    "from tqdm import tqdm"
   ]
  },
  {
   "cell_type": "code",
   "execution_count": 396,
   "metadata": {},
   "outputs": [
    {
     "name": "stdout",
     "output_type": "stream",
     "text": [
      "Fitting model LightGBM\n"
     ]
    },
    {
     "name": "stderr",
     "output_type": "stream",
     "text": [
      "0it [00:00, ?it/s]"
     ]
    },
    {
     "name": "stdout",
     "output_type": "stream",
     "text": [
      "Fitting LightGBM without parameters.\n",
      "[LightGBM] [Warning] Found whitespace in feature_names, replace with underlines\n"
     ]
    },
    {
     "name": "stderr",
     "output_type": "stream",
     "text": [
      "1it [00:02,  2.26s/it]"
     ]
    },
    {
     "name": "stdout",
     "output_type": "stream",
     "text": [
      "Fitting LightGBM without parameters.\n",
      "[LightGBM] [Warning] Found whitespace in feature_names, replace with underlines\n"
     ]
    },
    {
     "name": "stderr",
     "output_type": "stream",
     "text": [
      "2it [00:04,  2.26s/it]"
     ]
    },
    {
     "name": "stdout",
     "output_type": "stream",
     "text": [
      "Fitting LightGBM without parameters.\n",
      "[LightGBM] [Warning] Found whitespace in feature_names, replace with underlines\n"
     ]
    },
    {
     "name": "stderr",
     "output_type": "stream",
     "text": [
      "3it [00:06,  2.21s/it]"
     ]
    },
    {
     "name": "stdout",
     "output_type": "stream",
     "text": [
      "Fitting LightGBM without parameters.\n",
      "[LightGBM] [Warning] Found whitespace in feature_names, replace with underlines\n"
     ]
    },
    {
     "name": "stderr",
     "output_type": "stream",
     "text": [
      "4it [00:08,  2.11s/it]"
     ]
    },
    {
     "name": "stdout",
     "output_type": "stream",
     "text": [
      "Fitting LightGBM without parameters.\n",
      "[LightGBM] [Warning] Found whitespace in feature_names, replace with underlines\n"
     ]
    },
    {
     "name": "stderr",
     "output_type": "stream",
     "text": [
      "5it [00:10,  2.03s/it]"
     ]
    },
    {
     "name": "stdout",
     "output_type": "stream",
     "text": [
      "Fitting LightGBM without parameters.\n",
      "[LightGBM] [Warning] Found whitespace in feature_names, replace with underlines\n"
     ]
    },
    {
     "name": "stderr",
     "output_type": "stream",
     "text": [
      "6it [00:12,  2.00s/it]"
     ]
    },
    {
     "name": "stdout",
     "output_type": "stream",
     "text": [
      "Fitting LightGBM without parameters.\n",
      "[LightGBM] [Warning] Found whitespace in feature_names, replace with underlines\n"
     ]
    },
    {
     "name": "stderr",
     "output_type": "stream",
     "text": [
      "7it [00:14,  1.97s/it]"
     ]
    },
    {
     "name": "stdout",
     "output_type": "stream",
     "text": [
      "Fitting LightGBM without parameters.\n",
      "[LightGBM] [Warning] Found whitespace in feature_names, replace with underlines\n"
     ]
    },
    {
     "name": "stderr",
     "output_type": "stream",
     "text": [
      "8it [00:16,  1.95s/it]"
     ]
    },
    {
     "name": "stdout",
     "output_type": "stream",
     "text": [
      "Fitting LightGBM without parameters.\n",
      "[LightGBM] [Warning] Found whitespace in feature_names, replace with underlines\n"
     ]
    },
    {
     "name": "stderr",
     "output_type": "stream",
     "text": [
      "9it [00:18,  1.94s/it]"
     ]
    },
    {
     "name": "stdout",
     "output_type": "stream",
     "text": [
      "Fitting LightGBM without parameters.\n",
      "[LightGBM] [Warning] Found whitespace in feature_names, replace with underlines\n"
     ]
    },
    {
     "name": "stderr",
     "output_type": "stream",
     "text": [
      "10it [00:20,  2.02s/it]\n"
     ]
    },
    {
     "name": "stdout",
     "output_type": "stream",
     "text": [
      "Fitting model CatBoost\n"
     ]
    },
    {
     "name": "stderr",
     "output_type": "stream",
     "text": [
      "0it [00:00, ?it/s]"
     ]
    },
    {
     "name": "stdout",
     "output_type": "stream",
     "text": [
      "Fitting CatBoost without parameters.\n"
     ]
    },
    {
     "name": "stderr",
     "output_type": "stream",
     "text": [
      "1it [00:01,  1.97s/it]"
     ]
    },
    {
     "name": "stdout",
     "output_type": "stream",
     "text": [
      "Fitting CatBoost without parameters.\n"
     ]
    },
    {
     "name": "stderr",
     "output_type": "stream",
     "text": [
      "2it [00:03,  1.94s/it]"
     ]
    },
    {
     "name": "stdout",
     "output_type": "stream",
     "text": [
      "Fitting CatBoost without parameters.\n"
     ]
    },
    {
     "name": "stderr",
     "output_type": "stream",
     "text": [
      "3it [00:05,  1.90s/it]"
     ]
    },
    {
     "name": "stdout",
     "output_type": "stream",
     "text": [
      "Fitting CatBoost without parameters.\n"
     ]
    },
    {
     "name": "stderr",
     "output_type": "stream",
     "text": [
      "4it [00:07,  2.03s/it]"
     ]
    },
    {
     "name": "stdout",
     "output_type": "stream",
     "text": [
      "Fitting CatBoost without parameters.\n"
     ]
    },
    {
     "name": "stderr",
     "output_type": "stream",
     "text": [
      "5it [00:10,  2.05s/it]"
     ]
    },
    {
     "name": "stdout",
     "output_type": "stream",
     "text": [
      "Fitting CatBoost without parameters.\n"
     ]
    },
    {
     "name": "stderr",
     "output_type": "stream",
     "text": [
      "6it [00:11,  1.99s/it]"
     ]
    },
    {
     "name": "stdout",
     "output_type": "stream",
     "text": [
      "Fitting CatBoost without parameters.\n"
     ]
    },
    {
     "name": "stderr",
     "output_type": "stream",
     "text": [
      "7it [00:13,  1.97s/it]"
     ]
    },
    {
     "name": "stdout",
     "output_type": "stream",
     "text": [
      "Fitting CatBoost without parameters.\n"
     ]
    },
    {
     "name": "stderr",
     "output_type": "stream",
     "text": [
      "8it [00:15,  1.92s/it]"
     ]
    },
    {
     "name": "stdout",
     "output_type": "stream",
     "text": [
      "Fitting CatBoost without parameters.\n"
     ]
    },
    {
     "name": "stderr",
     "output_type": "stream",
     "text": [
      "9it [00:17,  1.90s/it]"
     ]
    },
    {
     "name": "stdout",
     "output_type": "stream",
     "text": [
      "Fitting CatBoost without parameters.\n"
     ]
    },
    {
     "name": "stderr",
     "output_type": "stream",
     "text": [
      "10it [00:19,  1.94s/it]\n"
     ]
    },
    {
     "name": "stdout",
     "output_type": "stream",
     "text": [
      "Fitting model XgBoost\n"
     ]
    },
    {
     "name": "stderr",
     "output_type": "stream",
     "text": [
      "0it [00:00, ?it/s]"
     ]
    },
    {
     "name": "stdout",
     "output_type": "stream",
     "text": [
      "Fitting XgBoost without parameters.\n"
     ]
    },
    {
     "name": "stderr",
     "output_type": "stream",
     "text": [
      "1it [00:02,  2.19s/it]"
     ]
    },
    {
     "name": "stdout",
     "output_type": "stream",
     "text": [
      "Fitting XgBoost without parameters.\n"
     ]
    },
    {
     "name": "stderr",
     "output_type": "stream",
     "text": [
      "2it [00:04,  2.04s/it]"
     ]
    },
    {
     "name": "stdout",
     "output_type": "stream",
     "text": [
      "Fitting XgBoost without parameters.\n"
     ]
    },
    {
     "name": "stderr",
     "output_type": "stream",
     "text": [
      "3it [00:06,  1.97s/it]"
     ]
    },
    {
     "name": "stdout",
     "output_type": "stream",
     "text": [
      "Fitting XgBoost without parameters.\n"
     ]
    },
    {
     "name": "stderr",
     "output_type": "stream",
     "text": [
      "4it [00:07,  1.94s/it]"
     ]
    },
    {
     "name": "stdout",
     "output_type": "stream",
     "text": [
      "Fitting XgBoost without parameters.\n"
     ]
    },
    {
     "name": "stderr",
     "output_type": "stream",
     "text": [
      "5it [00:09,  1.92s/it]"
     ]
    },
    {
     "name": "stdout",
     "output_type": "stream",
     "text": [
      "Fitting XgBoost without parameters.\n"
     ]
    },
    {
     "name": "stderr",
     "output_type": "stream",
     "text": [
      "6it [00:11,  1.92s/it]"
     ]
    },
    {
     "name": "stdout",
     "output_type": "stream",
     "text": [
      "Fitting XgBoost without parameters.\n"
     ]
    },
    {
     "name": "stderr",
     "output_type": "stream",
     "text": [
      "7it [00:13,  1.94s/it]"
     ]
    },
    {
     "name": "stdout",
     "output_type": "stream",
     "text": [
      "Fitting XgBoost without parameters.\n"
     ]
    },
    {
     "name": "stderr",
     "output_type": "stream",
     "text": [
      "8it [00:15,  1.95s/it]"
     ]
    },
    {
     "name": "stdout",
     "output_type": "stream",
     "text": [
      "Fitting XgBoost without parameters.\n"
     ]
    },
    {
     "name": "stderr",
     "output_type": "stream",
     "text": [
      "9it [00:17,  1.94s/it]"
     ]
    },
    {
     "name": "stdout",
     "output_type": "stream",
     "text": [
      "Fitting XgBoost without parameters.\n"
     ]
    },
    {
     "name": "stderr",
     "output_type": "stream",
     "text": [
      "10it [00:19,  1.95s/it]"
     ]
    },
    {
     "name": "stdout",
     "output_type": "stream",
     "text": [
      "      Model  Mean_AUC_Score  Mean_Precision_Score  Mean_Recall_Score  \\\n",
      "0  LightGBM        0.997831              0.991524           0.953390   \n",
      "1  CatBoost        0.990698              0.975911           0.918196   \n",
      "2   XgBoost        0.997673              0.988897           0.960314   \n",
      "\n",
      "   Mean_F1_Score  \n",
      "0       0.972081  \n",
      "1       0.946171  \n",
      "2       0.974394  \n"
     ]
    },
    {
     "name": "stderr",
     "output_type": "stream",
     "text": [
      "\n"
     ]
    }
   ],
   "source": [
    "from sklearn.metrics import precision_score, recall_score, f1_score, roc_auc_score\n",
    "\n",
    "models = ModelClassifier()\n",
    "# Assuming Splitter and other variables are defined correctly as per your setup\n",
    "splitter = Splitter(kfold=True, n_splits=10, cat_df=y_train)\n",
    "\n",
    "def evaluate_model_performance(y_val_pred, y_val):\n",
    "    y_pred = (y_val_pred > 0.5).astype(int)  # Convert probabilities to binary predictions\n",
    "    auc = roc_auc_score(y_val, y_val_pred)\n",
    "    precision = precision_score(y_val, y_pred)\n",
    "    recall = recall_score(y_val, y_pred)\n",
    "    f1 = f1_score(y_val, y_pred)\n",
    "    return auc, precision, recall, f1\n",
    "\n",
    "results = []  # List to store the results for each model\n",
    "\n",
    "for model_name, model in models.model_dict.items():\n",
    "    print(f\"Fitting model {model_name}\")\n",
    "    model_scores = {\n",
    "        'AUC': [],\n",
    "        'Precision': [],\n",
    "        'Recall': [],\n",
    "        'F1': []\n",
    "    }  # Dictionary to store scores for each cross-validation fold\n",
    "\n",
    "    for X_Train, X_val, y_Train, y_val, val_index in tqdm(splitter.split_data(X=X_train_scaled, y=y_train)):\n",
    "        # Fitting the model \n",
    "        fitted_model = models.fit_without_params(X=X_Train, y=y_Train, model_name=model_name)\n",
    "\n",
    "        y_probs = fitted_model.predict_proba(X_val)[:, 1]  # Get probabilities for class 1\n",
    "        auc, precision, recall, f1 = evaluate_model_performance(y_probs, y_val)\n",
    "        model_scores['AUC'].append(auc)\n",
    "        model_scores['Precision'].append(precision)\n",
    "        model_scores['Recall'].append(recall)\n",
    "        model_scores['F1'].append(f1)\n",
    "\n",
    "    # Calculate the mean scores for this model\n",
    "    mean_auc_score = np.mean(model_scores['AUC'])\n",
    "    mean_precision_score = np.mean(model_scores['Precision'])\n",
    "    mean_recall_score = np.mean(model_scores['Recall'])\n",
    "    mean_f1_score = np.mean(model_scores['F1'])\n",
    "\n",
    "    # Append the result to the results list\n",
    "    results.append({\n",
    "        'Model': model_name,\n",
    "        'Mean_AUC_Score': mean_auc_score,\n",
    "        'Mean_Precision_Score': mean_precision_score,\n",
    "        'Mean_Recall_Score': mean_recall_score,\n",
    "        'Mean_F1_Score': mean_f1_score\n",
    "    })\n",
    "\n",
    "# Convert the list of dictionaries into a DataFrame\n",
    "auc_scores_df = pd.DataFrame(results)\n",
    "\n",
    "print(auc_scores_df)\n"
   ]
  },
  {
   "cell_type": "code",
   "execution_count": 397,
   "metadata": {},
   "outputs": [],
   "source": [
    "def choose_best_model(results_df):\n",
    "    \"\"\"\n",
    "    Choose the best model based on the highest mean AUC score.\n",
    "\n",
    "    Parameters:\n",
    "        results_df (pd.DataFrame): DataFrame containing the model names and their mean AUC scores.\n",
    "\n",
    "    Returns:\n",
    "        str: The name of the best model.\n",
    "    \"\"\"\n",
    "    best_model_name = results_df.loc[results_df['Mean_AUC_Score'].idxmax(), 'Model']\n",
    "    return best_model_name"
   ]
  },
  {
   "cell_type": "code",
   "execution_count": 398,
   "metadata": {},
   "outputs": [
    {
     "data": {
      "text/html": [
       "<div>\n",
       "<style scoped>\n",
       "    .dataframe tbody tr th:only-of-type {\n",
       "        vertical-align: middle;\n",
       "    }\n",
       "\n",
       "    .dataframe tbody tr th {\n",
       "        vertical-align: top;\n",
       "    }\n",
       "\n",
       "    .dataframe thead th {\n",
       "        text-align: right;\n",
       "    }\n",
       "</style>\n",
       "<table border=\"1\" class=\"dataframe\">\n",
       "  <thead>\n",
       "    <tr style=\"text-align: right;\">\n",
       "      <th></th>\n",
       "      <th>Model</th>\n",
       "      <th>Mean_AUC_Score</th>\n",
       "      <th>Mean_Precision_Score</th>\n",
       "      <th>Mean_Recall_Score</th>\n",
       "      <th>Mean_F1_Score</th>\n",
       "    </tr>\n",
       "  </thead>\n",
       "  <tbody>\n",
       "    <tr>\n",
       "      <th>0</th>\n",
       "      <td>LightGBM</td>\n",
       "      <td>0.997831</td>\n",
       "      <td>0.991524</td>\n",
       "      <td>0.953390</td>\n",
       "      <td>0.972081</td>\n",
       "    </tr>\n",
       "    <tr>\n",
       "      <th>1</th>\n",
       "      <td>CatBoost</td>\n",
       "      <td>0.990698</td>\n",
       "      <td>0.975911</td>\n",
       "      <td>0.918196</td>\n",
       "      <td>0.946171</td>\n",
       "    </tr>\n",
       "    <tr>\n",
       "      <th>2</th>\n",
       "      <td>XgBoost</td>\n",
       "      <td>0.997673</td>\n",
       "      <td>0.988897</td>\n",
       "      <td>0.960314</td>\n",
       "      <td>0.974394</td>\n",
       "    </tr>\n",
       "  </tbody>\n",
       "</table>\n",
       "</div>"
      ],
      "text/plain": [
       "      Model  Mean_AUC_Score  Mean_Precision_Score  Mean_Recall_Score  \\\n",
       "0  LightGBM        0.997831              0.991524           0.953390   \n",
       "1  CatBoost        0.990698              0.975911           0.918196   \n",
       "2   XgBoost        0.997673              0.988897           0.960314   \n",
       "\n",
       "   Mean_F1_Score  \n",
       "0       0.972081  \n",
       "1       0.946171  \n",
       "2       0.974394  "
      ]
     },
     "execution_count": 398,
     "metadata": {},
     "output_type": "execute_result"
    }
   ],
   "source": [
    "auc_scores_df"
   ]
  },
  {
   "cell_type": "code",
   "execution_count": 399,
   "metadata": {},
   "outputs": [
    {
     "data": {
      "text/plain": [
       "'LightGBM'"
      ]
     },
     "execution_count": 399,
     "metadata": {},
     "output_type": "execute_result"
    }
   ],
   "source": [
    "best_model=choose_best_model(results_df=auc_scores_df)\n",
    "best_model"
   ]
  },
  {
   "cell_type": "markdown",
   "metadata": {},
   "source": [
    "### Feature Selection (RFE-CV)"
   ]
  },
  {
   "cell_type": "code",
   "execution_count": 400,
   "metadata": {},
   "outputs": [],
   "source": [
    "import numpy as np\n",
    "from sklearn.base import BaseEstimator, ClassifierMixin\n",
    "from sklearn.metrics import roc_auc_score\n",
    "\n",
    "class VotingEnsemble(BaseEstimator, ClassifierMixin):\n",
    "    def __init__(self, estimators, voting='hard'):\n",
    "        self.estimators = estimators\n",
    "        self.voting = voting\n",
    "\n",
    "    def fit(self, X, y):\n",
    "        for _, model in self.estimators:\n",
    "            model.fit(X, y)\n",
    "        return self\n",
    "\n",
    "    def predict(self, X):\n",
    "        if self.voting == 'hard':\n",
    "            predictions = np.asarray([model.predict(X) for _, model in self.estimators])\n",
    "            return np.apply_along_axis(lambda x: np.argmax(np.bincount(x)), axis=0, arr=predictions)\n",
    "        elif self.voting == 'soft':\n",
    "            probabilities = np.asarray([model.predict_proba(X) for _, model in self.estimators])\n",
    "            return np.argmax(np.mean(probabilities, axis=0), axis=1)\n",
    "        else:\n",
    "            raise ValueError(f\"Invalid voting method: {self.voting}. Use 'hard' or 'soft'.\")"
   ]
  },
  {
   "cell_type": "markdown",
   "metadata": {},
   "source": [
    "### Training with Params\n",
    "- Optuna"
   ]
  },
  {
   "cell_type": "code",
   "execution_count": 401,
   "metadata": {},
   "outputs": [],
   "source": [
    "import optuna\n",
    "from functools import partial\n",
    "from sklearn.base import is_classifier\n",
    "from sklearn.metrics import roc_auc_score"
   ]
  },
  {
   "cell_type": "code",
   "execution_count": 402,
   "metadata": {},
   "outputs": [],
   "source": [
    "import optuna\n",
    "from catboost import CatBoostClassifier\n",
    "from sklearn.metrics import roc_auc_score\n",
    "from tqdm import tqdm\n",
    "\n",
    "class OptunaTuner_Catboost:\n",
    "    def __init__(self, model, params, X, y):\n",
    "        self.model = model\n",
    "        self.params = params\n",
    "        self.X = X\n",
    "        self.y = y\n",
    "\n",
    "    def Objective(self, trial):\n",
    "        param_values = {}\n",
    "        for key, value_range in self.params.items():\n",
    "            if isinstance(value_range, tuple):  # Check if value_range is a tuple\n",
    "                if value_range[0] <= value_range[1]:\n",
    "                    if isinstance(value_range[0], int) and isinstance(value_range[1], int):\n",
    "                        param_values[key] = trial.suggest_int(key, value_range[0], value_range[1])\n",
    "                    else:\n",
    "                        param_values[key] = trial.suggest_float(key, value_range[0], value_range[1])\n",
    "                else:\n",
    "                    raise ValueError(f\"Invalid range for {key}: low={value_range[0]}, high={value_range[1]}\")\n",
    "            else:  # If value_range is not a tuple, treat it as a single value\n",
    "                param_values[key] = value_range\n",
    "\n",
    "        model = CatBoostClassifier(**param_values)\n",
    "        \n",
    "        # Initialize an empty list to store AUC-ROC scores from different folds\n",
    "        auc_scores = []\n",
    "\n",
    "        # Use the external data splitter for data splitting\n",
    "        for X_Train, X_val, y_Train, y_val, val_index in tqdm(splitter.split_data(X=self.X, y=self.y)):\n",
    "            # Perform tuning for each fold\n",
    "            model.fit(X_Train, y_Train)  # Fit the model on the training data of this fold\n",
    "\n",
    "            # Evaluate the model using AUC-ROC on the validation data of this fold\n",
    "            y_probs = model.predict_proba(X_val)[:, 1]  # Get predicted probabilities for the positive class\n",
    "            auc_roc = roc_auc_score(y_val, y_probs)\n",
    "            \n",
    "            \n",
    "            # Append the AUC-ROC score of this fold to the list\n",
    "            auc_scores.append(auc_roc)\n",
    "\n",
    "\n",
    "        # Compute the average AUC-ROC score across all folds\n",
    "        avg_auc_score = sum(auc_scores) / len(auc_scores)\n",
    "\n",
    "        return avg_auc_score\n",
    "\n",
    "\n",
    "\n",
    "\n",
    "    def tune(self, n_trials=100):\n",
    "        study = optuna.create_study(direction=\"maximize\")  # maximize AUC-ROC\n",
    "\n",
    "        # Perform Optuna tuning\n",
    "        study.optimize(self.Objective, n_trials=n_trials)\n",
    "\n",
    "        best_params = study.best_params\n",
    "        print(f\"Best parameters: {best_params}\")\n",
    "\n",
    "        # Create a new CatBoost model instance with the best parameters\n",
    "        best_model = CatBoostClassifier(**best_params)\n",
    "\n",
    "        # Train the best model on the whole dataset\n",
    "        best_model.fit(self.X, self.y)\n",
    "\n",
    "        best_auc_score = study.best_value\n",
    "        print(f\"Best AUC Score: {best_auc_score}\")\n",
    "\n",
    "        # Here, we return both the tuned model and the best AUC-ROC score\n",
    "        return best_auc_score, best_model"
   ]
  },
  {
   "cell_type": "code",
   "execution_count": 403,
   "metadata": {},
   "outputs": [],
   "source": [
    "\n",
    "import optuna\n",
    "from sklearn.metrics import roc_auc_score\n",
    "\n",
    "class OptunaTuner:\n",
    "    def __init__(self, model, params, X, y, splitter=splitter):\n",
    "        self.model = model\n",
    "        self.params = params\n",
    "        self.X = X\n",
    "        self.y = y\n",
    "        self.splitter = splitter  # Assuming a data splitter object is passed\n",
    "\n",
    "    def Objective(self, trial):\n",
    "        param_values = {}\n",
    "        for key, value_range in self.params.items():\n",
    "            if value_range[0] <= value_range[1]:\n",
    "                if isinstance(value_range[0], int) and isinstance(value_range[1], int):\n",
    "                    param_values[key] = trial.suggest_int(key, value_range[0], value_range[1])\n",
    "                else:\n",
    "                    param_values[key] = trial.suggest_float(key, value_range[0], value_range[1])\n",
    "            else:\n",
    "                raise ValueError(f\"Invalid range for {key}: low={value_range[0]}, high={value_range[1]}\")\n",
    "\n",
    "        self.model.set_params(**param_values)\n",
    "\n",
    "        # Initialize an empty list to store AUC-ROC scores from different folds\n",
    "        auc_scores = []\n",
    "\n",
    "        for X_Train, X_val, y_Train, y_val, val_index in tqdm(self.splitter.split_data(X=self.X, y=self.y)):\n",
    "            # Fit the model on the training data of this fold\n",
    "            self.model.fit(X_Train, y_Train)\n",
    "\n",
    "            # Evaluate the model using AUC-ROC on the validation data of this fold\n",
    "            y_probs = self.model.predict_proba(X_val)[:, 1]\n",
    "            auc_roc = roc_auc_score(y_val, y_probs)\n",
    "\n",
    "            # Append the AUC-ROC score of this fold to the list\n",
    "            auc_scores.append(auc_roc)\n",
    "\n",
    "        # Compute the average AUC-ROC score across all folds\n",
    "        avg_auc_score = sum(auc_scores) / len(auc_scores)\n",
    "\n",
    "        return avg_auc_score\n",
    "\n",
    "    def tune(self, n_trials=100):\n",
    "        study = optuna.create_study(direction=\"maximize\")  # maximize average AUC-ROC score\n",
    "        study.optimize(self.Objective, n_trials=n_trials)\n",
    "\n",
    "        best_params = study.best_params\n",
    "        print(f\"Best parameters: {best_params}\")\n",
    "\n",
    "        # Set the best parameters to the model\n",
    "        self.model.set_params(**best_params)\n",
    "\n",
    "        print(f\"Best AUC Score: {study.best_value}\")\n",
    "\n",
    "        # Here, we return both the tuned model and the best AUC-ROC score\n",
    "        return study.best_value, self.model\n",
    "    "
   ]
  },
  {
   "cell_type": "code",
   "execution_count": 404,
   "metadata": {},
   "outputs": [
    {
     "name": "stderr",
     "output_type": "stream",
     "text": [
      "[I 2024-06-30 12:23:44,473] A new study created in memory with name: no-name-29ac62a8-4aa1-41ee-b9e8-abeb38b7f99b\n"
     ]
    },
    {
     "name": "stdout",
     "output_type": "stream",
     "text": [
      "Tuning and fitting model ----------->>>>  LightGBM\n"
     ]
    },
    {
     "name": "stderr",
     "output_type": "stream",
     "text": [
      "0it [00:00, ?it/s]"
     ]
    },
    {
     "name": "stdout",
     "output_type": "stream",
     "text": [
      "[LightGBM] [Warning] min_data_in_leaf is set=37, min_child_samples=20 will be ignored. Current value: min_data_in_leaf=37\n",
      "[LightGBM] [Warning] feature_fraction is set=0.2738910987798412, colsample_bytree=1.0 will be ignored. Current value: feature_fraction=0.2738910987798412\n",
      "[LightGBM] [Warning] bagging_fraction is set=0.5009937636806028, subsample=1.0 will be ignored. Current value: bagging_fraction=0.5009937636806028\n",
      "[LightGBM] [Warning] Found whitespace in feature_names, replace with underlines\n",
      "[LightGBM] [Warning] min_data_in_leaf is set=37, min_child_samples=20 will be ignored. Current value: min_data_in_leaf=37\n",
      "[LightGBM] [Warning] feature_fraction is set=0.2738910987798412, colsample_bytree=1.0 will be ignored. Current value: feature_fraction=0.2738910987798412\n",
      "[LightGBM] [Warning] bagging_fraction is set=0.5009937636806028, subsample=1.0 will be ignored. Current value: bagging_fraction=0.5009937636806028\n"
     ]
    },
    {
     "name": "stderr",
     "output_type": "stream",
     "text": [
      "1it [00:01,  1.99s/it]"
     ]
    },
    {
     "name": "stdout",
     "output_type": "stream",
     "text": [
      "[LightGBM] [Warning] min_data_in_leaf is set=37, min_child_samples=20 will be ignored. Current value: min_data_in_leaf=37\n",
      "[LightGBM] [Warning] feature_fraction is set=0.2738910987798412, colsample_bytree=1.0 will be ignored. Current value: feature_fraction=0.2738910987798412\n",
      "[LightGBM] [Warning] bagging_fraction is set=0.5009937636806028, subsample=1.0 will be ignored. Current value: bagging_fraction=0.5009937636806028\n",
      "[LightGBM] [Warning] min_data_in_leaf is set=37, min_child_samples=20 will be ignored. Current value: min_data_in_leaf=37\n",
      "[LightGBM] [Warning] feature_fraction is set=0.2738910987798412, colsample_bytree=1.0 will be ignored. Current value: feature_fraction=0.2738910987798412\n",
      "[LightGBM] [Warning] bagging_fraction is set=0.5009937636806028, subsample=1.0 will be ignored. Current value: bagging_fraction=0.5009937636806028\n",
      "[LightGBM] [Warning] Found whitespace in feature_names, replace with underlines\n",
      "[LightGBM] [Warning] min_data_in_leaf is set=37, min_child_samples=20 will be ignored. Current value: min_data_in_leaf=37\n",
      "[LightGBM] [Warning] feature_fraction is set=0.2738910987798412, colsample_bytree=1.0 will be ignored. Current value: feature_fraction=0.2738910987798412\n",
      "[LightGBM] [Warning] bagging_fraction is set=0.5009937636806028, subsample=1.0 will be ignored. Current value: bagging_fraction=0.5009937636806028\n"
     ]
    },
    {
     "name": "stderr",
     "output_type": "stream",
     "text": [
      "2it [00:03,  1.98s/it]"
     ]
    },
    {
     "name": "stdout",
     "output_type": "stream",
     "text": [
      "[LightGBM] [Warning] min_data_in_leaf is set=37, min_child_samples=20 will be ignored. Current value: min_data_in_leaf=37\n",
      "[LightGBM] [Warning] feature_fraction is set=0.2738910987798412, colsample_bytree=1.0 will be ignored. Current value: feature_fraction=0.2738910987798412\n",
      "[LightGBM] [Warning] bagging_fraction is set=0.5009937636806028, subsample=1.0 will be ignored. Current value: bagging_fraction=0.5009937636806028\n",
      "[LightGBM] [Warning] min_data_in_leaf is set=37, min_child_samples=20 will be ignored. Current value: min_data_in_leaf=37\n",
      "[LightGBM] [Warning] feature_fraction is set=0.2738910987798412, colsample_bytree=1.0 will be ignored. Current value: feature_fraction=0.2738910987798412\n",
      "[LightGBM] [Warning] bagging_fraction is set=0.5009937636806028, subsample=1.0 will be ignored. Current value: bagging_fraction=0.5009937636806028\n",
      "[LightGBM] [Warning] Found whitespace in feature_names, replace with underlines\n",
      "[LightGBM] [Warning] min_data_in_leaf is set=37, min_child_samples=20 will be ignored. Current value: min_data_in_leaf=37\n",
      "[LightGBM] [Warning] feature_fraction is set=0.2738910987798412, colsample_bytree=1.0 will be ignored. Current value: feature_fraction=0.2738910987798412\n",
      "[LightGBM] [Warning] bagging_fraction is set=0.5009937636806028, subsample=1.0 will be ignored. Current value: bagging_fraction=0.5009937636806028\n"
     ]
    },
    {
     "name": "stderr",
     "output_type": "stream",
     "text": [
      "3it [00:05,  1.85s/it]"
     ]
    },
    {
     "name": "stdout",
     "output_type": "stream",
     "text": [
      "[LightGBM] [Warning] min_data_in_leaf is set=37, min_child_samples=20 will be ignored. Current value: min_data_in_leaf=37\n",
      "[LightGBM] [Warning] feature_fraction is set=0.2738910987798412, colsample_bytree=1.0 will be ignored. Current value: feature_fraction=0.2738910987798412\n",
      "[LightGBM] [Warning] bagging_fraction is set=0.5009937636806028, subsample=1.0 will be ignored. Current value: bagging_fraction=0.5009937636806028\n",
      "[LightGBM] [Warning] min_data_in_leaf is set=37, min_child_samples=20 will be ignored. Current value: min_data_in_leaf=37\n",
      "[LightGBM] [Warning] feature_fraction is set=0.2738910987798412, colsample_bytree=1.0 will be ignored. Current value: feature_fraction=0.2738910987798412\n",
      "[LightGBM] [Warning] bagging_fraction is set=0.5009937636806028, subsample=1.0 will be ignored. Current value: bagging_fraction=0.5009937636806028\n",
      "[LightGBM] [Warning] Found whitespace in feature_names, replace with underlines\n",
      "[LightGBM] [Warning] min_data_in_leaf is set=37, min_child_samples=20 will be ignored. Current value: min_data_in_leaf=37\n",
      "[LightGBM] [Warning] feature_fraction is set=0.2738910987798412, colsample_bytree=1.0 will be ignored. Current value: feature_fraction=0.2738910987798412\n",
      "[LightGBM] [Warning] bagging_fraction is set=0.5009937636806028, subsample=1.0 will be ignored. Current value: bagging_fraction=0.5009937636806028\n"
     ]
    },
    {
     "name": "stderr",
     "output_type": "stream",
     "text": [
      "4it [00:07,  1.80s/it]"
     ]
    },
    {
     "name": "stdout",
     "output_type": "stream",
     "text": [
      "[LightGBM] [Warning] min_data_in_leaf is set=37, min_child_samples=20 will be ignored. Current value: min_data_in_leaf=37\n",
      "[LightGBM] [Warning] feature_fraction is set=0.2738910987798412, colsample_bytree=1.0 will be ignored. Current value: feature_fraction=0.2738910987798412\n",
      "[LightGBM] [Warning] bagging_fraction is set=0.5009937636806028, subsample=1.0 will be ignored. Current value: bagging_fraction=0.5009937636806028\n",
      "[LightGBM] [Warning] min_data_in_leaf is set=37, min_child_samples=20 will be ignored. Current value: min_data_in_leaf=37\n",
      "[LightGBM] [Warning] feature_fraction is set=0.2738910987798412, colsample_bytree=1.0 will be ignored. Current value: feature_fraction=0.2738910987798412\n",
      "[LightGBM] [Warning] bagging_fraction is set=0.5009937636806028, subsample=1.0 will be ignored. Current value: bagging_fraction=0.5009937636806028\n",
      "[LightGBM] [Warning] Found whitespace in feature_names, replace with underlines\n",
      "[LightGBM] [Warning] min_data_in_leaf is set=37, min_child_samples=20 will be ignored. Current value: min_data_in_leaf=37\n",
      "[LightGBM] [Warning] feature_fraction is set=0.2738910987798412, colsample_bytree=1.0 will be ignored. Current value: feature_fraction=0.2738910987798412\n",
      "[LightGBM] [Warning] bagging_fraction is set=0.5009937636806028, subsample=1.0 will be ignored. Current value: bagging_fraction=0.5009937636806028\n"
     ]
    },
    {
     "name": "stderr",
     "output_type": "stream",
     "text": [
      "5it [00:09,  1.92s/it]"
     ]
    },
    {
     "name": "stdout",
     "output_type": "stream",
     "text": [
      "[LightGBM] [Warning] min_data_in_leaf is set=37, min_child_samples=20 will be ignored. Current value: min_data_in_leaf=37\n",
      "[LightGBM] [Warning] feature_fraction is set=0.2738910987798412, colsample_bytree=1.0 will be ignored. Current value: feature_fraction=0.2738910987798412\n",
      "[LightGBM] [Warning] bagging_fraction is set=0.5009937636806028, subsample=1.0 will be ignored. Current value: bagging_fraction=0.5009937636806028\n",
      "[LightGBM] [Warning] min_data_in_leaf is set=37, min_child_samples=20 will be ignored. Current value: min_data_in_leaf=37\n",
      "[LightGBM] [Warning] feature_fraction is set=0.2738910987798412, colsample_bytree=1.0 will be ignored. Current value: feature_fraction=0.2738910987798412\n",
      "[LightGBM] [Warning] bagging_fraction is set=0.5009937636806028, subsample=1.0 will be ignored. Current value: bagging_fraction=0.5009937636806028\n",
      "[LightGBM] [Warning] Found whitespace in feature_names, replace with underlines\n",
      "[LightGBM] [Warning] min_data_in_leaf is set=37, min_child_samples=20 will be ignored. Current value: min_data_in_leaf=37\n",
      "[LightGBM] [Warning] feature_fraction is set=0.2738910987798412, colsample_bytree=1.0 will be ignored. Current value: feature_fraction=0.2738910987798412\n",
      "[LightGBM] [Warning] bagging_fraction is set=0.5009937636806028, subsample=1.0 will be ignored. Current value: bagging_fraction=0.5009937636806028\n"
     ]
    },
    {
     "name": "stderr",
     "output_type": "stream",
     "text": [
      "6it [00:11,  1.89s/it]"
     ]
    },
    {
     "name": "stdout",
     "output_type": "stream",
     "text": [
      "[LightGBM] [Warning] min_data_in_leaf is set=37, min_child_samples=20 will be ignored. Current value: min_data_in_leaf=37\n",
      "[LightGBM] [Warning] feature_fraction is set=0.2738910987798412, colsample_bytree=1.0 will be ignored. Current value: feature_fraction=0.2738910987798412\n",
      "[LightGBM] [Warning] bagging_fraction is set=0.5009937636806028, subsample=1.0 will be ignored. Current value: bagging_fraction=0.5009937636806028\n",
      "[LightGBM] [Warning] min_data_in_leaf is set=37, min_child_samples=20 will be ignored. Current value: min_data_in_leaf=37\n",
      "[LightGBM] [Warning] feature_fraction is set=0.2738910987798412, colsample_bytree=1.0 will be ignored. Current value: feature_fraction=0.2738910987798412\n",
      "[LightGBM] [Warning] bagging_fraction is set=0.5009937636806028, subsample=1.0 will be ignored. Current value: bagging_fraction=0.5009937636806028\n",
      "[LightGBM] [Warning] Found whitespace in feature_names, replace with underlines\n",
      "[LightGBM] [Warning] min_data_in_leaf is set=37, min_child_samples=20 will be ignored. Current value: min_data_in_leaf=37\n",
      "[LightGBM] [Warning] feature_fraction is set=0.2738910987798412, colsample_bytree=1.0 will be ignored. Current value: feature_fraction=0.2738910987798412\n",
      "[LightGBM] [Warning] bagging_fraction is set=0.5009937636806028, subsample=1.0 will be ignored. Current value: bagging_fraction=0.5009937636806028\n"
     ]
    },
    {
     "name": "stderr",
     "output_type": "stream",
     "text": [
      "7it [00:13,  1.85s/it]"
     ]
    },
    {
     "name": "stdout",
     "output_type": "stream",
     "text": [
      "[LightGBM] [Warning] min_data_in_leaf is set=37, min_child_samples=20 will be ignored. Current value: min_data_in_leaf=37\n",
      "[LightGBM] [Warning] feature_fraction is set=0.2738910987798412, colsample_bytree=1.0 will be ignored. Current value: feature_fraction=0.2738910987798412\n",
      "[LightGBM] [Warning] bagging_fraction is set=0.5009937636806028, subsample=1.0 will be ignored. Current value: bagging_fraction=0.5009937636806028\n",
      "[LightGBM] [Warning] min_data_in_leaf is set=37, min_child_samples=20 will be ignored. Current value: min_data_in_leaf=37\n",
      "[LightGBM] [Warning] feature_fraction is set=0.2738910987798412, colsample_bytree=1.0 will be ignored. Current value: feature_fraction=0.2738910987798412\n",
      "[LightGBM] [Warning] bagging_fraction is set=0.5009937636806028, subsample=1.0 will be ignored. Current value: bagging_fraction=0.5009937636806028\n",
      "[LightGBM] [Warning] Found whitespace in feature_names, replace with underlines\n",
      "[LightGBM] [Warning] min_data_in_leaf is set=37, min_child_samples=20 will be ignored. Current value: min_data_in_leaf=37\n",
      "[LightGBM] [Warning] feature_fraction is set=0.2738910987798412, colsample_bytree=1.0 will be ignored. Current value: feature_fraction=0.2738910987798412\n",
      "[LightGBM] [Warning] bagging_fraction is set=0.5009937636806028, subsample=1.0 will be ignored. Current value: bagging_fraction=0.5009937636806028\n"
     ]
    },
    {
     "name": "stderr",
     "output_type": "stream",
     "text": [
      "8it [00:15,  1.87s/it]"
     ]
    },
    {
     "name": "stdout",
     "output_type": "stream",
     "text": [
      "[LightGBM] [Warning] min_data_in_leaf is set=37, min_child_samples=20 will be ignored. Current value: min_data_in_leaf=37\n",
      "[LightGBM] [Warning] feature_fraction is set=0.2738910987798412, colsample_bytree=1.0 will be ignored. Current value: feature_fraction=0.2738910987798412\n",
      "[LightGBM] [Warning] bagging_fraction is set=0.5009937636806028, subsample=1.0 will be ignored. Current value: bagging_fraction=0.5009937636806028\n",
      "[LightGBM] [Warning] min_data_in_leaf is set=37, min_child_samples=20 will be ignored. Current value: min_data_in_leaf=37\n",
      "[LightGBM] [Warning] feature_fraction is set=0.2738910987798412, colsample_bytree=1.0 will be ignored. Current value: feature_fraction=0.2738910987798412\n",
      "[LightGBM] [Warning] bagging_fraction is set=0.5009937636806028, subsample=1.0 will be ignored. Current value: bagging_fraction=0.5009937636806028\n",
      "[LightGBM] [Warning] Found whitespace in feature_names, replace with underlines\n",
      "[LightGBM] [Warning] min_data_in_leaf is set=37, min_child_samples=20 will be ignored. Current value: min_data_in_leaf=37\n",
      "[LightGBM] [Warning] feature_fraction is set=0.2738910987798412, colsample_bytree=1.0 will be ignored. Current value: feature_fraction=0.2738910987798412\n",
      "[LightGBM] [Warning] bagging_fraction is set=0.5009937636806028, subsample=1.0 will be ignored. Current value: bagging_fraction=0.5009937636806028\n"
     ]
    },
    {
     "name": "stderr",
     "output_type": "stream",
     "text": [
      "9it [00:16,  1.88s/it]"
     ]
    },
    {
     "name": "stdout",
     "output_type": "stream",
     "text": [
      "[LightGBM] [Warning] min_data_in_leaf is set=37, min_child_samples=20 will be ignored. Current value: min_data_in_leaf=37\n",
      "[LightGBM] [Warning] feature_fraction is set=0.2738910987798412, colsample_bytree=1.0 will be ignored. Current value: feature_fraction=0.2738910987798412\n",
      "[LightGBM] [Warning] bagging_fraction is set=0.5009937636806028, subsample=1.0 will be ignored. Current value: bagging_fraction=0.5009937636806028\n",
      "[LightGBM] [Warning] min_data_in_leaf is set=37, min_child_samples=20 will be ignored. Current value: min_data_in_leaf=37\n",
      "[LightGBM] [Warning] feature_fraction is set=0.2738910987798412, colsample_bytree=1.0 will be ignored. Current value: feature_fraction=0.2738910987798412\n",
      "[LightGBM] [Warning] bagging_fraction is set=0.5009937636806028, subsample=1.0 will be ignored. Current value: bagging_fraction=0.5009937636806028\n",
      "[LightGBM] [Warning] Found whitespace in feature_names, replace with underlines\n",
      "[LightGBM] [Warning] min_data_in_leaf is set=37, min_child_samples=20 will be ignored. Current value: min_data_in_leaf=37\n",
      "[LightGBM] [Warning] feature_fraction is set=0.2738910987798412, colsample_bytree=1.0 will be ignored. Current value: feature_fraction=0.2738910987798412\n",
      "[LightGBM] [Warning] bagging_fraction is set=0.5009937636806028, subsample=1.0 will be ignored. Current value: bagging_fraction=0.5009937636806028\n"
     ]
    },
    {
     "name": "stderr",
     "output_type": "stream",
     "text": [
      "10it [00:18,  1.87s/it]\n",
      "[I 2024-06-30 12:24:03,237] Trial 0 finished with value: 0.9992204599570247 and parameters: {'num_leaves': 42, 'learning_rate': 0.44643270801445767, 'min_data_in_leaf': 37, 'feature_fraction': 0.2738910987798412, 'bagging_fraction': 0.5009937636806028}. Best is trial 0 with value: 0.9992204599570247.\n"
     ]
    },
    {
     "name": "stdout",
     "output_type": "stream",
     "text": [
      "[LightGBM] [Warning] min_data_in_leaf is set=37, min_child_samples=20 will be ignored. Current value: min_data_in_leaf=37\n",
      "[LightGBM] [Warning] feature_fraction is set=0.2738910987798412, colsample_bytree=1.0 will be ignored. Current value: feature_fraction=0.2738910987798412\n",
      "[LightGBM] [Warning] bagging_fraction is set=0.5009937636806028, subsample=1.0 will be ignored. Current value: bagging_fraction=0.5009937636806028\n"
     ]
    },
    {
     "name": "stderr",
     "output_type": "stream",
     "text": [
      "0it [00:00, ?it/s]"
     ]
    },
    {
     "name": "stdout",
     "output_type": "stream",
     "text": [
      "[LightGBM] [Warning] min_data_in_leaf is set=15, min_child_samples=20 will be ignored. Current value: min_data_in_leaf=15\n",
      "[LightGBM] [Warning] feature_fraction is set=0.6727814428807197, colsample_bytree=1.0 will be ignored. Current value: feature_fraction=0.6727814428807197\n",
      "[LightGBM] [Warning] bagging_fraction is set=0.816038953154915, subsample=1.0 will be ignored. Current value: bagging_fraction=0.816038953154915\n",
      "[LightGBM] [Warning] Found whitespace in feature_names, replace with underlines\n",
      "[LightGBM] [Warning] min_data_in_leaf is set=15, min_child_samples=20 will be ignored. Current value: min_data_in_leaf=15\n",
      "[LightGBM] [Warning] feature_fraction is set=0.6727814428807197, colsample_bytree=1.0 will be ignored. Current value: feature_fraction=0.6727814428807197\n",
      "[LightGBM] [Warning] bagging_fraction is set=0.816038953154915, subsample=1.0 will be ignored. Current value: bagging_fraction=0.816038953154915\n"
     ]
    },
    {
     "name": "stderr",
     "output_type": "stream",
     "text": [
      "1it [00:02,  2.30s/it]"
     ]
    },
    {
     "name": "stdout",
     "output_type": "stream",
     "text": [
      "[LightGBM] [Warning] min_data_in_leaf is set=15, min_child_samples=20 will be ignored. Current value: min_data_in_leaf=15\n",
      "[LightGBM] [Warning] feature_fraction is set=0.6727814428807197, colsample_bytree=1.0 will be ignored. Current value: feature_fraction=0.6727814428807197\n",
      "[LightGBM] [Warning] bagging_fraction is set=0.816038953154915, subsample=1.0 will be ignored. Current value: bagging_fraction=0.816038953154915\n",
      "[LightGBM] [Warning] min_data_in_leaf is set=15, min_child_samples=20 will be ignored. Current value: min_data_in_leaf=15\n",
      "[LightGBM] [Warning] feature_fraction is set=0.6727814428807197, colsample_bytree=1.0 will be ignored. Current value: feature_fraction=0.6727814428807197\n",
      "[LightGBM] [Warning] bagging_fraction is set=0.816038953154915, subsample=1.0 will be ignored. Current value: bagging_fraction=0.816038953154915\n",
      "[LightGBM] [Warning] Found whitespace in feature_names, replace with underlines\n",
      "[LightGBM] [Warning] min_data_in_leaf is set=15, min_child_samples=20 will be ignored. Current value: min_data_in_leaf=15\n",
      "[LightGBM] [Warning] feature_fraction is set=0.6727814428807197, colsample_bytree=1.0 will be ignored. Current value: feature_fraction=0.6727814428807197\n",
      "[LightGBM] [Warning] bagging_fraction is set=0.816038953154915, subsample=1.0 will be ignored. Current value: bagging_fraction=0.816038953154915\n"
     ]
    },
    {
     "name": "stderr",
     "output_type": "stream",
     "text": [
      "2it [00:04,  2.08s/it]"
     ]
    },
    {
     "name": "stdout",
     "output_type": "stream",
     "text": [
      "[LightGBM] [Warning] min_data_in_leaf is set=15, min_child_samples=20 will be ignored. Current value: min_data_in_leaf=15\n",
      "[LightGBM] [Warning] feature_fraction is set=0.6727814428807197, colsample_bytree=1.0 will be ignored. Current value: feature_fraction=0.6727814428807197\n",
      "[LightGBM] [Warning] bagging_fraction is set=0.816038953154915, subsample=1.0 will be ignored. Current value: bagging_fraction=0.816038953154915\n",
      "[LightGBM] [Warning] min_data_in_leaf is set=15, min_child_samples=20 will be ignored. Current value: min_data_in_leaf=15\n",
      "[LightGBM] [Warning] feature_fraction is set=0.6727814428807197, colsample_bytree=1.0 will be ignored. Current value: feature_fraction=0.6727814428807197\n",
      "[LightGBM] [Warning] bagging_fraction is set=0.816038953154915, subsample=1.0 will be ignored. Current value: bagging_fraction=0.816038953154915\n",
      "[LightGBM] [Warning] Found whitespace in feature_names, replace with underlines\n",
      "[LightGBM] [Warning] min_data_in_leaf is set=15, min_child_samples=20 will be ignored. Current value: min_data_in_leaf=15\n",
      "[LightGBM] [Warning] feature_fraction is set=0.6727814428807197, colsample_bytree=1.0 will be ignored. Current value: feature_fraction=0.6727814428807197\n",
      "[LightGBM] [Warning] bagging_fraction is set=0.816038953154915, subsample=1.0 will be ignored. Current value: bagging_fraction=0.816038953154915\n"
     ]
    },
    {
     "name": "stderr",
     "output_type": "stream",
     "text": [
      "3it [00:06,  1.97s/it]"
     ]
    },
    {
     "name": "stdout",
     "output_type": "stream",
     "text": [
      "[LightGBM] [Warning] min_data_in_leaf is set=15, min_child_samples=20 will be ignored. Current value: min_data_in_leaf=15\n",
      "[LightGBM] [Warning] feature_fraction is set=0.6727814428807197, colsample_bytree=1.0 will be ignored. Current value: feature_fraction=0.6727814428807197\n",
      "[LightGBM] [Warning] bagging_fraction is set=0.816038953154915, subsample=1.0 will be ignored. Current value: bagging_fraction=0.816038953154915\n",
      "[LightGBM] [Warning] min_data_in_leaf is set=15, min_child_samples=20 will be ignored. Current value: min_data_in_leaf=15\n",
      "[LightGBM] [Warning] feature_fraction is set=0.6727814428807197, colsample_bytree=1.0 will be ignored. Current value: feature_fraction=0.6727814428807197\n",
      "[LightGBM] [Warning] bagging_fraction is set=0.816038953154915, subsample=1.0 will be ignored. Current value: bagging_fraction=0.816038953154915\n",
      "[LightGBM] [Warning] Found whitespace in feature_names, replace with underlines\n",
      "[LightGBM] [Warning] min_data_in_leaf is set=15, min_child_samples=20 will be ignored. Current value: min_data_in_leaf=15\n",
      "[LightGBM] [Warning] feature_fraction is set=0.6727814428807197, colsample_bytree=1.0 will be ignored. Current value: feature_fraction=0.6727814428807197\n",
      "[LightGBM] [Warning] bagging_fraction is set=0.816038953154915, subsample=1.0 will be ignored. Current value: bagging_fraction=0.816038953154915\n"
     ]
    },
    {
     "name": "stderr",
     "output_type": "stream",
     "text": [
      "4it [00:07,  1.95s/it]"
     ]
    },
    {
     "name": "stdout",
     "output_type": "stream",
     "text": [
      "[LightGBM] [Warning] min_data_in_leaf is set=15, min_child_samples=20 will be ignored. Current value: min_data_in_leaf=15\n",
      "[LightGBM] [Warning] feature_fraction is set=0.6727814428807197, colsample_bytree=1.0 will be ignored. Current value: feature_fraction=0.6727814428807197\n",
      "[LightGBM] [Warning] bagging_fraction is set=0.816038953154915, subsample=1.0 will be ignored. Current value: bagging_fraction=0.816038953154915\n",
      "[LightGBM] [Warning] min_data_in_leaf is set=15, min_child_samples=20 will be ignored. Current value: min_data_in_leaf=15\n",
      "[LightGBM] [Warning] feature_fraction is set=0.6727814428807197, colsample_bytree=1.0 will be ignored. Current value: feature_fraction=0.6727814428807197\n",
      "[LightGBM] [Warning] bagging_fraction is set=0.816038953154915, subsample=1.0 will be ignored. Current value: bagging_fraction=0.816038953154915\n",
      "[LightGBM] [Warning] Found whitespace in feature_names, replace with underlines\n",
      "[LightGBM] [Warning] min_data_in_leaf is set=15, min_child_samples=20 will be ignored. Current value: min_data_in_leaf=15\n",
      "[LightGBM] [Warning] feature_fraction is set=0.6727814428807197, colsample_bytree=1.0 will be ignored. Current value: feature_fraction=0.6727814428807197\n",
      "[LightGBM] [Warning] bagging_fraction is set=0.816038953154915, subsample=1.0 will be ignored. Current value: bagging_fraction=0.816038953154915\n"
     ]
    },
    {
     "name": "stderr",
     "output_type": "stream",
     "text": [
      "5it [00:09,  1.95s/it]"
     ]
    },
    {
     "name": "stdout",
     "output_type": "stream",
     "text": [
      "[LightGBM] [Warning] min_data_in_leaf is set=15, min_child_samples=20 will be ignored. Current value: min_data_in_leaf=15\n",
      "[LightGBM] [Warning] feature_fraction is set=0.6727814428807197, colsample_bytree=1.0 will be ignored. Current value: feature_fraction=0.6727814428807197\n",
      "[LightGBM] [Warning] bagging_fraction is set=0.816038953154915, subsample=1.0 will be ignored. Current value: bagging_fraction=0.816038953154915\n",
      "[LightGBM] [Warning] min_data_in_leaf is set=15, min_child_samples=20 will be ignored. Current value: min_data_in_leaf=15\n",
      "[LightGBM] [Warning] feature_fraction is set=0.6727814428807197, colsample_bytree=1.0 will be ignored. Current value: feature_fraction=0.6727814428807197\n",
      "[LightGBM] [Warning] bagging_fraction is set=0.816038953154915, subsample=1.0 will be ignored. Current value: bagging_fraction=0.816038953154915\n",
      "[LightGBM] [Warning] Found whitespace in feature_names, replace with underlines\n",
      "[LightGBM] [Warning] min_data_in_leaf is set=15, min_child_samples=20 will be ignored. Current value: min_data_in_leaf=15\n",
      "[LightGBM] [Warning] feature_fraction is set=0.6727814428807197, colsample_bytree=1.0 will be ignored. Current value: feature_fraction=0.6727814428807197\n",
      "[LightGBM] [Warning] bagging_fraction is set=0.816038953154915, subsample=1.0 will be ignored. Current value: bagging_fraction=0.816038953154915\n"
     ]
    },
    {
     "name": "stderr",
     "output_type": "stream",
     "text": [
      "6it [00:11,  1.98s/it]"
     ]
    },
    {
     "name": "stdout",
     "output_type": "stream",
     "text": [
      "[LightGBM] [Warning] min_data_in_leaf is set=15, min_child_samples=20 will be ignored. Current value: min_data_in_leaf=15\n",
      "[LightGBM] [Warning] feature_fraction is set=0.6727814428807197, colsample_bytree=1.0 will be ignored. Current value: feature_fraction=0.6727814428807197\n",
      "[LightGBM] [Warning] bagging_fraction is set=0.816038953154915, subsample=1.0 will be ignored. Current value: bagging_fraction=0.816038953154915\n",
      "[LightGBM] [Warning] min_data_in_leaf is set=15, min_child_samples=20 will be ignored. Current value: min_data_in_leaf=15\n",
      "[LightGBM] [Warning] feature_fraction is set=0.6727814428807197, colsample_bytree=1.0 will be ignored. Current value: feature_fraction=0.6727814428807197\n",
      "[LightGBM] [Warning] bagging_fraction is set=0.816038953154915, subsample=1.0 will be ignored. Current value: bagging_fraction=0.816038953154915\n",
      "[LightGBM] [Warning] Found whitespace in feature_names, replace with underlines\n",
      "[LightGBM] [Warning] min_data_in_leaf is set=15, min_child_samples=20 will be ignored. Current value: min_data_in_leaf=15\n",
      "[LightGBM] [Warning] feature_fraction is set=0.6727814428807197, colsample_bytree=1.0 will be ignored. Current value: feature_fraction=0.6727814428807197\n",
      "[LightGBM] [Warning] bagging_fraction is set=0.816038953154915, subsample=1.0 will be ignored. Current value: bagging_fraction=0.816038953154915\n"
     ]
    },
    {
     "name": "stderr",
     "output_type": "stream",
     "text": [
      "7it [00:13,  1.94s/it]"
     ]
    },
    {
     "name": "stdout",
     "output_type": "stream",
     "text": [
      "[LightGBM] [Warning] min_data_in_leaf is set=15, min_child_samples=20 will be ignored. Current value: min_data_in_leaf=15\n",
      "[LightGBM] [Warning] feature_fraction is set=0.6727814428807197, colsample_bytree=1.0 will be ignored. Current value: feature_fraction=0.6727814428807197\n",
      "[LightGBM] [Warning] bagging_fraction is set=0.816038953154915, subsample=1.0 will be ignored. Current value: bagging_fraction=0.816038953154915\n",
      "[LightGBM] [Warning] min_data_in_leaf is set=15, min_child_samples=20 will be ignored. Current value: min_data_in_leaf=15\n",
      "[LightGBM] [Warning] feature_fraction is set=0.6727814428807197, colsample_bytree=1.0 will be ignored. Current value: feature_fraction=0.6727814428807197\n",
      "[LightGBM] [Warning] bagging_fraction is set=0.816038953154915, subsample=1.0 will be ignored. Current value: bagging_fraction=0.816038953154915\n",
      "[LightGBM] [Warning] Found whitespace in feature_names, replace with underlines\n",
      "[LightGBM] [Warning] min_data_in_leaf is set=15, min_child_samples=20 will be ignored. Current value: min_data_in_leaf=15\n",
      "[LightGBM] [Warning] feature_fraction is set=0.6727814428807197, colsample_bytree=1.0 will be ignored. Current value: feature_fraction=0.6727814428807197\n",
      "[LightGBM] [Warning] bagging_fraction is set=0.816038953154915, subsample=1.0 will be ignored. Current value: bagging_fraction=0.816038953154915\n"
     ]
    },
    {
     "name": "stderr",
     "output_type": "stream",
     "text": [
      "8it [00:15,  1.92s/it]"
     ]
    },
    {
     "name": "stdout",
     "output_type": "stream",
     "text": [
      "[LightGBM] [Warning] min_data_in_leaf is set=15, min_child_samples=20 will be ignored. Current value: min_data_in_leaf=15\n",
      "[LightGBM] [Warning] feature_fraction is set=0.6727814428807197, colsample_bytree=1.0 will be ignored. Current value: feature_fraction=0.6727814428807197\n",
      "[LightGBM] [Warning] bagging_fraction is set=0.816038953154915, subsample=1.0 will be ignored. Current value: bagging_fraction=0.816038953154915\n",
      "[LightGBM] [Warning] min_data_in_leaf is set=15, min_child_samples=20 will be ignored. Current value: min_data_in_leaf=15\n",
      "[LightGBM] [Warning] feature_fraction is set=0.6727814428807197, colsample_bytree=1.0 will be ignored. Current value: feature_fraction=0.6727814428807197\n",
      "[LightGBM] [Warning] bagging_fraction is set=0.816038953154915, subsample=1.0 will be ignored. Current value: bagging_fraction=0.816038953154915\n",
      "[LightGBM] [Warning] Found whitespace in feature_names, replace with underlines\n",
      "[LightGBM] [Warning] min_data_in_leaf is set=15, min_child_samples=20 will be ignored. Current value: min_data_in_leaf=15\n",
      "[LightGBM] [Warning] feature_fraction is set=0.6727814428807197, colsample_bytree=1.0 will be ignored. Current value: feature_fraction=0.6727814428807197\n",
      "[LightGBM] [Warning] bagging_fraction is set=0.816038953154915, subsample=1.0 will be ignored. Current value: bagging_fraction=0.816038953154915\n"
     ]
    },
    {
     "name": "stderr",
     "output_type": "stream",
     "text": [
      "9it [00:17,  1.90s/it]"
     ]
    },
    {
     "name": "stdout",
     "output_type": "stream",
     "text": [
      "[LightGBM] [Warning] min_data_in_leaf is set=15, min_child_samples=20 will be ignored. Current value: min_data_in_leaf=15\n",
      "[LightGBM] [Warning] feature_fraction is set=0.6727814428807197, colsample_bytree=1.0 will be ignored. Current value: feature_fraction=0.6727814428807197\n",
      "[LightGBM] [Warning] bagging_fraction is set=0.816038953154915, subsample=1.0 will be ignored. Current value: bagging_fraction=0.816038953154915\n",
      "[LightGBM] [Warning] min_data_in_leaf is set=15, min_child_samples=20 will be ignored. Current value: min_data_in_leaf=15\n",
      "[LightGBM] [Warning] feature_fraction is set=0.6727814428807197, colsample_bytree=1.0 will be ignored. Current value: feature_fraction=0.6727814428807197\n",
      "[LightGBM] [Warning] bagging_fraction is set=0.816038953154915, subsample=1.0 will be ignored. Current value: bagging_fraction=0.816038953154915\n",
      "[LightGBM] [Warning] Found whitespace in feature_names, replace with underlines\n",
      "[LightGBM] [Warning] min_data_in_leaf is set=15, min_child_samples=20 will be ignored. Current value: min_data_in_leaf=15\n",
      "[LightGBM] [Warning] feature_fraction is set=0.6727814428807197, colsample_bytree=1.0 will be ignored. Current value: feature_fraction=0.6727814428807197\n",
      "[LightGBM] [Warning] bagging_fraction is set=0.816038953154915, subsample=1.0 will be ignored. Current value: bagging_fraction=0.816038953154915\n"
     ]
    },
    {
     "name": "stderr",
     "output_type": "stream",
     "text": [
      "10it [00:19,  1.94s/it]\n",
      "[I 2024-06-30 12:24:22,634] Trial 1 finished with value: 0.9927579562228059 and parameters: {'num_leaves': 26, 'learning_rate': 0.07377825078928042, 'min_data_in_leaf': 15, 'feature_fraction': 0.6727814428807197, 'bagging_fraction': 0.816038953154915}. Best is trial 0 with value: 0.9992204599570247.\n"
     ]
    },
    {
     "name": "stdout",
     "output_type": "stream",
     "text": [
      "[LightGBM] [Warning] min_data_in_leaf is set=15, min_child_samples=20 will be ignored. Current value: min_data_in_leaf=15\n",
      "[LightGBM] [Warning] feature_fraction is set=0.6727814428807197, colsample_bytree=1.0 will be ignored. Current value: feature_fraction=0.6727814428807197\n",
      "[LightGBM] [Warning] bagging_fraction is set=0.816038953154915, subsample=1.0 will be ignored. Current value: bagging_fraction=0.816038953154915\n"
     ]
    },
    {
     "name": "stderr",
     "output_type": "stream",
     "text": [
      "0it [00:00, ?it/s]"
     ]
    },
    {
     "name": "stdout",
     "output_type": "stream",
     "text": [
      "[LightGBM] [Warning] min_data_in_leaf is set=23, min_child_samples=20 will be ignored. Current value: min_data_in_leaf=23\n",
      "[LightGBM] [Warning] feature_fraction is set=0.3542116614486913, colsample_bytree=1.0 will be ignored. Current value: feature_fraction=0.3542116614486913\n",
      "[LightGBM] [Warning] bagging_fraction is set=0.9086091110118758, subsample=1.0 will be ignored. Current value: bagging_fraction=0.9086091110118758\n",
      "[LightGBM] [Warning] Found whitespace in feature_names, replace with underlines\n",
      "[LightGBM] [Warning] min_data_in_leaf is set=23, min_child_samples=20 will be ignored. Current value: min_data_in_leaf=23\n",
      "[LightGBM] [Warning] feature_fraction is set=0.3542116614486913, colsample_bytree=1.0 will be ignored. Current value: feature_fraction=0.3542116614486913\n",
      "[LightGBM] [Warning] bagging_fraction is set=0.9086091110118758, subsample=1.0 will be ignored. Current value: bagging_fraction=0.9086091110118758\n"
     ]
    },
    {
     "name": "stderr",
     "output_type": "stream",
     "text": [
      "1it [00:01,  1.87s/it]"
     ]
    },
    {
     "name": "stdout",
     "output_type": "stream",
     "text": [
      "[LightGBM] [Warning] min_data_in_leaf is set=23, min_child_samples=20 will be ignored. Current value: min_data_in_leaf=23\n",
      "[LightGBM] [Warning] feature_fraction is set=0.3542116614486913, colsample_bytree=1.0 will be ignored. Current value: feature_fraction=0.3542116614486913\n",
      "[LightGBM] [Warning] bagging_fraction is set=0.9086091110118758, subsample=1.0 will be ignored. Current value: bagging_fraction=0.9086091110118758\n",
      "[LightGBM] [Warning] min_data_in_leaf is set=23, min_child_samples=20 will be ignored. Current value: min_data_in_leaf=23\n",
      "[LightGBM] [Warning] feature_fraction is set=0.3542116614486913, colsample_bytree=1.0 will be ignored. Current value: feature_fraction=0.3542116614486913\n",
      "[LightGBM] [Warning] bagging_fraction is set=0.9086091110118758, subsample=1.0 will be ignored. Current value: bagging_fraction=0.9086091110118758\n",
      "[LightGBM] [Warning] Found whitespace in feature_names, replace with underlines\n",
      "[LightGBM] [Warning] min_data_in_leaf is set=23, min_child_samples=20 will be ignored. Current value: min_data_in_leaf=23\n",
      "[LightGBM] [Warning] feature_fraction is set=0.3542116614486913, colsample_bytree=1.0 will be ignored. Current value: feature_fraction=0.3542116614486913\n",
      "[LightGBM] [Warning] bagging_fraction is set=0.9086091110118758, subsample=1.0 will be ignored. Current value: bagging_fraction=0.9086091110118758\n"
     ]
    },
    {
     "name": "stderr",
     "output_type": "stream",
     "text": [
      "2it [00:03,  2.00s/it]"
     ]
    },
    {
     "name": "stdout",
     "output_type": "stream",
     "text": [
      "[LightGBM] [Warning] min_data_in_leaf is set=23, min_child_samples=20 will be ignored. Current value: min_data_in_leaf=23\n",
      "[LightGBM] [Warning] feature_fraction is set=0.3542116614486913, colsample_bytree=1.0 will be ignored. Current value: feature_fraction=0.3542116614486913\n",
      "[LightGBM] [Warning] bagging_fraction is set=0.9086091110118758, subsample=1.0 will be ignored. Current value: bagging_fraction=0.9086091110118758\n",
      "[LightGBM] [Warning] min_data_in_leaf is set=23, min_child_samples=20 will be ignored. Current value: min_data_in_leaf=23\n",
      "[LightGBM] [Warning] feature_fraction is set=0.3542116614486913, colsample_bytree=1.0 will be ignored. Current value: feature_fraction=0.3542116614486913\n",
      "[LightGBM] [Warning] bagging_fraction is set=0.9086091110118758, subsample=1.0 will be ignored. Current value: bagging_fraction=0.9086091110118758\n",
      "[LightGBM] [Warning] Found whitespace in feature_names, replace with underlines\n",
      "[LightGBM] [Warning] min_data_in_leaf is set=23, min_child_samples=20 will be ignored. Current value: min_data_in_leaf=23\n",
      "[LightGBM] [Warning] feature_fraction is set=0.3542116614486913, colsample_bytree=1.0 will be ignored. Current value: feature_fraction=0.3542116614486913\n",
      "[LightGBM] [Warning] bagging_fraction is set=0.9086091110118758, subsample=1.0 will be ignored. Current value: bagging_fraction=0.9086091110118758\n"
     ]
    },
    {
     "name": "stderr",
     "output_type": "stream",
     "text": [
      "3it [00:05,  1.95s/it]"
     ]
    },
    {
     "name": "stdout",
     "output_type": "stream",
     "text": [
      "[LightGBM] [Warning] min_data_in_leaf is set=23, min_child_samples=20 will be ignored. Current value: min_data_in_leaf=23\n",
      "[LightGBM] [Warning] feature_fraction is set=0.3542116614486913, colsample_bytree=1.0 will be ignored. Current value: feature_fraction=0.3542116614486913\n",
      "[LightGBM] [Warning] bagging_fraction is set=0.9086091110118758, subsample=1.0 will be ignored. Current value: bagging_fraction=0.9086091110118758\n",
      "[LightGBM] [Warning] min_data_in_leaf is set=23, min_child_samples=20 will be ignored. Current value: min_data_in_leaf=23\n",
      "[LightGBM] [Warning] feature_fraction is set=0.3542116614486913, colsample_bytree=1.0 will be ignored. Current value: feature_fraction=0.3542116614486913\n",
      "[LightGBM] [Warning] bagging_fraction is set=0.9086091110118758, subsample=1.0 will be ignored. Current value: bagging_fraction=0.9086091110118758\n",
      "[LightGBM] [Warning] Found whitespace in feature_names, replace with underlines\n",
      "[LightGBM] [Warning] min_data_in_leaf is set=23, min_child_samples=20 will be ignored. Current value: min_data_in_leaf=23\n",
      "[LightGBM] [Warning] feature_fraction is set=0.3542116614486913, colsample_bytree=1.0 will be ignored. Current value: feature_fraction=0.3542116614486913\n",
      "[LightGBM] [Warning] bagging_fraction is set=0.9086091110118758, subsample=1.0 will be ignored. Current value: bagging_fraction=0.9086091110118758\n"
     ]
    },
    {
     "name": "stderr",
     "output_type": "stream",
     "text": [
      "4it [00:07,  1.94s/it]"
     ]
    },
    {
     "name": "stdout",
     "output_type": "stream",
     "text": [
      "[LightGBM] [Warning] min_data_in_leaf is set=23, min_child_samples=20 will be ignored. Current value: min_data_in_leaf=23\n",
      "[LightGBM] [Warning] feature_fraction is set=0.3542116614486913, colsample_bytree=1.0 will be ignored. Current value: feature_fraction=0.3542116614486913\n",
      "[LightGBM] [Warning] bagging_fraction is set=0.9086091110118758, subsample=1.0 will be ignored. Current value: bagging_fraction=0.9086091110118758\n",
      "[LightGBM] [Warning] min_data_in_leaf is set=23, min_child_samples=20 will be ignored. Current value: min_data_in_leaf=23\n",
      "[LightGBM] [Warning] feature_fraction is set=0.3542116614486913, colsample_bytree=1.0 will be ignored. Current value: feature_fraction=0.3542116614486913\n",
      "[LightGBM] [Warning] bagging_fraction is set=0.9086091110118758, subsample=1.0 will be ignored. Current value: bagging_fraction=0.9086091110118758\n",
      "[LightGBM] [Warning] Found whitespace in feature_names, replace with underlines\n",
      "[LightGBM] [Warning] min_data_in_leaf is set=23, min_child_samples=20 will be ignored. Current value: min_data_in_leaf=23\n",
      "[LightGBM] [Warning] feature_fraction is set=0.3542116614486913, colsample_bytree=1.0 will be ignored. Current value: feature_fraction=0.3542116614486913\n",
      "[LightGBM] [Warning] bagging_fraction is set=0.9086091110118758, subsample=1.0 will be ignored. Current value: bagging_fraction=0.9086091110118758\n"
     ]
    },
    {
     "name": "stderr",
     "output_type": "stream",
     "text": [
      "5it [00:09,  1.92s/it]"
     ]
    },
    {
     "name": "stdout",
     "output_type": "stream",
     "text": [
      "[LightGBM] [Warning] min_data_in_leaf is set=23, min_child_samples=20 will be ignored. Current value: min_data_in_leaf=23\n",
      "[LightGBM] [Warning] feature_fraction is set=0.3542116614486913, colsample_bytree=1.0 will be ignored. Current value: feature_fraction=0.3542116614486913\n",
      "[LightGBM] [Warning] bagging_fraction is set=0.9086091110118758, subsample=1.0 will be ignored. Current value: bagging_fraction=0.9086091110118758\n",
      "[LightGBM] [Warning] min_data_in_leaf is set=23, min_child_samples=20 will be ignored. Current value: min_data_in_leaf=23\n",
      "[LightGBM] [Warning] feature_fraction is set=0.3542116614486913, colsample_bytree=1.0 will be ignored. Current value: feature_fraction=0.3542116614486913\n",
      "[LightGBM] [Warning] bagging_fraction is set=0.9086091110118758, subsample=1.0 will be ignored. Current value: bagging_fraction=0.9086091110118758\n",
      "[LightGBM] [Warning] Found whitespace in feature_names, replace with underlines\n",
      "[LightGBM] [Warning] min_data_in_leaf is set=23, min_child_samples=20 will be ignored. Current value: min_data_in_leaf=23\n",
      "[LightGBM] [Warning] feature_fraction is set=0.3542116614486913, colsample_bytree=1.0 will be ignored. Current value: feature_fraction=0.3542116614486913\n",
      "[LightGBM] [Warning] bagging_fraction is set=0.9086091110118758, subsample=1.0 will be ignored. Current value: bagging_fraction=0.9086091110118758\n"
     ]
    },
    {
     "name": "stderr",
     "output_type": "stream",
     "text": [
      "6it [00:11,  1.96s/it]"
     ]
    },
    {
     "name": "stdout",
     "output_type": "stream",
     "text": [
      "[LightGBM] [Warning] min_data_in_leaf is set=23, min_child_samples=20 will be ignored. Current value: min_data_in_leaf=23\n",
      "[LightGBM] [Warning] feature_fraction is set=0.3542116614486913, colsample_bytree=1.0 will be ignored. Current value: feature_fraction=0.3542116614486913\n",
      "[LightGBM] [Warning] bagging_fraction is set=0.9086091110118758, subsample=1.0 will be ignored. Current value: bagging_fraction=0.9086091110118758\n",
      "[LightGBM] [Warning] min_data_in_leaf is set=23, min_child_samples=20 will be ignored. Current value: min_data_in_leaf=23\n",
      "[LightGBM] [Warning] feature_fraction is set=0.3542116614486913, colsample_bytree=1.0 will be ignored. Current value: feature_fraction=0.3542116614486913\n",
      "[LightGBM] [Warning] bagging_fraction is set=0.9086091110118758, subsample=1.0 will be ignored. Current value: bagging_fraction=0.9086091110118758\n",
      "[LightGBM] [Warning] Found whitespace in feature_names, replace with underlines\n",
      "[LightGBM] [Warning] min_data_in_leaf is set=23, min_child_samples=20 will be ignored. Current value: min_data_in_leaf=23\n",
      "[LightGBM] [Warning] feature_fraction is set=0.3542116614486913, colsample_bytree=1.0 will be ignored. Current value: feature_fraction=0.3542116614486913\n",
      "[LightGBM] [Warning] bagging_fraction is set=0.9086091110118758, subsample=1.0 will be ignored. Current value: bagging_fraction=0.9086091110118758\n"
     ]
    },
    {
     "name": "stderr",
     "output_type": "stream",
     "text": [
      "7it [00:13,  1.94s/it]"
     ]
    },
    {
     "name": "stdout",
     "output_type": "stream",
     "text": [
      "[LightGBM] [Warning] min_data_in_leaf is set=23, min_child_samples=20 will be ignored. Current value: min_data_in_leaf=23\n",
      "[LightGBM] [Warning] feature_fraction is set=0.3542116614486913, colsample_bytree=1.0 will be ignored. Current value: feature_fraction=0.3542116614486913\n",
      "[LightGBM] [Warning] bagging_fraction is set=0.9086091110118758, subsample=1.0 will be ignored. Current value: bagging_fraction=0.9086091110118758\n",
      "[LightGBM] [Warning] min_data_in_leaf is set=23, min_child_samples=20 will be ignored. Current value: min_data_in_leaf=23\n",
      "[LightGBM] [Warning] feature_fraction is set=0.3542116614486913, colsample_bytree=1.0 will be ignored. Current value: feature_fraction=0.3542116614486913\n",
      "[LightGBM] [Warning] bagging_fraction is set=0.9086091110118758, subsample=1.0 will be ignored. Current value: bagging_fraction=0.9086091110118758\n",
      "[LightGBM] [Warning] Found whitespace in feature_names, replace with underlines\n",
      "[LightGBM] [Warning] min_data_in_leaf is set=23, min_child_samples=20 will be ignored. Current value: min_data_in_leaf=23\n",
      "[LightGBM] [Warning] feature_fraction is set=0.3542116614486913, colsample_bytree=1.0 will be ignored. Current value: feature_fraction=0.3542116614486913\n",
      "[LightGBM] [Warning] bagging_fraction is set=0.9086091110118758, subsample=1.0 will be ignored. Current value: bagging_fraction=0.9086091110118758\n"
     ]
    },
    {
     "name": "stderr",
     "output_type": "stream",
     "text": [
      "8it [00:15,  1.94s/it]"
     ]
    },
    {
     "name": "stdout",
     "output_type": "stream",
     "text": [
      "[LightGBM] [Warning] min_data_in_leaf is set=23, min_child_samples=20 will be ignored. Current value: min_data_in_leaf=23\n",
      "[LightGBM] [Warning] feature_fraction is set=0.3542116614486913, colsample_bytree=1.0 will be ignored. Current value: feature_fraction=0.3542116614486913\n",
      "[LightGBM] [Warning] bagging_fraction is set=0.9086091110118758, subsample=1.0 will be ignored. Current value: bagging_fraction=0.9086091110118758\n",
      "[LightGBM] [Warning] min_data_in_leaf is set=23, min_child_samples=20 will be ignored. Current value: min_data_in_leaf=23\n",
      "[LightGBM] [Warning] feature_fraction is set=0.3542116614486913, colsample_bytree=1.0 will be ignored. Current value: feature_fraction=0.3542116614486913\n",
      "[LightGBM] [Warning] bagging_fraction is set=0.9086091110118758, subsample=1.0 will be ignored. Current value: bagging_fraction=0.9086091110118758\n",
      "[LightGBM] [Warning] Found whitespace in feature_names, replace with underlines\n",
      "[LightGBM] [Warning] min_data_in_leaf is set=23, min_child_samples=20 will be ignored. Current value: min_data_in_leaf=23\n",
      "[LightGBM] [Warning] feature_fraction is set=0.3542116614486913, colsample_bytree=1.0 will be ignored. Current value: feature_fraction=0.3542116614486913\n",
      "[LightGBM] [Warning] bagging_fraction is set=0.9086091110118758, subsample=1.0 will be ignored. Current value: bagging_fraction=0.9086091110118758\n"
     ]
    },
    {
     "name": "stderr",
     "output_type": "stream",
     "text": [
      "9it [00:17,  1.92s/it]"
     ]
    },
    {
     "name": "stdout",
     "output_type": "stream",
     "text": [
      "[LightGBM] [Warning] min_data_in_leaf is set=23, min_child_samples=20 will be ignored. Current value: min_data_in_leaf=23\n",
      "[LightGBM] [Warning] feature_fraction is set=0.3542116614486913, colsample_bytree=1.0 will be ignored. Current value: feature_fraction=0.3542116614486913\n",
      "[LightGBM] [Warning] bagging_fraction is set=0.9086091110118758, subsample=1.0 will be ignored. Current value: bagging_fraction=0.9086091110118758\n",
      "[LightGBM] [Warning] min_data_in_leaf is set=23, min_child_samples=20 will be ignored. Current value: min_data_in_leaf=23\n",
      "[LightGBM] [Warning] feature_fraction is set=0.3542116614486913, colsample_bytree=1.0 will be ignored. Current value: feature_fraction=0.3542116614486913\n",
      "[LightGBM] [Warning] bagging_fraction is set=0.9086091110118758, subsample=1.0 will be ignored. Current value: bagging_fraction=0.9086091110118758\n",
      "[LightGBM] [Warning] Found whitespace in feature_names, replace with underlines\n",
      "[LightGBM] [Warning] min_data_in_leaf is set=23, min_child_samples=20 will be ignored. Current value: min_data_in_leaf=23\n",
      "[LightGBM] [Warning] feature_fraction is set=0.3542116614486913, colsample_bytree=1.0 will be ignored. Current value: feature_fraction=0.3542116614486913\n",
      "[LightGBM] [Warning] bagging_fraction is set=0.9086091110118758, subsample=1.0 will be ignored. Current value: bagging_fraction=0.9086091110118758\n"
     ]
    },
    {
     "name": "stderr",
     "output_type": "stream",
     "text": [
      "10it [00:19,  1.93s/it]\n",
      "[I 2024-06-30 12:24:41,968] Trial 2 finished with value: 0.9980443224918799 and parameters: {'num_leaves': 29, 'learning_rate': 0.37296793868383776, 'min_data_in_leaf': 23, 'feature_fraction': 0.3542116614486913, 'bagging_fraction': 0.9086091110118758}. Best is trial 0 with value: 0.9992204599570247.\n"
     ]
    },
    {
     "name": "stdout",
     "output_type": "stream",
     "text": [
      "[LightGBM] [Warning] min_data_in_leaf is set=23, min_child_samples=20 will be ignored. Current value: min_data_in_leaf=23\n",
      "[LightGBM] [Warning] feature_fraction is set=0.3542116614486913, colsample_bytree=1.0 will be ignored. Current value: feature_fraction=0.3542116614486913\n",
      "[LightGBM] [Warning] bagging_fraction is set=0.9086091110118758, subsample=1.0 will be ignored. Current value: bagging_fraction=0.9086091110118758\n"
     ]
    },
    {
     "name": "stderr",
     "output_type": "stream",
     "text": [
      "0it [00:00, ?it/s]"
     ]
    },
    {
     "name": "stdout",
     "output_type": "stream",
     "text": [
      "[LightGBM] [Warning] min_data_in_leaf is set=39, min_child_samples=20 will be ignored. Current value: min_data_in_leaf=39\n",
      "[LightGBM] [Warning] feature_fraction is set=0.32326730248952096, colsample_bytree=1.0 will be ignored. Current value: feature_fraction=0.32326730248952096\n",
      "[LightGBM] [Warning] bagging_fraction is set=0.7511770679097758, subsample=1.0 will be ignored. Current value: bagging_fraction=0.7511770679097758\n",
      "[LightGBM] [Warning] Found whitespace in feature_names, replace with underlines\n",
      "[LightGBM] [Warning] min_data_in_leaf is set=39, min_child_samples=20 will be ignored. Current value: min_data_in_leaf=39\n",
      "[LightGBM] [Warning] feature_fraction is set=0.32326730248952096, colsample_bytree=1.0 will be ignored. Current value: feature_fraction=0.32326730248952096\n",
      "[LightGBM] [Warning] bagging_fraction is set=0.7511770679097758, subsample=1.0 will be ignored. Current value: bagging_fraction=0.7511770679097758\n"
     ]
    },
    {
     "name": "stderr",
     "output_type": "stream",
     "text": [
      "1it [00:02,  2.07s/it]"
     ]
    },
    {
     "name": "stdout",
     "output_type": "stream",
     "text": [
      "[LightGBM] [Warning] min_data_in_leaf is set=39, min_child_samples=20 will be ignored. Current value: min_data_in_leaf=39\n",
      "[LightGBM] [Warning] feature_fraction is set=0.32326730248952096, colsample_bytree=1.0 will be ignored. Current value: feature_fraction=0.32326730248952096\n",
      "[LightGBM] [Warning] bagging_fraction is set=0.7511770679097758, subsample=1.0 will be ignored. Current value: bagging_fraction=0.7511770679097758\n",
      "[LightGBM] [Warning] min_data_in_leaf is set=39, min_child_samples=20 will be ignored. Current value: min_data_in_leaf=39\n",
      "[LightGBM] [Warning] feature_fraction is set=0.32326730248952096, colsample_bytree=1.0 will be ignored. Current value: feature_fraction=0.32326730248952096\n",
      "[LightGBM] [Warning] bagging_fraction is set=0.7511770679097758, subsample=1.0 will be ignored. Current value: bagging_fraction=0.7511770679097758\n",
      "[LightGBM] [Warning] Found whitespace in feature_names, replace with underlines\n",
      "[LightGBM] [Warning] min_data_in_leaf is set=39, min_child_samples=20 will be ignored. Current value: min_data_in_leaf=39\n",
      "[LightGBM] [Warning] feature_fraction is set=0.32326730248952096, colsample_bytree=1.0 will be ignored. Current value: feature_fraction=0.32326730248952096\n",
      "[LightGBM] [Warning] bagging_fraction is set=0.7511770679097758, subsample=1.0 will be ignored. Current value: bagging_fraction=0.7511770679097758\n"
     ]
    },
    {
     "name": "stderr",
     "output_type": "stream",
     "text": [
      "2it [00:04,  2.04s/it]"
     ]
    },
    {
     "name": "stdout",
     "output_type": "stream",
     "text": [
      "[LightGBM] [Warning] min_data_in_leaf is set=39, min_child_samples=20 will be ignored. Current value: min_data_in_leaf=39\n",
      "[LightGBM] [Warning] feature_fraction is set=0.32326730248952096, colsample_bytree=1.0 will be ignored. Current value: feature_fraction=0.32326730248952096\n",
      "[LightGBM] [Warning] bagging_fraction is set=0.7511770679097758, subsample=1.0 will be ignored. Current value: bagging_fraction=0.7511770679097758\n",
      "[LightGBM] [Warning] min_data_in_leaf is set=39, min_child_samples=20 will be ignored. Current value: min_data_in_leaf=39\n",
      "[LightGBM] [Warning] feature_fraction is set=0.32326730248952096, colsample_bytree=1.0 will be ignored. Current value: feature_fraction=0.32326730248952096\n",
      "[LightGBM] [Warning] bagging_fraction is set=0.7511770679097758, subsample=1.0 will be ignored. Current value: bagging_fraction=0.7511770679097758\n",
      "[LightGBM] [Warning] Found whitespace in feature_names, replace with underlines\n",
      "[LightGBM] [Warning] min_data_in_leaf is set=39, min_child_samples=20 will be ignored. Current value: min_data_in_leaf=39\n",
      "[LightGBM] [Warning] feature_fraction is set=0.32326730248952096, colsample_bytree=1.0 will be ignored. Current value: feature_fraction=0.32326730248952096\n",
      "[LightGBM] [Warning] bagging_fraction is set=0.7511770679097758, subsample=1.0 will be ignored. Current value: bagging_fraction=0.7511770679097758\n"
     ]
    },
    {
     "name": "stderr",
     "output_type": "stream",
     "text": [
      "3it [00:05,  1.91s/it]"
     ]
    },
    {
     "name": "stdout",
     "output_type": "stream",
     "text": [
      "[LightGBM] [Warning] min_data_in_leaf is set=39, min_child_samples=20 will be ignored. Current value: min_data_in_leaf=39\n",
      "[LightGBM] [Warning] feature_fraction is set=0.32326730248952096, colsample_bytree=1.0 will be ignored. Current value: feature_fraction=0.32326730248952096\n",
      "[LightGBM] [Warning] bagging_fraction is set=0.7511770679097758, subsample=1.0 will be ignored. Current value: bagging_fraction=0.7511770679097758\n",
      "[LightGBM] [Warning] min_data_in_leaf is set=39, min_child_samples=20 will be ignored. Current value: min_data_in_leaf=39\n",
      "[LightGBM] [Warning] feature_fraction is set=0.32326730248952096, colsample_bytree=1.0 will be ignored. Current value: feature_fraction=0.32326730248952096\n",
      "[LightGBM] [Warning] bagging_fraction is set=0.7511770679097758, subsample=1.0 will be ignored. Current value: bagging_fraction=0.7511770679097758\n",
      "[LightGBM] [Warning] Found whitespace in feature_names, replace with underlines\n",
      "[LightGBM] [Warning] min_data_in_leaf is set=39, min_child_samples=20 will be ignored. Current value: min_data_in_leaf=39\n",
      "[LightGBM] [Warning] feature_fraction is set=0.32326730248952096, colsample_bytree=1.0 will be ignored. Current value: feature_fraction=0.32326730248952096\n",
      "[LightGBM] [Warning] bagging_fraction is set=0.7511770679097758, subsample=1.0 will be ignored. Current value: bagging_fraction=0.7511770679097758\n"
     ]
    },
    {
     "name": "stderr",
     "output_type": "stream",
     "text": [
      "4it [00:07,  1.95s/it]"
     ]
    },
    {
     "name": "stdout",
     "output_type": "stream",
     "text": [
      "[LightGBM] [Warning] min_data_in_leaf is set=39, min_child_samples=20 will be ignored. Current value: min_data_in_leaf=39\n",
      "[LightGBM] [Warning] feature_fraction is set=0.32326730248952096, colsample_bytree=1.0 will be ignored. Current value: feature_fraction=0.32326730248952096\n",
      "[LightGBM] [Warning] bagging_fraction is set=0.7511770679097758, subsample=1.0 will be ignored. Current value: bagging_fraction=0.7511770679097758\n",
      "[LightGBM] [Warning] min_data_in_leaf is set=39, min_child_samples=20 will be ignored. Current value: min_data_in_leaf=39\n",
      "[LightGBM] [Warning] feature_fraction is set=0.32326730248952096, colsample_bytree=1.0 will be ignored. Current value: feature_fraction=0.32326730248952096\n",
      "[LightGBM] [Warning] bagging_fraction is set=0.7511770679097758, subsample=1.0 will be ignored. Current value: bagging_fraction=0.7511770679097758\n",
      "[LightGBM] [Warning] Found whitespace in feature_names, replace with underlines\n",
      "[LightGBM] [Warning] min_data_in_leaf is set=39, min_child_samples=20 will be ignored. Current value: min_data_in_leaf=39\n",
      "[LightGBM] [Warning] feature_fraction is set=0.32326730248952096, colsample_bytree=1.0 will be ignored. Current value: feature_fraction=0.32326730248952096\n",
      "[LightGBM] [Warning] bagging_fraction is set=0.7511770679097758, subsample=1.0 will be ignored. Current value: bagging_fraction=0.7511770679097758\n"
     ]
    },
    {
     "name": "stderr",
     "output_type": "stream",
     "text": [
      "5it [00:09,  1.97s/it]"
     ]
    },
    {
     "name": "stdout",
     "output_type": "stream",
     "text": [
      "[LightGBM] [Warning] min_data_in_leaf is set=39, min_child_samples=20 will be ignored. Current value: min_data_in_leaf=39\n",
      "[LightGBM] [Warning] feature_fraction is set=0.32326730248952096, colsample_bytree=1.0 will be ignored. Current value: feature_fraction=0.32326730248952096\n",
      "[LightGBM] [Warning] bagging_fraction is set=0.7511770679097758, subsample=1.0 will be ignored. Current value: bagging_fraction=0.7511770679097758\n",
      "[LightGBM] [Warning] min_data_in_leaf is set=39, min_child_samples=20 will be ignored. Current value: min_data_in_leaf=39\n",
      "[LightGBM] [Warning] feature_fraction is set=0.32326730248952096, colsample_bytree=1.0 will be ignored. Current value: feature_fraction=0.32326730248952096\n",
      "[LightGBM] [Warning] bagging_fraction is set=0.7511770679097758, subsample=1.0 will be ignored. Current value: bagging_fraction=0.7511770679097758\n",
      "[LightGBM] [Warning] Found whitespace in feature_names, replace with underlines\n",
      "[LightGBM] [Warning] min_data_in_leaf is set=39, min_child_samples=20 will be ignored. Current value: min_data_in_leaf=39\n",
      "[LightGBM] [Warning] feature_fraction is set=0.32326730248952096, colsample_bytree=1.0 will be ignored. Current value: feature_fraction=0.32326730248952096\n",
      "[LightGBM] [Warning] bagging_fraction is set=0.7511770679097758, subsample=1.0 will be ignored. Current value: bagging_fraction=0.7511770679097758\n"
     ]
    },
    {
     "name": "stderr",
     "output_type": "stream",
     "text": [
      "6it [00:11,  1.98s/it]"
     ]
    },
    {
     "name": "stdout",
     "output_type": "stream",
     "text": [
      "[LightGBM] [Warning] min_data_in_leaf is set=39, min_child_samples=20 will be ignored. Current value: min_data_in_leaf=39\n",
      "[LightGBM] [Warning] feature_fraction is set=0.32326730248952096, colsample_bytree=1.0 will be ignored. Current value: feature_fraction=0.32326730248952096\n",
      "[LightGBM] [Warning] bagging_fraction is set=0.7511770679097758, subsample=1.0 will be ignored. Current value: bagging_fraction=0.7511770679097758\n",
      "[LightGBM] [Warning] min_data_in_leaf is set=39, min_child_samples=20 will be ignored. Current value: min_data_in_leaf=39\n",
      "[LightGBM] [Warning] feature_fraction is set=0.32326730248952096, colsample_bytree=1.0 will be ignored. Current value: feature_fraction=0.32326730248952096\n",
      "[LightGBM] [Warning] bagging_fraction is set=0.7511770679097758, subsample=1.0 will be ignored. Current value: bagging_fraction=0.7511770679097758\n",
      "[LightGBM] [Warning] Found whitespace in feature_names, replace with underlines\n",
      "[LightGBM] [Warning] min_data_in_leaf is set=39, min_child_samples=20 will be ignored. Current value: min_data_in_leaf=39\n",
      "[LightGBM] [Warning] feature_fraction is set=0.32326730248952096, colsample_bytree=1.0 will be ignored. Current value: feature_fraction=0.32326730248952096\n",
      "[LightGBM] [Warning] bagging_fraction is set=0.7511770679097758, subsample=1.0 will be ignored. Current value: bagging_fraction=0.7511770679097758\n"
     ]
    },
    {
     "name": "stderr",
     "output_type": "stream",
     "text": [
      "7it [00:14,  2.10s/it]"
     ]
    },
    {
     "name": "stdout",
     "output_type": "stream",
     "text": [
      "[LightGBM] [Warning] min_data_in_leaf is set=39, min_child_samples=20 will be ignored. Current value: min_data_in_leaf=39\n",
      "[LightGBM] [Warning] feature_fraction is set=0.32326730248952096, colsample_bytree=1.0 will be ignored. Current value: feature_fraction=0.32326730248952096\n",
      "[LightGBM] [Warning] bagging_fraction is set=0.7511770679097758, subsample=1.0 will be ignored. Current value: bagging_fraction=0.7511770679097758\n",
      "[LightGBM] [Warning] min_data_in_leaf is set=39, min_child_samples=20 will be ignored. Current value: min_data_in_leaf=39\n",
      "[LightGBM] [Warning] feature_fraction is set=0.32326730248952096, colsample_bytree=1.0 will be ignored. Current value: feature_fraction=0.32326730248952096\n",
      "[LightGBM] [Warning] bagging_fraction is set=0.7511770679097758, subsample=1.0 will be ignored. Current value: bagging_fraction=0.7511770679097758\n",
      "[LightGBM] [Warning] Found whitespace in feature_names, replace with underlines\n",
      "[LightGBM] [Warning] min_data_in_leaf is set=39, min_child_samples=20 will be ignored. Current value: min_data_in_leaf=39\n",
      "[LightGBM] [Warning] feature_fraction is set=0.32326730248952096, colsample_bytree=1.0 will be ignored. Current value: feature_fraction=0.32326730248952096\n",
      "[LightGBM] [Warning] bagging_fraction is set=0.7511770679097758, subsample=1.0 will be ignored. Current value: bagging_fraction=0.7511770679097758\n"
     ]
    },
    {
     "name": "stderr",
     "output_type": "stream",
     "text": [
      "8it [00:16,  2.10s/it]"
     ]
    },
    {
     "name": "stdout",
     "output_type": "stream",
     "text": [
      "[LightGBM] [Warning] min_data_in_leaf is set=39, min_child_samples=20 will be ignored. Current value: min_data_in_leaf=39\n",
      "[LightGBM] [Warning] feature_fraction is set=0.32326730248952096, colsample_bytree=1.0 will be ignored. Current value: feature_fraction=0.32326730248952096\n",
      "[LightGBM] [Warning] bagging_fraction is set=0.7511770679097758, subsample=1.0 will be ignored. Current value: bagging_fraction=0.7511770679097758\n",
      "[LightGBM] [Warning] min_data_in_leaf is set=39, min_child_samples=20 will be ignored. Current value: min_data_in_leaf=39\n",
      "[LightGBM] [Warning] feature_fraction is set=0.32326730248952096, colsample_bytree=1.0 will be ignored. Current value: feature_fraction=0.32326730248952096\n",
      "[LightGBM] [Warning] bagging_fraction is set=0.7511770679097758, subsample=1.0 will be ignored. Current value: bagging_fraction=0.7511770679097758\n",
      "[LightGBM] [Warning] Found whitespace in feature_names, replace with underlines\n",
      "[LightGBM] [Warning] min_data_in_leaf is set=39, min_child_samples=20 will be ignored. Current value: min_data_in_leaf=39\n",
      "[LightGBM] [Warning] feature_fraction is set=0.32326730248952096, colsample_bytree=1.0 will be ignored. Current value: feature_fraction=0.32326730248952096\n",
      "[LightGBM] [Warning] bagging_fraction is set=0.7511770679097758, subsample=1.0 will be ignored. Current value: bagging_fraction=0.7511770679097758\n"
     ]
    },
    {
     "name": "stderr",
     "output_type": "stream",
     "text": [
      "9it [00:18,  2.16s/it]"
     ]
    },
    {
     "name": "stdout",
     "output_type": "stream",
     "text": [
      "[LightGBM] [Warning] min_data_in_leaf is set=39, min_child_samples=20 will be ignored. Current value: min_data_in_leaf=39\n",
      "[LightGBM] [Warning] feature_fraction is set=0.32326730248952096, colsample_bytree=1.0 will be ignored. Current value: feature_fraction=0.32326730248952096\n",
      "[LightGBM] [Warning] bagging_fraction is set=0.7511770679097758, subsample=1.0 will be ignored. Current value: bagging_fraction=0.7511770679097758\n",
      "[LightGBM] [Warning] min_data_in_leaf is set=39, min_child_samples=20 will be ignored. Current value: min_data_in_leaf=39\n",
      "[LightGBM] [Warning] feature_fraction is set=0.32326730248952096, colsample_bytree=1.0 will be ignored. Current value: feature_fraction=0.32326730248952096\n",
      "[LightGBM] [Warning] bagging_fraction is set=0.7511770679097758, subsample=1.0 will be ignored. Current value: bagging_fraction=0.7511770679097758\n",
      "[LightGBM] [Warning] Found whitespace in feature_names, replace with underlines\n",
      "[LightGBM] [Warning] min_data_in_leaf is set=39, min_child_samples=20 will be ignored. Current value: min_data_in_leaf=39\n",
      "[LightGBM] [Warning] feature_fraction is set=0.32326730248952096, colsample_bytree=1.0 will be ignored. Current value: feature_fraction=0.32326730248952096\n",
      "[LightGBM] [Warning] bagging_fraction is set=0.7511770679097758, subsample=1.0 will be ignored. Current value: bagging_fraction=0.7511770679097758\n"
     ]
    },
    {
     "name": "stderr",
     "output_type": "stream",
     "text": [
      "10it [00:20,  2.08s/it]\n",
      "[I 2024-06-30 12:25:02,790] Trial 3 finished with value: 0.9982674739279792 and parameters: {'num_leaves': 48, 'learning_rate': 0.42711302692080494, 'min_data_in_leaf': 39, 'feature_fraction': 0.32326730248952096, 'bagging_fraction': 0.7511770679097758}. Best is trial 0 with value: 0.9992204599570247.\n"
     ]
    },
    {
     "name": "stdout",
     "output_type": "stream",
     "text": [
      "[LightGBM] [Warning] min_data_in_leaf is set=39, min_child_samples=20 will be ignored. Current value: min_data_in_leaf=39\n",
      "[LightGBM] [Warning] feature_fraction is set=0.32326730248952096, colsample_bytree=1.0 will be ignored. Current value: feature_fraction=0.32326730248952096\n",
      "[LightGBM] [Warning] bagging_fraction is set=0.7511770679097758, subsample=1.0 will be ignored. Current value: bagging_fraction=0.7511770679097758\n"
     ]
    },
    {
     "name": "stderr",
     "output_type": "stream",
     "text": [
      "0it [00:00, ?it/s]"
     ]
    },
    {
     "name": "stdout",
     "output_type": "stream",
     "text": [
      "[LightGBM] [Warning] min_data_in_leaf is set=46, min_child_samples=20 will be ignored. Current value: min_data_in_leaf=46\n",
      "[LightGBM] [Warning] feature_fraction is set=0.8078705576657698, colsample_bytree=1.0 will be ignored. Current value: feature_fraction=0.8078705576657698\n",
      "[LightGBM] [Warning] bagging_fraction is set=0.9461209055211933, subsample=1.0 will be ignored. Current value: bagging_fraction=0.9461209055211933\n",
      "[LightGBM] [Warning] Found whitespace in feature_names, replace with underlines\n",
      "[LightGBM] [Warning] min_data_in_leaf is set=46, min_child_samples=20 will be ignored. Current value: min_data_in_leaf=46\n",
      "[LightGBM] [Warning] feature_fraction is set=0.8078705576657698, colsample_bytree=1.0 will be ignored. Current value: feature_fraction=0.8078705576657698\n",
      "[LightGBM] [Warning] bagging_fraction is set=0.9461209055211933, subsample=1.0 will be ignored. Current value: bagging_fraction=0.9461209055211933\n"
     ]
    },
    {
     "name": "stderr",
     "output_type": "stream",
     "text": [
      "1it [00:01,  1.46s/it]"
     ]
    },
    {
     "name": "stdout",
     "output_type": "stream",
     "text": [
      "[LightGBM] [Warning] min_data_in_leaf is set=46, min_child_samples=20 will be ignored. Current value: min_data_in_leaf=46\n",
      "[LightGBM] [Warning] feature_fraction is set=0.8078705576657698, colsample_bytree=1.0 will be ignored. Current value: feature_fraction=0.8078705576657698\n",
      "[LightGBM] [Warning] bagging_fraction is set=0.9461209055211933, subsample=1.0 will be ignored. Current value: bagging_fraction=0.9461209055211933\n",
      "[LightGBM] [Warning] min_data_in_leaf is set=46, min_child_samples=20 will be ignored. Current value: min_data_in_leaf=46\n",
      "[LightGBM] [Warning] feature_fraction is set=0.8078705576657698, colsample_bytree=1.0 will be ignored. Current value: feature_fraction=0.8078705576657698\n",
      "[LightGBM] [Warning] bagging_fraction is set=0.9461209055211933, subsample=1.0 will be ignored. Current value: bagging_fraction=0.9461209055211933\n",
      "[LightGBM] [Warning] Found whitespace in feature_names, replace with underlines\n",
      "[LightGBM] [Warning] min_data_in_leaf is set=46, min_child_samples=20 will be ignored. Current value: min_data_in_leaf=46\n",
      "[LightGBM] [Warning] feature_fraction is set=0.8078705576657698, colsample_bytree=1.0 will be ignored. Current value: feature_fraction=0.8078705576657698\n",
      "[LightGBM] [Warning] bagging_fraction is set=0.9461209055211933, subsample=1.0 will be ignored. Current value: bagging_fraction=0.9461209055211933\n"
     ]
    },
    {
     "name": "stderr",
     "output_type": "stream",
     "text": [
      "2it [00:02,  1.44s/it]"
     ]
    },
    {
     "name": "stdout",
     "output_type": "stream",
     "text": [
      "[LightGBM] [Warning] min_data_in_leaf is set=46, min_child_samples=20 will be ignored. Current value: min_data_in_leaf=46\n",
      "[LightGBM] [Warning] feature_fraction is set=0.8078705576657698, colsample_bytree=1.0 will be ignored. Current value: feature_fraction=0.8078705576657698\n",
      "[LightGBM] [Warning] bagging_fraction is set=0.9461209055211933, subsample=1.0 will be ignored. Current value: bagging_fraction=0.9461209055211933\n",
      "[LightGBM] [Warning] min_data_in_leaf is set=46, min_child_samples=20 will be ignored. Current value: min_data_in_leaf=46\n",
      "[LightGBM] [Warning] feature_fraction is set=0.8078705576657698, colsample_bytree=1.0 will be ignored. Current value: feature_fraction=0.8078705576657698\n",
      "[LightGBM] [Warning] bagging_fraction is set=0.9461209055211933, subsample=1.0 will be ignored. Current value: bagging_fraction=0.9461209055211933\n",
      "[LightGBM] [Warning] Found whitespace in feature_names, replace with underlines\n",
      "[LightGBM] [Warning] min_data_in_leaf is set=46, min_child_samples=20 will be ignored. Current value: min_data_in_leaf=46\n",
      "[LightGBM] [Warning] feature_fraction is set=0.8078705576657698, colsample_bytree=1.0 will be ignored. Current value: feature_fraction=0.8078705576657698\n",
      "[LightGBM] [Warning] bagging_fraction is set=0.9461209055211933, subsample=1.0 will be ignored. Current value: bagging_fraction=0.9461209055211933\n"
     ]
    },
    {
     "name": "stderr",
     "output_type": "stream",
     "text": [
      "3it [00:04,  1.49s/it]"
     ]
    },
    {
     "name": "stdout",
     "output_type": "stream",
     "text": [
      "[LightGBM] [Warning] min_data_in_leaf is set=46, min_child_samples=20 will be ignored. Current value: min_data_in_leaf=46\n",
      "[LightGBM] [Warning] feature_fraction is set=0.8078705576657698, colsample_bytree=1.0 will be ignored. Current value: feature_fraction=0.8078705576657698\n",
      "[LightGBM] [Warning] bagging_fraction is set=0.9461209055211933, subsample=1.0 will be ignored. Current value: bagging_fraction=0.9461209055211933\n",
      "[LightGBM] [Warning] min_data_in_leaf is set=46, min_child_samples=20 will be ignored. Current value: min_data_in_leaf=46\n",
      "[LightGBM] [Warning] feature_fraction is set=0.8078705576657698, colsample_bytree=1.0 will be ignored. Current value: feature_fraction=0.8078705576657698\n",
      "[LightGBM] [Warning] bagging_fraction is set=0.9461209055211933, subsample=1.0 will be ignored. Current value: bagging_fraction=0.9461209055211933\n",
      "[LightGBM] [Warning] Found whitespace in feature_names, replace with underlines\n",
      "[LightGBM] [Warning] min_data_in_leaf is set=46, min_child_samples=20 will be ignored. Current value: min_data_in_leaf=46\n",
      "[LightGBM] [Warning] feature_fraction is set=0.8078705576657698, colsample_bytree=1.0 will be ignored. Current value: feature_fraction=0.8078705576657698\n",
      "[LightGBM] [Warning] bagging_fraction is set=0.9461209055211933, subsample=1.0 will be ignored. Current value: bagging_fraction=0.9461209055211933\n"
     ]
    },
    {
     "name": "stderr",
     "output_type": "stream",
     "text": [
      "4it [00:05,  1.52s/it]"
     ]
    },
    {
     "name": "stdout",
     "output_type": "stream",
     "text": [
      "[LightGBM] [Warning] min_data_in_leaf is set=46, min_child_samples=20 will be ignored. Current value: min_data_in_leaf=46\n",
      "[LightGBM] [Warning] feature_fraction is set=0.8078705576657698, colsample_bytree=1.0 will be ignored. Current value: feature_fraction=0.8078705576657698\n",
      "[LightGBM] [Warning] bagging_fraction is set=0.9461209055211933, subsample=1.0 will be ignored. Current value: bagging_fraction=0.9461209055211933\n",
      "[LightGBM] [Warning] min_data_in_leaf is set=46, min_child_samples=20 will be ignored. Current value: min_data_in_leaf=46\n",
      "[LightGBM] [Warning] feature_fraction is set=0.8078705576657698, colsample_bytree=1.0 will be ignored. Current value: feature_fraction=0.8078705576657698\n",
      "[LightGBM] [Warning] bagging_fraction is set=0.9461209055211933, subsample=1.0 will be ignored. Current value: bagging_fraction=0.9461209055211933\n",
      "[LightGBM] [Warning] Found whitespace in feature_names, replace with underlines\n",
      "[LightGBM] [Warning] min_data_in_leaf is set=46, min_child_samples=20 will be ignored. Current value: min_data_in_leaf=46\n",
      "[LightGBM] [Warning] feature_fraction is set=0.8078705576657698, colsample_bytree=1.0 will be ignored. Current value: feature_fraction=0.8078705576657698\n",
      "[LightGBM] [Warning] bagging_fraction is set=0.9461209055211933, subsample=1.0 will be ignored. Current value: bagging_fraction=0.9461209055211933\n"
     ]
    },
    {
     "name": "stderr",
     "output_type": "stream",
     "text": [
      "5it [00:07,  1.49s/it]"
     ]
    },
    {
     "name": "stdout",
     "output_type": "stream",
     "text": [
      "[LightGBM] [Warning] min_data_in_leaf is set=46, min_child_samples=20 will be ignored. Current value: min_data_in_leaf=46\n",
      "[LightGBM] [Warning] feature_fraction is set=0.8078705576657698, colsample_bytree=1.0 will be ignored. Current value: feature_fraction=0.8078705576657698\n",
      "[LightGBM] [Warning] bagging_fraction is set=0.9461209055211933, subsample=1.0 will be ignored. Current value: bagging_fraction=0.9461209055211933\n",
      "[LightGBM] [Warning] min_data_in_leaf is set=46, min_child_samples=20 will be ignored. Current value: min_data_in_leaf=46\n",
      "[LightGBM] [Warning] feature_fraction is set=0.8078705576657698, colsample_bytree=1.0 will be ignored. Current value: feature_fraction=0.8078705576657698\n",
      "[LightGBM] [Warning] bagging_fraction is set=0.9461209055211933, subsample=1.0 will be ignored. Current value: bagging_fraction=0.9461209055211933\n",
      "[LightGBM] [Warning] Found whitespace in feature_names, replace with underlines\n",
      "[LightGBM] [Warning] min_data_in_leaf is set=46, min_child_samples=20 will be ignored. Current value: min_data_in_leaf=46\n",
      "[LightGBM] [Warning] feature_fraction is set=0.8078705576657698, colsample_bytree=1.0 will be ignored. Current value: feature_fraction=0.8078705576657698\n",
      "[LightGBM] [Warning] bagging_fraction is set=0.9461209055211933, subsample=1.0 will be ignored. Current value: bagging_fraction=0.9461209055211933\n"
     ]
    },
    {
     "name": "stderr",
     "output_type": "stream",
     "text": [
      "6it [00:08,  1.50s/it]"
     ]
    },
    {
     "name": "stdout",
     "output_type": "stream",
     "text": [
      "[LightGBM] [Warning] min_data_in_leaf is set=46, min_child_samples=20 will be ignored. Current value: min_data_in_leaf=46\n",
      "[LightGBM] [Warning] feature_fraction is set=0.8078705576657698, colsample_bytree=1.0 will be ignored. Current value: feature_fraction=0.8078705576657698\n",
      "[LightGBM] [Warning] bagging_fraction is set=0.9461209055211933, subsample=1.0 will be ignored. Current value: bagging_fraction=0.9461209055211933\n",
      "[LightGBM] [Warning] min_data_in_leaf is set=46, min_child_samples=20 will be ignored. Current value: min_data_in_leaf=46\n",
      "[LightGBM] [Warning] feature_fraction is set=0.8078705576657698, colsample_bytree=1.0 will be ignored. Current value: feature_fraction=0.8078705576657698\n",
      "[LightGBM] [Warning] bagging_fraction is set=0.9461209055211933, subsample=1.0 will be ignored. Current value: bagging_fraction=0.9461209055211933\n",
      "[LightGBM] [Warning] Found whitespace in feature_names, replace with underlines\n",
      "[LightGBM] [Warning] min_data_in_leaf is set=46, min_child_samples=20 will be ignored. Current value: min_data_in_leaf=46\n",
      "[LightGBM] [Warning] feature_fraction is set=0.8078705576657698, colsample_bytree=1.0 will be ignored. Current value: feature_fraction=0.8078705576657698\n",
      "[LightGBM] [Warning] bagging_fraction is set=0.9461209055211933, subsample=1.0 will be ignored. Current value: bagging_fraction=0.9461209055211933\n"
     ]
    },
    {
     "name": "stderr",
     "output_type": "stream",
     "text": [
      "7it [00:10,  1.47s/it]"
     ]
    },
    {
     "name": "stdout",
     "output_type": "stream",
     "text": [
      "[LightGBM] [Warning] min_data_in_leaf is set=46, min_child_samples=20 will be ignored. Current value: min_data_in_leaf=46\n",
      "[LightGBM] [Warning] feature_fraction is set=0.8078705576657698, colsample_bytree=1.0 will be ignored. Current value: feature_fraction=0.8078705576657698\n",
      "[LightGBM] [Warning] bagging_fraction is set=0.9461209055211933, subsample=1.0 will be ignored. Current value: bagging_fraction=0.9461209055211933\n",
      "[LightGBM] [Warning] min_data_in_leaf is set=46, min_child_samples=20 will be ignored. Current value: min_data_in_leaf=46\n",
      "[LightGBM] [Warning] feature_fraction is set=0.8078705576657698, colsample_bytree=1.0 will be ignored. Current value: feature_fraction=0.8078705576657698\n",
      "[LightGBM] [Warning] bagging_fraction is set=0.9461209055211933, subsample=1.0 will be ignored. Current value: bagging_fraction=0.9461209055211933\n",
      "[LightGBM] [Warning] Found whitespace in feature_names, replace with underlines\n",
      "[LightGBM] [Warning] min_data_in_leaf is set=46, min_child_samples=20 will be ignored. Current value: min_data_in_leaf=46\n",
      "[LightGBM] [Warning] feature_fraction is set=0.8078705576657698, colsample_bytree=1.0 will be ignored. Current value: feature_fraction=0.8078705576657698\n",
      "[LightGBM] [Warning] bagging_fraction is set=0.9461209055211933, subsample=1.0 will be ignored. Current value: bagging_fraction=0.9461209055211933\n"
     ]
    },
    {
     "name": "stderr",
     "output_type": "stream",
     "text": [
      "8it [00:11,  1.51s/it]"
     ]
    },
    {
     "name": "stdout",
     "output_type": "stream",
     "text": [
      "[LightGBM] [Warning] min_data_in_leaf is set=46, min_child_samples=20 will be ignored. Current value: min_data_in_leaf=46\n",
      "[LightGBM] [Warning] feature_fraction is set=0.8078705576657698, colsample_bytree=1.0 will be ignored. Current value: feature_fraction=0.8078705576657698\n",
      "[LightGBM] [Warning] bagging_fraction is set=0.9461209055211933, subsample=1.0 will be ignored. Current value: bagging_fraction=0.9461209055211933\n",
      "[LightGBM] [Warning] min_data_in_leaf is set=46, min_child_samples=20 will be ignored. Current value: min_data_in_leaf=46\n",
      "[LightGBM] [Warning] feature_fraction is set=0.8078705576657698, colsample_bytree=1.0 will be ignored. Current value: feature_fraction=0.8078705576657698\n",
      "[LightGBM] [Warning] bagging_fraction is set=0.9461209055211933, subsample=1.0 will be ignored. Current value: bagging_fraction=0.9461209055211933\n",
      "[LightGBM] [Warning] Found whitespace in feature_names, replace with underlines\n",
      "[LightGBM] [Warning] min_data_in_leaf is set=46, min_child_samples=20 will be ignored. Current value: min_data_in_leaf=46\n",
      "[LightGBM] [Warning] feature_fraction is set=0.8078705576657698, colsample_bytree=1.0 will be ignored. Current value: feature_fraction=0.8078705576657698\n",
      "[LightGBM] [Warning] bagging_fraction is set=0.9461209055211933, subsample=1.0 will be ignored. Current value: bagging_fraction=0.9461209055211933\n"
     ]
    },
    {
     "name": "stderr",
     "output_type": "stream",
     "text": [
      "9it [00:13,  1.54s/it]"
     ]
    },
    {
     "name": "stdout",
     "output_type": "stream",
     "text": [
      "[LightGBM] [Warning] min_data_in_leaf is set=46, min_child_samples=20 will be ignored. Current value: min_data_in_leaf=46\n",
      "[LightGBM] [Warning] feature_fraction is set=0.8078705576657698, colsample_bytree=1.0 will be ignored. Current value: feature_fraction=0.8078705576657698\n",
      "[LightGBM] [Warning] bagging_fraction is set=0.9461209055211933, subsample=1.0 will be ignored. Current value: bagging_fraction=0.9461209055211933\n",
      "[LightGBM] [Warning] min_data_in_leaf is set=46, min_child_samples=20 will be ignored. Current value: min_data_in_leaf=46\n",
      "[LightGBM] [Warning] feature_fraction is set=0.8078705576657698, colsample_bytree=1.0 will be ignored. Current value: feature_fraction=0.8078705576657698\n",
      "[LightGBM] [Warning] bagging_fraction is set=0.9461209055211933, subsample=1.0 will be ignored. Current value: bagging_fraction=0.9461209055211933\n",
      "[LightGBM] [Warning] Found whitespace in feature_names, replace with underlines\n",
      "[LightGBM] [Warning] min_data_in_leaf is set=46, min_child_samples=20 will be ignored. Current value: min_data_in_leaf=46\n",
      "[LightGBM] [Warning] feature_fraction is set=0.8078705576657698, colsample_bytree=1.0 will be ignored. Current value: feature_fraction=0.8078705576657698\n",
      "[LightGBM] [Warning] bagging_fraction is set=0.9461209055211933, subsample=1.0 will be ignored. Current value: bagging_fraction=0.9461209055211933\n"
     ]
    },
    {
     "name": "stderr",
     "output_type": "stream",
     "text": [
      "10it [00:14,  1.50s/it]\n",
      "[I 2024-06-30 12:25:17,782] Trial 4 finished with value: 0.9962303384654205 and parameters: {'num_leaves': 11, 'learning_rate': 0.2346109493443951, 'min_data_in_leaf': 46, 'feature_fraction': 0.8078705576657698, 'bagging_fraction': 0.9461209055211933}. Best is trial 0 with value: 0.9992204599570247.\n",
      "[I 2024-06-30 12:25:17,786] A new study created in memory with name: no-name-2b64d244-21d9-4785-b0df-47216518bb49\n"
     ]
    },
    {
     "name": "stdout",
     "output_type": "stream",
     "text": [
      "[LightGBM] [Warning] min_data_in_leaf is set=46, min_child_samples=20 will be ignored. Current value: min_data_in_leaf=46\n",
      "[LightGBM] [Warning] feature_fraction is set=0.8078705576657698, colsample_bytree=1.0 will be ignored. Current value: feature_fraction=0.8078705576657698\n",
      "[LightGBM] [Warning] bagging_fraction is set=0.9461209055211933, subsample=1.0 will be ignored. Current value: bagging_fraction=0.9461209055211933\n",
      "Best parameters: {'num_leaves': 42, 'learning_rate': 0.44643270801445767, 'min_data_in_leaf': 37, 'feature_fraction': 0.2738910987798412, 'bagging_fraction': 0.5009937636806028}\n",
      "Best AUC Score: 0.9992204599570247\n",
      "Best AUC score for LightGBM: 0.9992204599570247\n",
      "----------------------\n",
      "Tuning and fitting model ----------->>>>  CatBoost\n"
     ]
    },
    {
     "name": "stderr",
     "output_type": "stream",
     "text": [
      "0it [00:00, ?it/s]"
     ]
    },
    {
     "name": "stdout",
     "output_type": "stream",
     "text": [
      "0:\tlearn: 0.4680795\ttotal: 54.2ms\tremaining: 1.57s\n",
      "1:\tlearn: 0.3701838\ttotal: 104ms\tremaining: 1.45s\n",
      "2:\tlearn: 0.3149870\ttotal: 154ms\tremaining: 1.39s\n",
      "3:\tlearn: 0.2837960\ttotal: 202ms\tremaining: 1.31s\n",
      "4:\tlearn: 0.2636630\ttotal: 253ms\tremaining: 1.26s\n",
      "5:\tlearn: 0.2509790\ttotal: 306ms\tremaining: 1.23s\n",
      "6:\tlearn: 0.2424183\ttotal: 354ms\tremaining: 1.16s\n",
      "7:\tlearn: 0.2308393\ttotal: 408ms\tremaining: 1.12s\n",
      "8:\tlearn: 0.2225518\ttotal: 462ms\tremaining: 1.08s\n",
      "9:\tlearn: 0.2173073\ttotal: 516ms\tremaining: 1.03s\n",
      "10:\tlearn: 0.2119936\ttotal: 565ms\tremaining: 976ms\n",
      "11:\tlearn: 0.2058744\ttotal: 618ms\tremaining: 927ms\n",
      "12:\tlearn: 0.2004645\ttotal: 667ms\tremaining: 872ms\n",
      "13:\tlearn: 0.1980377\ttotal: 719ms\tremaining: 822ms\n",
      "14:\tlearn: 0.1958273\ttotal: 765ms\tremaining: 765ms\n",
      "15:\tlearn: 0.1928143\ttotal: 818ms\tremaining: 716ms\n",
      "16:\tlearn: 0.1912482\ttotal: 867ms\tremaining: 663ms\n",
      "17:\tlearn: 0.1857201\ttotal: 920ms\tremaining: 613ms\n",
      "18:\tlearn: 0.1805411\ttotal: 973ms\tremaining: 563ms\n",
      "19:\tlearn: 0.1780390\ttotal: 1.02s\tremaining: 511ms\n",
      "20:\tlearn: 0.1741525\ttotal: 1.08s\tremaining: 462ms\n",
      "21:\tlearn: 0.1719544\ttotal: 1.13s\tremaining: 410ms\n",
      "22:\tlearn: 0.1695163\ttotal: 1.18s\tremaining: 359ms\n",
      "23:\tlearn: 0.1677697\ttotal: 1.23s\tremaining: 309ms\n",
      "24:\tlearn: 0.1651747\ttotal: 1.28s\tremaining: 257ms\n",
      "25:\tlearn: 0.1626926\ttotal: 1.34s\tremaining: 206ms\n",
      "26:\tlearn: 0.1591687\ttotal: 1.39s\tremaining: 155ms\n"
     ]
    },
    {
     "name": "stderr",
     "output_type": "stream",
     "text": [
      "1it [00:01,  1.95s/it]"
     ]
    },
    {
     "name": "stdout",
     "output_type": "stream",
     "text": [
      "27:\tlearn: 0.1559961\ttotal: 1.45s\tremaining: 103ms\n",
      "28:\tlearn: 0.1534460\ttotal: 1.5s\tremaining: 51.7ms\n",
      "29:\tlearn: 0.1519955\ttotal: 1.55s\tremaining: 0us\n",
      "0:\tlearn: 0.4685358\ttotal: 55.6ms\tremaining: 1.61s\n",
      "1:\tlearn: 0.3688542\ttotal: 110ms\tremaining: 1.54s\n",
      "2:\tlearn: 0.3140128\ttotal: 166ms\tremaining: 1.5s\n",
      "3:\tlearn: 0.2829698\ttotal: 219ms\tremaining: 1.42s\n",
      "4:\tlearn: 0.2633990\ttotal: 300ms\tremaining: 1.5s\n",
      "5:\tlearn: 0.2503980\ttotal: 362ms\tremaining: 1.45s\n",
      "6:\tlearn: 0.2409852\ttotal: 428ms\tremaining: 1.41s\n",
      "7:\tlearn: 0.2343816\ttotal: 484ms\tremaining: 1.33s\n",
      "8:\tlearn: 0.2224293\ttotal: 542ms\tremaining: 1.26s\n",
      "9:\tlearn: 0.2178227\ttotal: 593ms\tremaining: 1.19s\n",
      "10:\tlearn: 0.2126020\ttotal: 651ms\tremaining: 1.12s\n",
      "11:\tlearn: 0.2081409\ttotal: 702ms\tremaining: 1.05s\n",
      "12:\tlearn: 0.2024016\ttotal: 758ms\tremaining: 991ms\n",
      "13:\tlearn: 0.1991895\ttotal: 810ms\tremaining: 926ms\n",
      "14:\tlearn: 0.1943745\ttotal: 870ms\tremaining: 870ms\n",
      "15:\tlearn: 0.1915984\ttotal: 918ms\tremaining: 803ms\n",
      "16:\tlearn: 0.1887144\ttotal: 969ms\tremaining: 741ms\n",
      "17:\tlearn: 0.1864372\ttotal: 1.02s\tremaining: 679ms\n",
      "18:\tlearn: 0.1832946\ttotal: 1.07s\tremaining: 620ms\n",
      "19:\tlearn: 0.1803427\ttotal: 1.12s\tremaining: 562ms\n",
      "20:\tlearn: 0.1775143\ttotal: 1.18s\tremaining: 504ms\n",
      "21:\tlearn: 0.1758600\ttotal: 1.23s\tremaining: 447ms\n",
      "22:\tlearn: 0.1747093\ttotal: 1.28s\tremaining: 391ms\n",
      "23:\tlearn: 0.1721754\ttotal: 1.34s\tremaining: 336ms\n",
      "24:\tlearn: 0.1666203\ttotal: 1.4s\tremaining: 281ms\n",
      "25:\tlearn: 0.1627438\ttotal: 1.46s\tremaining: 224ms\n",
      "26:\tlearn: 0.1595613\ttotal: 1.51s\tremaining: 168ms\n",
      "27:\tlearn: 0.1556688\ttotal: 1.56s\tremaining: 112ms\n"
     ]
    },
    {
     "name": "stderr",
     "output_type": "stream",
     "text": [
      "2it [00:03,  1.98s/it]"
     ]
    },
    {
     "name": "stdout",
     "output_type": "stream",
     "text": [
      "28:\tlearn: 0.1519496\ttotal: 1.62s\tremaining: 55.9ms\n",
      "29:\tlearn: 0.1498609\ttotal: 1.68s\tremaining: 0us\n",
      "0:\tlearn: 0.4679807\ttotal: 49.4ms\tremaining: 1.43s\n",
      "1:\tlearn: 0.3699676\ttotal: 98.7ms\tremaining: 1.38s\n",
      "2:\tlearn: 0.3137421\ttotal: 151ms\tremaining: 1.36s\n",
      "3:\tlearn: 0.2821589\ttotal: 200ms\tremaining: 1.3s\n",
      "4:\tlearn: 0.2620315\ttotal: 252ms\tremaining: 1.26s\n",
      "5:\tlearn: 0.2480724\ttotal: 321ms\tremaining: 1.28s\n",
      "6:\tlearn: 0.2358475\ttotal: 399ms\tremaining: 1.31s\n",
      "7:\tlearn: 0.2282415\ttotal: 454ms\tremaining: 1.25s\n",
      "8:\tlearn: 0.2226460\ttotal: 509ms\tremaining: 1.19s\n",
      "9:\tlearn: 0.2174632\ttotal: 575ms\tremaining: 1.15s\n",
      "10:\tlearn: 0.2131231\ttotal: 631ms\tremaining: 1.09s\n",
      "11:\tlearn: 0.2086775\ttotal: 689ms\tremaining: 1.03s\n",
      "12:\tlearn: 0.2035364\ttotal: 740ms\tremaining: 968ms\n",
      "13:\tlearn: 0.1988312\ttotal: 797ms\tremaining: 911ms\n",
      "14:\tlearn: 0.1948679\ttotal: 856ms\tremaining: 856ms\n",
      "15:\tlearn: 0.1905650\ttotal: 915ms\tremaining: 801ms\n",
      "16:\tlearn: 0.1858761\ttotal: 973ms\tremaining: 744ms\n",
      "17:\tlearn: 0.1793749\ttotal: 1.02s\tremaining: 684ms\n",
      "18:\tlearn: 0.1772916\ttotal: 1.08s\tremaining: 624ms\n",
      "19:\tlearn: 0.1743570\ttotal: 1.13s\tremaining: 566ms\n",
      "20:\tlearn: 0.1720510\ttotal: 1.18s\tremaining: 507ms\n",
      "21:\tlearn: 0.1694353\ttotal: 1.24s\tremaining: 451ms\n",
      "22:\tlearn: 0.1667023\ttotal: 1.29s\tremaining: 394ms\n",
      "23:\tlearn: 0.1626977\ttotal: 1.35s\tremaining: 338ms\n",
      "24:\tlearn: 0.1609189\ttotal: 1.41s\tremaining: 282ms\n",
      "25:\tlearn: 0.1592970\ttotal: 1.46s\tremaining: 225ms\n",
      "26:\tlearn: 0.1570851\ttotal: 1.52s\tremaining: 169ms\n",
      "27:\tlearn: 0.1542651\ttotal: 1.57s\tremaining: 112ms\n",
      "28:\tlearn: 0.1523679\ttotal: 1.62s\tremaining: 55.8ms\n",
      "29:\tlearn: 0.1507985\ttotal: 1.67s\tremaining: 0us\n"
     ]
    },
    {
     "name": "stderr",
     "output_type": "stream",
     "text": [
      "3it [00:05,  1.99s/it]"
     ]
    },
    {
     "name": "stdout",
     "output_type": "stream",
     "text": [
      "0:\tlearn: 0.4681352\ttotal: 50.3ms\tremaining: 1.46s\n",
      "1:\tlearn: 0.3701933\ttotal: 100ms\tremaining: 1.4s\n",
      "2:\tlearn: 0.3144671\ttotal: 154ms\tremaining: 1.39s\n",
      "3:\tlearn: 0.2826156\ttotal: 208ms\tremaining: 1.35s\n",
      "4:\tlearn: 0.2611796\ttotal: 263ms\tremaining: 1.32s\n",
      "5:\tlearn: 0.2480689\ttotal: 321ms\tremaining: 1.28s\n",
      "6:\tlearn: 0.2390321\ttotal: 381ms\tremaining: 1.25s\n",
      "7:\tlearn: 0.2318889\ttotal: 433ms\tremaining: 1.19s\n",
      "8:\tlearn: 0.2219451\ttotal: 494ms\tremaining: 1.15s\n",
      "9:\tlearn: 0.2173360\ttotal: 549ms\tremaining: 1.1s\n",
      "10:\tlearn: 0.2132868\ttotal: 609ms\tremaining: 1.05s\n",
      "11:\tlearn: 0.2060115\ttotal: 664ms\tremaining: 996ms\n",
      "12:\tlearn: 0.2024966\ttotal: 719ms\tremaining: 940ms\n",
      "13:\tlearn: 0.1989687\ttotal: 773ms\tremaining: 883ms\n",
      "14:\tlearn: 0.1941551\ttotal: 833ms\tremaining: 833ms\n",
      "15:\tlearn: 0.1891913\ttotal: 891ms\tremaining: 780ms\n",
      "16:\tlearn: 0.1842795\ttotal: 948ms\tremaining: 725ms\n",
      "17:\tlearn: 0.1825472\ttotal: 999ms\tremaining: 666ms\n",
      "18:\tlearn: 0.1807283\ttotal: 1.05s\tremaining: 611ms\n",
      "19:\tlearn: 0.1765349\ttotal: 1.11s\tremaining: 555ms\n",
      "20:\tlearn: 0.1693454\ttotal: 1.17s\tremaining: 500ms\n",
      "21:\tlearn: 0.1643596\ttotal: 1.23s\tremaining: 446ms\n",
      "22:\tlearn: 0.1612809\ttotal: 1.28s\tremaining: 391ms\n",
      "23:\tlearn: 0.1589080\ttotal: 1.35s\tremaining: 337ms\n",
      "24:\tlearn: 0.1579245\ttotal: 1.41s\tremaining: 281ms\n",
      "25:\tlearn: 0.1541643\ttotal: 1.47s\tremaining: 226ms\n",
      "26:\tlearn: 0.1529786\ttotal: 1.53s\tremaining: 170ms\n",
      "27:\tlearn: 0.1513367\ttotal: 1.58s\tremaining: 113ms\n"
     ]
    },
    {
     "name": "stderr",
     "output_type": "stream",
     "text": [
      "4it [00:07,  2.01s/it]"
     ]
    },
    {
     "name": "stdout",
     "output_type": "stream",
     "text": [
      "28:\tlearn: 0.1500981\ttotal: 1.64s\tremaining: 56.5ms\n",
      "29:\tlearn: 0.1474962\ttotal: 1.7s\tremaining: 0us\n",
      "0:\tlearn: 0.4686860\ttotal: 76.6ms\tremaining: 2.22s\n",
      "1:\tlearn: 0.3696881\ttotal: 154ms\tremaining: 2.15s\n",
      "2:\tlearn: 0.3163133\ttotal: 221ms\tremaining: 1.99s\n",
      "3:\tlearn: 0.2844207\ttotal: 295ms\tremaining: 1.92s\n",
      "4:\tlearn: 0.2643123\ttotal: 363ms\tremaining: 1.81s\n",
      "5:\tlearn: 0.2504632\ttotal: 431ms\tremaining: 1.73s\n",
      "6:\tlearn: 0.2414959\ttotal: 490ms\tremaining: 1.61s\n",
      "7:\tlearn: 0.2321596\ttotal: 552ms\tremaining: 1.52s\n",
      "8:\tlearn: 0.2250639\ttotal: 606ms\tremaining: 1.41s\n",
      "9:\tlearn: 0.2162509\ttotal: 666ms\tremaining: 1.33s\n",
      "10:\tlearn: 0.2125370\ttotal: 724ms\tremaining: 1.25s\n",
      "11:\tlearn: 0.2075482\ttotal: 777ms\tremaining: 1.17s\n",
      "12:\tlearn: 0.2046552\ttotal: 830ms\tremaining: 1.08s\n",
      "13:\tlearn: 0.2018895\ttotal: 886ms\tremaining: 1.01s\n",
      "14:\tlearn: 0.1997611\ttotal: 936ms\tremaining: 936ms\n",
      "15:\tlearn: 0.1946832\ttotal: 999ms\tremaining: 874ms\n",
      "16:\tlearn: 0.1926363\ttotal: 1.13s\tremaining: 861ms\n",
      "17:\tlearn: 0.1894406\ttotal: 1.21s\tremaining: 807ms\n",
      "18:\tlearn: 0.1861577\ttotal: 1.28s\tremaining: 743ms\n",
      "19:\tlearn: 0.1833361\ttotal: 1.41s\tremaining: 704ms\n",
      "20:\tlearn: 0.1809699\ttotal: 1.47s\tremaining: 631ms\n",
      "21:\tlearn: 0.1757467\ttotal: 1.53s\tremaining: 557ms\n",
      "22:\tlearn: 0.1725690\ttotal: 1.58s\tremaining: 483ms\n",
      "23:\tlearn: 0.1715809\ttotal: 1.64s\tremaining: 411ms\n",
      "24:\tlearn: 0.1694785\ttotal: 1.69s\tremaining: 338ms\n",
      "25:\tlearn: 0.1682701\ttotal: 1.75s\tremaining: 269ms\n",
      "26:\tlearn: 0.1656749\ttotal: 1.8s\tremaining: 200ms\n",
      "27:\tlearn: 0.1625996\ttotal: 1.86s\tremaining: 133ms\n"
     ]
    },
    {
     "name": "stderr",
     "output_type": "stream",
     "text": [
      "5it [00:10,  2.12s/it]"
     ]
    },
    {
     "name": "stdout",
     "output_type": "stream",
     "text": [
      "28:\tlearn: 0.1593043\ttotal: 1.92s\tremaining: 66.1ms\n",
      "29:\tlearn: 0.1542618\ttotal: 1.97s\tremaining: 0us\n",
      "0:\tlearn: 0.4685358\ttotal: 52.8ms\tremaining: 1.53s\n",
      "1:\tlearn: 0.3691936\ttotal: 106ms\tremaining: 1.48s\n",
      "2:\tlearn: 0.3150378\ttotal: 154ms\tremaining: 1.38s\n",
      "3:\tlearn: 0.2834256\ttotal: 208ms\tremaining: 1.35s\n",
      "4:\tlearn: 0.2624125\ttotal: 260ms\tremaining: 1.3s\n",
      "5:\tlearn: 0.2487282\ttotal: 311ms\tremaining: 1.25s\n",
      "6:\tlearn: 0.2393910\ttotal: 361ms\tremaining: 1.19s\n",
      "7:\tlearn: 0.2317928\ttotal: 413ms\tremaining: 1.14s\n",
      "8:\tlearn: 0.2266793\ttotal: 461ms\tremaining: 1.07s\n",
      "9:\tlearn: 0.2219430\ttotal: 510ms\tremaining: 1.02s\n",
      "10:\tlearn: 0.2141281\ttotal: 565ms\tremaining: 976ms\n",
      "11:\tlearn: 0.2093173\ttotal: 615ms\tremaining: 923ms\n",
      "12:\tlearn: 0.2056046\ttotal: 664ms\tremaining: 868ms\n",
      "13:\tlearn: 0.2014409\ttotal: 718ms\tremaining: 820ms\n",
      "14:\tlearn: 0.1953530\ttotal: 769ms\tremaining: 769ms\n",
      "15:\tlearn: 0.1934764\ttotal: 819ms\tremaining: 716ms\n",
      "16:\tlearn: 0.1878116\ttotal: 878ms\tremaining: 671ms\n",
      "17:\tlearn: 0.1810105\ttotal: 935ms\tremaining: 624ms\n",
      "18:\tlearn: 0.1792427\ttotal: 991ms\tremaining: 574ms\n",
      "19:\tlearn: 0.1737766\ttotal: 1.05s\tremaining: 524ms\n",
      "20:\tlearn: 0.1705073\ttotal: 1.1s\tremaining: 472ms\n",
      "21:\tlearn: 0.1681207\ttotal: 1.15s\tremaining: 419ms\n",
      "22:\tlearn: 0.1661326\ttotal: 1.21s\tremaining: 367ms\n",
      "23:\tlearn: 0.1639604\ttotal: 1.26s\tremaining: 314ms\n",
      "24:\tlearn: 0.1614933\ttotal: 1.31s\tremaining: 262ms\n",
      "25:\tlearn: 0.1601299\ttotal: 1.36s\tremaining: 210ms\n",
      "26:\tlearn: 0.1566649\ttotal: 1.42s\tremaining: 158ms\n",
      "27:\tlearn: 0.1540517\ttotal: 1.48s\tremaining: 105ms\n",
      "28:\tlearn: 0.1519756\ttotal: 1.53s\tremaining: 52.7ms\n"
     ]
    },
    {
     "name": "stderr",
     "output_type": "stream",
     "text": [
      "6it [00:12,  2.08s/it]"
     ]
    },
    {
     "name": "stdout",
     "output_type": "stream",
     "text": [
      "29:\tlearn: 0.1497811\ttotal: 1.58s\tremaining: 0us\n",
      "0:\tlearn: 0.4685757\ttotal: 49.6ms\tremaining: 1.44s\n",
      "1:\tlearn: 0.3707278\ttotal: 102ms\tremaining: 1.43s\n",
      "2:\tlearn: 0.3158160\ttotal: 151ms\tremaining: 1.35s\n",
      "3:\tlearn: 0.2840171\ttotal: 201ms\tremaining: 1.31s\n",
      "4:\tlearn: 0.2647483\ttotal: 252ms\tremaining: 1.26s\n",
      "5:\tlearn: 0.2523000\ttotal: 305ms\tremaining: 1.22s\n",
      "6:\tlearn: 0.2433771\ttotal: 356ms\tremaining: 1.17s\n",
      "7:\tlearn: 0.2312657\ttotal: 412ms\tremaining: 1.13s\n",
      "8:\tlearn: 0.2244028\ttotal: 463ms\tremaining: 1.08s\n",
      "9:\tlearn: 0.2169516\ttotal: 517ms\tremaining: 1.03s\n",
      "10:\tlearn: 0.2120534\ttotal: 574ms\tremaining: 991ms\n",
      "11:\tlearn: 0.2063170\ttotal: 633ms\tremaining: 949ms\n",
      "12:\tlearn: 0.2021903\ttotal: 687ms\tremaining: 898ms\n",
      "13:\tlearn: 0.1980772\ttotal: 850ms\tremaining: 971ms\n",
      "14:\tlearn: 0.1939137\ttotal: 924ms\tremaining: 924ms\n",
      "15:\tlearn: 0.1909631\ttotal: 982ms\tremaining: 859ms\n",
      "16:\tlearn: 0.1885646\ttotal: 1.04s\tremaining: 793ms\n",
      "17:\tlearn: 0.1857265\ttotal: 1.09s\tremaining: 728ms\n",
      "18:\tlearn: 0.1819695\ttotal: 1.15s\tremaining: 664ms\n",
      "19:\tlearn: 0.1757135\ttotal: 1.2s\tremaining: 601ms\n",
      "20:\tlearn: 0.1738833\ttotal: 1.25s\tremaining: 536ms\n",
      "21:\tlearn: 0.1725203\ttotal: 1.3s\tremaining: 474ms\n",
      "22:\tlearn: 0.1710273\ttotal: 1.35s\tremaining: 412ms\n",
      "23:\tlearn: 0.1686618\ttotal: 1.41s\tremaining: 352ms\n",
      "24:\tlearn: 0.1672499\ttotal: 1.46s\tremaining: 292ms\n",
      "25:\tlearn: 0.1649141\ttotal: 1.51s\tremaining: 232ms\n",
      "26:\tlearn: 0.1618687\ttotal: 1.56s\tremaining: 174ms\n",
      "27:\tlearn: 0.1603141\ttotal: 1.61s\tremaining: 115ms\n",
      "28:\tlearn: 0.1584055\ttotal: 1.67s\tremaining: 57.4ms\n",
      "29:\tlearn: 0.1519890\ttotal: 1.72s\tremaining: 0us\n"
     ]
    },
    {
     "name": "stderr",
     "output_type": "stream",
     "text": [
      "7it [00:14,  2.08s/it]"
     ]
    },
    {
     "name": "stdout",
     "output_type": "stream",
     "text": [
      "0:\tlearn: 0.4685327\ttotal: 50.4ms\tremaining: 1.46s\n",
      "1:\tlearn: 0.3694635\ttotal: 99.7ms\tremaining: 1.4s\n",
      "2:\tlearn: 0.3159009\ttotal: 147ms\tremaining: 1.33s\n",
      "3:\tlearn: 0.2846275\ttotal: 197ms\tremaining: 1.28s\n",
      "4:\tlearn: 0.2644724\ttotal: 248ms\tremaining: 1.24s\n",
      "5:\tlearn: 0.2493060\ttotal: 304ms\tremaining: 1.22s\n",
      "6:\tlearn: 0.2408403\ttotal: 356ms\tremaining: 1.17s\n",
      "7:\tlearn: 0.2334136\ttotal: 404ms\tremaining: 1.11s\n",
      "8:\tlearn: 0.2267088\ttotal: 456ms\tremaining: 1.06s\n",
      "9:\tlearn: 0.2203919\ttotal: 508ms\tremaining: 1.01s\n",
      "10:\tlearn: 0.2168436\ttotal: 560ms\tremaining: 967ms\n",
      "11:\tlearn: 0.2120874\ttotal: 609ms\tremaining: 914ms\n",
      "12:\tlearn: 0.2071148\ttotal: 658ms\tremaining: 860ms\n",
      "13:\tlearn: 0.2029355\ttotal: 713ms\tremaining: 815ms\n",
      "14:\tlearn: 0.2003088\ttotal: 762ms\tremaining: 762ms\n",
      "15:\tlearn: 0.1972263\ttotal: 816ms\tremaining: 714ms\n",
      "16:\tlearn: 0.1937554\ttotal: 872ms\tremaining: 667ms\n",
      "17:\tlearn: 0.1899835\ttotal: 929ms\tremaining: 619ms\n",
      "18:\tlearn: 0.1840996\ttotal: 981ms\tremaining: 568ms\n",
      "19:\tlearn: 0.1795821\ttotal: 1.03s\tremaining: 518ms\n",
      "20:\tlearn: 0.1756939\ttotal: 1.08s\tremaining: 465ms\n",
      "21:\tlearn: 0.1730244\ttotal: 1.13s\tremaining: 412ms\n",
      "22:\tlearn: 0.1717262\ttotal: 1.18s\tremaining: 360ms\n",
      "23:\tlearn: 0.1695418\ttotal: 1.24s\tremaining: 309ms\n",
      "24:\tlearn: 0.1676345\ttotal: 1.28s\tremaining: 257ms\n",
      "25:\tlearn: 0.1653815\ttotal: 1.34s\tremaining: 206ms\n",
      "26:\tlearn: 0.1621146\ttotal: 1.39s\tremaining: 155ms\n"
     ]
    },
    {
     "name": "stderr",
     "output_type": "stream",
     "text": [
      "8it [00:16,  2.02s/it]"
     ]
    },
    {
     "name": "stdout",
     "output_type": "stream",
     "text": [
      "27:\tlearn: 0.1603568\ttotal: 1.44s\tremaining: 103ms\n",
      "28:\tlearn: 0.1593478\ttotal: 1.49s\tremaining: 51.5ms\n",
      "29:\tlearn: 0.1542670\ttotal: 1.54s\tremaining: 0us\n",
      "0:\tlearn: 0.4686035\ttotal: 50.5ms\tremaining: 1.46s\n",
      "1:\tlearn: 0.3705062\ttotal: 101ms\tremaining: 1.42s\n",
      "2:\tlearn: 0.3151173\ttotal: 151ms\tremaining: 1.36s\n",
      "3:\tlearn: 0.2833512\ttotal: 200ms\tremaining: 1.3s\n",
      "4:\tlearn: 0.2623395\ttotal: 251ms\tremaining: 1.26s\n",
      "5:\tlearn: 0.2489680\ttotal: 304ms\tremaining: 1.21s\n",
      "6:\tlearn: 0.2400756\ttotal: 353ms\tremaining: 1.16s\n",
      "7:\tlearn: 0.2285163\ttotal: 406ms\tremaining: 1.12s\n",
      "8:\tlearn: 0.2232175\ttotal: 459ms\tremaining: 1.07s\n",
      "9:\tlearn: 0.2187261\ttotal: 509ms\tremaining: 1.02s\n",
      "10:\tlearn: 0.2123836\ttotal: 567ms\tremaining: 979ms\n",
      "11:\tlearn: 0.2064948\ttotal: 621ms\tremaining: 931ms\n",
      "12:\tlearn: 0.2033195\ttotal: 673ms\tremaining: 880ms\n",
      "13:\tlearn: 0.2001012\ttotal: 721ms\tremaining: 824ms\n",
      "14:\tlearn: 0.1968836\ttotal: 773ms\tremaining: 773ms\n",
      "15:\tlearn: 0.1932602\ttotal: 820ms\tremaining: 718ms\n",
      "16:\tlearn: 0.1886411\ttotal: 879ms\tremaining: 672ms\n",
      "17:\tlearn: 0.1859145\ttotal: 928ms\tremaining: 619ms\n",
      "18:\tlearn: 0.1814300\ttotal: 982ms\tremaining: 569ms\n",
      "19:\tlearn: 0.1767089\ttotal: 1.04s\tremaining: 519ms\n",
      "20:\tlearn: 0.1753471\ttotal: 1.09s\tremaining: 466ms\n",
      "21:\tlearn: 0.1728300\ttotal: 1.14s\tremaining: 414ms\n",
      "22:\tlearn: 0.1688940\ttotal: 1.19s\tremaining: 362ms\n",
      "23:\tlearn: 0.1663978\ttotal: 1.24s\tremaining: 311ms\n",
      "24:\tlearn: 0.1635223\ttotal: 1.3s\tremaining: 260ms\n",
      "25:\tlearn: 0.1619919\ttotal: 1.35s\tremaining: 208ms\n",
      "26:\tlearn: 0.1589305\ttotal: 1.41s\tremaining: 156ms\n"
     ]
    },
    {
     "name": "stderr",
     "output_type": "stream",
     "text": [
      "9it [00:18,  1.98s/it]"
     ]
    },
    {
     "name": "stdout",
     "output_type": "stream",
     "text": [
      "27:\tlearn: 0.1568601\ttotal: 1.46s\tremaining: 104ms\n",
      "28:\tlearn: 0.1544534\ttotal: 1.51s\tremaining: 52ms\n",
      "29:\tlearn: 0.1507036\ttotal: 1.56s\tremaining: 0us\n",
      "0:\tlearn: 0.4685140\ttotal: 50ms\tremaining: 1.45s\n",
      "1:\tlearn: 0.3702074\ttotal: 100ms\tremaining: 1.4s\n",
      "2:\tlearn: 0.3159873\ttotal: 155ms\tremaining: 1.4s\n",
      "3:\tlearn: 0.2846232\ttotal: 212ms\tremaining: 1.38s\n",
      "4:\tlearn: 0.2633793\ttotal: 269ms\tremaining: 1.34s\n",
      "5:\tlearn: 0.2487716\ttotal: 322ms\tremaining: 1.29s\n",
      "6:\tlearn: 0.2396252\ttotal: 375ms\tremaining: 1.23s\n",
      "7:\tlearn: 0.2317113\ttotal: 427ms\tremaining: 1.18s\n",
      "8:\tlearn: 0.2265405\ttotal: 481ms\tremaining: 1.12s\n",
      "9:\tlearn: 0.2211339\ttotal: 533ms\tremaining: 1.06s\n",
      "10:\tlearn: 0.2115100\ttotal: 589ms\tremaining: 1.02s\n",
      "11:\tlearn: 0.2063867\ttotal: 642ms\tremaining: 963ms\n",
      "12:\tlearn: 0.2025607\ttotal: 692ms\tremaining: 905ms\n",
      "13:\tlearn: 0.1987094\ttotal: 746ms\tremaining: 853ms\n",
      "14:\tlearn: 0.1963719\ttotal: 795ms\tremaining: 795ms\n",
      "15:\tlearn: 0.1936081\ttotal: 847ms\tremaining: 741ms\n",
      "16:\tlearn: 0.1900463\ttotal: 902ms\tremaining: 690ms\n",
      "17:\tlearn: 0.1882796\ttotal: 954ms\tremaining: 636ms\n",
      "18:\tlearn: 0.1850653\ttotal: 1.01s\tremaining: 583ms\n",
      "19:\tlearn: 0.1804745\ttotal: 1.06s\tremaining: 530ms\n",
      "20:\tlearn: 0.1780053\ttotal: 1.11s\tremaining: 477ms\n",
      "21:\tlearn: 0.1750562\ttotal: 1.17s\tremaining: 424ms\n",
      "22:\tlearn: 0.1731384\ttotal: 1.22s\tremaining: 370ms\n",
      "23:\tlearn: 0.1700842\ttotal: 1.27s\tremaining: 317ms\n",
      "24:\tlearn: 0.1674175\ttotal: 1.32s\tremaining: 264ms\n",
      "25:\tlearn: 0.1654318\ttotal: 1.37s\tremaining: 211ms\n",
      "26:\tlearn: 0.1634274\ttotal: 1.42s\tremaining: 158ms\n",
      "27:\tlearn: 0.1607778\ttotal: 1.47s\tremaining: 105ms\n",
      "28:\tlearn: 0.1587462\ttotal: 1.52s\tremaining: 52.4ms\n"
     ]
    },
    {
     "name": "stderr",
     "output_type": "stream",
     "text": [
      "10it [00:20,  2.01s/it]\n",
      "[I 2024-06-30 12:25:37,869] Trial 0 finished with value: 0.9856638918653319 and parameters: {'depth': 9, 'learning_rate': 0.4135636527417158, 'l2_leaf_reg': 6, 'iterations': 30}. Best is trial 0 with value: 0.9856638918653319.\n"
     ]
    },
    {
     "name": "stdout",
     "output_type": "stream",
     "text": [
      "29:\tlearn: 0.1575549\ttotal: 1.57s\tremaining: 0us\n"
     ]
    },
    {
     "name": "stderr",
     "output_type": "stream",
     "text": [
      "0it [00:00, ?it/s]"
     ]
    },
    {
     "name": "stdout",
     "output_type": "stream",
     "text": [
      "0:\tlearn: 0.6440818\ttotal: 38.2ms\tremaining: 1.11s\n",
      "1:\tlearn: 0.6011234\ttotal: 78.1ms\tremaining: 1.09s\n",
      "2:\tlearn: 0.5639273\ttotal: 115ms\tremaining: 1.03s\n",
      "3:\tlearn: 0.5314321\ttotal: 153ms\tremaining: 994ms\n",
      "4:\tlearn: 0.5029042\ttotal: 193ms\tremaining: 967ms\n",
      "5:\tlearn: 0.4775288\ttotal: 232ms\tremaining: 928ms\n",
      "6:\tlearn: 0.4549314\ttotal: 271ms\tremaining: 889ms\n",
      "7:\tlearn: 0.4347824\ttotal: 310ms\tremaining: 851ms\n",
      "8:\tlearn: 0.4168291\ttotal: 348ms\tremaining: 812ms\n",
      "9:\tlearn: 0.4010796\ttotal: 388ms\tremaining: 776ms\n",
      "10:\tlearn: 0.3866244\ttotal: 425ms\tremaining: 734ms\n",
      "11:\tlearn: 0.3736623\ttotal: 466ms\tremaining: 699ms\n",
      "12:\tlearn: 0.3619192\ttotal: 509ms\tremaining: 666ms\n",
      "13:\tlearn: 0.3509973\ttotal: 549ms\tremaining: 628ms\n",
      "14:\tlearn: 0.3415324\ttotal: 590ms\tremaining: 590ms\n",
      "15:\tlearn: 0.3325898\ttotal: 633ms\tremaining: 554ms\n",
      "16:\tlearn: 0.3247459\ttotal: 672ms\tremaining: 514ms\n",
      "17:\tlearn: 0.3175857\ttotal: 711ms\tremaining: 474ms\n",
      "18:\tlearn: 0.3109571\ttotal: 752ms\tremaining: 435ms\n",
      "19:\tlearn: 0.3049263\ttotal: 792ms\tremaining: 396ms\n",
      "20:\tlearn: 0.2992340\ttotal: 833ms\tremaining: 357ms\n",
      "21:\tlearn: 0.2940086\ttotal: 875ms\tremaining: 318ms\n",
      "22:\tlearn: 0.2893838\ttotal: 916ms\tremaining: 279ms\n",
      "23:\tlearn: 0.2845601\ttotal: 956ms\tremaining: 239ms\n",
      "24:\tlearn: 0.2803860\ttotal: 995ms\tremaining: 199ms\n",
      "25:\tlearn: 0.2766065\ttotal: 1.03s\tremaining: 159ms\n",
      "26:\tlearn: 0.2731236\ttotal: 1.08s\tremaining: 120ms\n",
      "27:\tlearn: 0.2699761\ttotal: 1.12s\tremaining: 79.8ms\n",
      "28:\tlearn: 0.2671553\ttotal: 1.16s\tremaining: 39.9ms\n",
      "29:\tlearn: 0.2643835\ttotal: 1.2s\tremaining: 0us\n"
     ]
    },
    {
     "name": "stderr",
     "output_type": "stream",
     "text": [
      "1it [00:01,  1.56s/it]"
     ]
    },
    {
     "name": "stdout",
     "output_type": "stream",
     "text": [
      "0:\tlearn: 0.6441477\ttotal: 42.6ms\tremaining: 1.24s\n",
      "1:\tlearn: 0.6013023\ttotal: 79.8ms\tremaining: 1.12s\n",
      "2:\tlearn: 0.5641062\ttotal: 117ms\tremaining: 1.06s\n",
      "3:\tlearn: 0.5314911\ttotal: 159ms\tremaining: 1.03s\n",
      "4:\tlearn: 0.5029765\ttotal: 200ms\tremaining: 1000ms\n",
      "5:\tlearn: 0.4774794\ttotal: 241ms\tremaining: 962ms\n",
      "6:\tlearn: 0.4547534\ttotal: 281ms\tremaining: 922ms\n",
      "7:\tlearn: 0.4349010\ttotal: 322ms\tremaining: 886ms\n",
      "8:\tlearn: 0.4168943\ttotal: 361ms\tremaining: 843ms\n",
      "9:\tlearn: 0.4008538\ttotal: 404ms\tremaining: 807ms\n",
      "10:\tlearn: 0.3862481\ttotal: 442ms\tremaining: 764ms\n",
      "11:\tlearn: 0.3730940\ttotal: 483ms\tremaining: 724ms\n",
      "12:\tlearn: 0.3613127\ttotal: 523ms\tremaining: 684ms\n",
      "13:\tlearn: 0.3505939\ttotal: 566ms\tremaining: 647ms\n",
      "14:\tlearn: 0.3406974\ttotal: 608ms\tremaining: 608ms\n",
      "15:\tlearn: 0.3317099\ttotal: 651ms\tremaining: 569ms\n",
      "16:\tlearn: 0.3235630\ttotal: 693ms\tremaining: 530ms\n",
      "17:\tlearn: 0.3163880\ttotal: 735ms\tremaining: 490ms\n",
      "18:\tlearn: 0.3096290\ttotal: 777ms\tremaining: 450ms\n",
      "19:\tlearn: 0.3035040\ttotal: 820ms\tremaining: 410ms\n",
      "20:\tlearn: 0.2978605\ttotal: 864ms\tremaining: 370ms\n",
      "21:\tlearn: 0.2927331\ttotal: 908ms\tremaining: 330ms\n",
      "22:\tlearn: 0.2880861\ttotal: 947ms\tremaining: 288ms\n",
      "23:\tlearn: 0.2837044\ttotal: 989ms\tremaining: 247ms\n",
      "24:\tlearn: 0.2794547\ttotal: 1.03s\tremaining: 206ms\n",
      "25:\tlearn: 0.2755790\ttotal: 1.07s\tremaining: 164ms\n",
      "26:\tlearn: 0.2722727\ttotal: 1.11s\tremaining: 123ms\n"
     ]
    },
    {
     "name": "stderr",
     "output_type": "stream",
     "text": [
      "2it [00:03,  1.58s/it]"
     ]
    },
    {
     "name": "stdout",
     "output_type": "stream",
     "text": [
      "27:\tlearn: 0.2690613\ttotal: 1.15s\tremaining: 82.3ms\n",
      "28:\tlearn: 0.2659255\ttotal: 1.19s\tremaining: 41.1ms\n",
      "29:\tlearn: 0.2629829\ttotal: 1.23s\tremaining: 0us\n",
      "0:\tlearn: 0.6441413\ttotal: 40.7ms\tremaining: 1.18s\n",
      "1:\tlearn: 0.6012984\ttotal: 80.1ms\tremaining: 1.12s\n",
      "2:\tlearn: 0.5641086\ttotal: 118ms\tremaining: 1.06s\n",
      "3:\tlearn: 0.5314917\ttotal: 158ms\tremaining: 1.03s\n",
      "4:\tlearn: 0.5030026\ttotal: 199ms\tremaining: 995ms\n",
      "5:\tlearn: 0.4776215\ttotal: 240ms\tremaining: 960ms\n",
      "6:\tlearn: 0.4549346\ttotal: 279ms\tremaining: 918ms\n",
      "7:\tlearn: 0.4348319\ttotal: 318ms\tremaining: 875ms\n",
      "8:\tlearn: 0.4167926\ttotal: 357ms\tremaining: 833ms\n",
      "9:\tlearn: 0.4012668\ttotal: 398ms\tremaining: 795ms\n",
      "10:\tlearn: 0.3866145\ttotal: 436ms\tremaining: 753ms\n",
      "11:\tlearn: 0.3736181\ttotal: 478ms\tremaining: 718ms\n",
      "12:\tlearn: 0.3618511\ttotal: 520ms\tremaining: 680ms\n",
      "13:\tlearn: 0.3510571\ttotal: 560ms\tremaining: 640ms\n",
      "14:\tlearn: 0.3411395\ttotal: 604ms\tremaining: 604ms\n",
      "15:\tlearn: 0.3322535\ttotal: 649ms\tremaining: 568ms\n",
      "16:\tlearn: 0.3242073\ttotal: 691ms\tremaining: 528ms\n",
      "17:\tlearn: 0.3169148\ttotal: 731ms\tremaining: 487ms\n",
      "18:\tlearn: 0.3103108\ttotal: 778ms\tremaining: 451ms\n",
      "19:\tlearn: 0.3041496\ttotal: 823ms\tremaining: 411ms\n",
      "20:\tlearn: 0.2986334\ttotal: 866ms\tremaining: 371ms\n",
      "21:\tlearn: 0.2935336\ttotal: 908ms\tremaining: 330ms\n",
      "22:\tlearn: 0.2888424\ttotal: 952ms\tremaining: 290ms\n",
      "23:\tlearn: 0.2842956\ttotal: 992ms\tremaining: 248ms\n",
      "24:\tlearn: 0.2802297\ttotal: 1.03s\tremaining: 207ms\n",
      "25:\tlearn: 0.2763167\ttotal: 1.08s\tremaining: 166ms\n",
      "26:\tlearn: 0.2726935\ttotal: 1.12s\tremaining: 125ms\n",
      "27:\tlearn: 0.2693041\ttotal: 1.16s\tremaining: 83.1ms\n"
     ]
    },
    {
     "name": "stderr",
     "output_type": "stream",
     "text": [
      "3it [00:04,  1.58s/it]"
     ]
    },
    {
     "name": "stdout",
     "output_type": "stream",
     "text": [
      "28:\tlearn: 0.2665366\ttotal: 1.21s\tremaining: 41.6ms\n",
      "29:\tlearn: 0.2638650\ttotal: 1.25s\tremaining: 0us\n",
      "0:\tlearn: 0.6442447\ttotal: 39.1ms\tremaining: 1.13s\n",
      "1:\tlearn: 0.6013486\ttotal: 77ms\tremaining: 1.08s\n",
      "2:\tlearn: 0.5641626\ttotal: 116ms\tremaining: 1.05s\n",
      "3:\tlearn: 0.5315251\ttotal: 155ms\tremaining: 1.01s\n",
      "4:\tlearn: 0.5029814\ttotal: 197ms\tremaining: 986ms\n",
      "5:\tlearn: 0.4777064\ttotal: 238ms\tremaining: 951ms\n",
      "6:\tlearn: 0.4550880\ttotal: 280ms\tremaining: 920ms\n",
      "7:\tlearn: 0.4348983\ttotal: 319ms\tremaining: 878ms\n",
      "8:\tlearn: 0.4169141\ttotal: 359ms\tremaining: 837ms\n",
      "9:\tlearn: 0.4009738\ttotal: 400ms\tremaining: 800ms\n",
      "10:\tlearn: 0.3863615\ttotal: 442ms\tremaining: 763ms\n",
      "11:\tlearn: 0.3733749\ttotal: 481ms\tremaining: 721ms\n",
      "12:\tlearn: 0.3616631\ttotal: 522ms\tremaining: 683ms\n",
      "13:\tlearn: 0.3509293\ttotal: 562ms\tremaining: 643ms\n",
      "14:\tlearn: 0.3410922\ttotal: 601ms\tremaining: 601ms\n",
      "15:\tlearn: 0.3321615\ttotal: 644ms\tremaining: 563ms\n",
      "16:\tlearn: 0.3240977\ttotal: 683ms\tremaining: 522ms\n",
      "17:\tlearn: 0.3169384\ttotal: 724ms\tremaining: 482ms\n",
      "18:\tlearn: 0.3103151\ttotal: 766ms\tremaining: 444ms\n",
      "19:\tlearn: 0.3041708\ttotal: 808ms\tremaining: 404ms\n",
      "20:\tlearn: 0.2985700\ttotal: 852ms\tremaining: 365ms\n",
      "21:\tlearn: 0.2934245\ttotal: 893ms\tremaining: 325ms\n",
      "22:\tlearn: 0.2888479\ttotal: 935ms\tremaining: 284ms\n",
      "23:\tlearn: 0.2845178\ttotal: 976ms\tremaining: 244ms\n",
      "24:\tlearn: 0.2804059\ttotal: 1.02s\tremaining: 203ms\n",
      "25:\tlearn: 0.2767791\ttotal: 1.06s\tremaining: 163ms\n",
      "26:\tlearn: 0.2732980\ttotal: 1.1s\tremaining: 122ms\n",
      "27:\tlearn: 0.2700662\ttotal: 1.14s\tremaining: 81.6ms\n",
      "28:\tlearn: 0.2671355\ttotal: 1.18s\tremaining: 40.8ms\n"
     ]
    },
    {
     "name": "stderr",
     "output_type": "stream",
     "text": [
      "4it [00:06,  1.57s/it]"
     ]
    },
    {
     "name": "stdout",
     "output_type": "stream",
     "text": [
      "29:\tlearn: 0.2642505\ttotal: 1.22s\tremaining: 0us\n",
      "0:\tlearn: 0.6442189\ttotal: 41.1ms\tremaining: 1.19s\n",
      "1:\tlearn: 0.6015232\ttotal: 79.8ms\tremaining: 1.12s\n",
      "2:\tlearn: 0.5643371\ttotal: 118ms\tremaining: 1.06s\n",
      "3:\tlearn: 0.5317155\ttotal: 160ms\tremaining: 1.04s\n",
      "4:\tlearn: 0.5031764\ttotal: 201ms\tremaining: 1.01s\n",
      "5:\tlearn: 0.4780509\ttotal: 240ms\tremaining: 961ms\n",
      "6:\tlearn: 0.4553282\ttotal: 281ms\tremaining: 923ms\n",
      "7:\tlearn: 0.4352608\ttotal: 321ms\tremaining: 881ms\n",
      "8:\tlearn: 0.4171086\ttotal: 360ms\tremaining: 839ms\n",
      "9:\tlearn: 0.4010186\ttotal: 399ms\tremaining: 799ms\n",
      "10:\tlearn: 0.3865797\ttotal: 438ms\tremaining: 757ms\n",
      "11:\tlearn: 0.3734679\ttotal: 480ms\tremaining: 720ms\n",
      "12:\tlearn: 0.3617941\ttotal: 521ms\tremaining: 682ms\n",
      "13:\tlearn: 0.3511420\ttotal: 561ms\tremaining: 641ms\n",
      "14:\tlearn: 0.3414801\ttotal: 605ms\tremaining: 605ms\n",
      "15:\tlearn: 0.3326162\ttotal: 645ms\tremaining: 565ms\n",
      "16:\tlearn: 0.3246251\ttotal: 685ms\tremaining: 524ms\n",
      "17:\tlearn: 0.3175722\ttotal: 724ms\tremaining: 483ms\n",
      "18:\tlearn: 0.3109042\ttotal: 765ms\tremaining: 443ms\n",
      "19:\tlearn: 0.3048088\ttotal: 804ms\tremaining: 402ms\n",
      "20:\tlearn: 0.2990789\ttotal: 844ms\tremaining: 362ms\n",
      "21:\tlearn: 0.2936985\ttotal: 886ms\tremaining: 322ms\n",
      "22:\tlearn: 0.2892817\ttotal: 933ms\tremaining: 284ms\n",
      "23:\tlearn: 0.2844647\ttotal: 981ms\tremaining: 245ms\n",
      "24:\tlearn: 0.2803725\ttotal: 1.03s\tremaining: 206ms\n",
      "25:\tlearn: 0.2767945\ttotal: 1.08s\tremaining: 166ms\n",
      "26:\tlearn: 0.2734033\ttotal: 1.13s\tremaining: 125ms\n"
     ]
    },
    {
     "name": "stderr",
     "output_type": "stream",
     "text": [
      "5it [00:07,  1.59s/it]"
     ]
    },
    {
     "name": "stdout",
     "output_type": "stream",
     "text": [
      "27:\tlearn: 0.2703510\ttotal: 1.18s\tremaining: 84.1ms\n",
      "28:\tlearn: 0.2674511\ttotal: 1.23s\tremaining: 42.3ms\n",
      "29:\tlearn: 0.2648010\ttotal: 1.27s\tremaining: 0us\n",
      "0:\tlearn: 0.6441723\ttotal: 42.2ms\tremaining: 1.22s\n",
      "1:\tlearn: 0.6013537\ttotal: 83.8ms\tremaining: 1.17s\n",
      "2:\tlearn: 0.5641809\ttotal: 124ms\tremaining: 1.12s\n",
      "3:\tlearn: 0.5316603\ttotal: 165ms\tremaining: 1.07s\n",
      "4:\tlearn: 0.5031144\ttotal: 205ms\tremaining: 1.02s\n",
      "5:\tlearn: 0.4778721\ttotal: 247ms\tremaining: 989ms\n",
      "6:\tlearn: 0.4551730\ttotal: 289ms\tremaining: 949ms\n",
      "7:\tlearn: 0.4351318\ttotal: 326ms\tremaining: 897ms\n",
      "8:\tlearn: 0.4171630\ttotal: 368ms\tremaining: 859ms\n",
      "9:\tlearn: 0.4011717\ttotal: 408ms\tremaining: 816ms\n",
      "10:\tlearn: 0.3867233\ttotal: 446ms\tremaining: 771ms\n",
      "11:\tlearn: 0.3736091\ttotal: 488ms\tremaining: 732ms\n",
      "12:\tlearn: 0.3618031\ttotal: 527ms\tremaining: 690ms\n",
      "13:\tlearn: 0.3509663\ttotal: 572ms\tremaining: 654ms\n",
      "14:\tlearn: 0.3409605\ttotal: 614ms\tremaining: 614ms\n",
      "15:\tlearn: 0.3320765\ttotal: 655ms\tremaining: 573ms\n",
      "16:\tlearn: 0.3241307\ttotal: 697ms\tremaining: 533ms\n",
      "17:\tlearn: 0.3169394\ttotal: 739ms\tremaining: 492ms\n",
      "18:\tlearn: 0.3101819\ttotal: 783ms\tremaining: 454ms\n",
      "19:\tlearn: 0.3042580\ttotal: 824ms\tremaining: 412ms\n",
      "20:\tlearn: 0.2985459\ttotal: 869ms\tremaining: 373ms\n",
      "21:\tlearn: 0.2933981\ttotal: 914ms\tremaining: 332ms\n",
      "22:\tlearn: 0.2886591\ttotal: 956ms\tremaining: 291ms\n",
      "23:\tlearn: 0.2837928\ttotal: 1s\tremaining: 251ms\n",
      "24:\tlearn: 0.2796849\ttotal: 1.04s\tremaining: 209ms\n",
      "25:\tlearn: 0.2758324\ttotal: 1.08s\tremaining: 167ms\n"
     ]
    },
    {
     "name": "stderr",
     "output_type": "stream",
     "text": [
      "6it [00:09,  1.60s/it]"
     ]
    },
    {
     "name": "stdout",
     "output_type": "stream",
     "text": [
      "26:\tlearn: 0.2724789\ttotal: 1.13s\tremaining: 125ms\n",
      "27:\tlearn: 0.2691924\ttotal: 1.17s\tremaining: 83.6ms\n",
      "28:\tlearn: 0.2662640\ttotal: 1.21s\tremaining: 41.9ms\n",
      "29:\tlearn: 0.2636141\ttotal: 1.26s\tremaining: 0us\n",
      "0:\tlearn: 0.6441796\ttotal: 40.3ms\tremaining: 1.17s\n",
      "1:\tlearn: 0.6016409\ttotal: 78.9ms\tremaining: 1.1s\n",
      "2:\tlearn: 0.5644231\ttotal: 120ms\tremaining: 1.08s\n",
      "3:\tlearn: 0.5318495\ttotal: 166ms\tremaining: 1.08s\n",
      "4:\tlearn: 0.5034371\ttotal: 208ms\tremaining: 1.04s\n",
      "5:\tlearn: 0.4780634\ttotal: 251ms\tremaining: 1s\n",
      "6:\tlearn: 0.4553833\ttotal: 293ms\tremaining: 961ms\n",
      "7:\tlearn: 0.4352416\ttotal: 332ms\tremaining: 912ms\n",
      "8:\tlearn: 0.4170194\ttotal: 373ms\tremaining: 871ms\n",
      "9:\tlearn: 0.4013321\ttotal: 413ms\tremaining: 825ms\n",
      "10:\tlearn: 0.3868519\ttotal: 451ms\tremaining: 779ms\n",
      "11:\tlearn: 0.3739904\ttotal: 491ms\tremaining: 737ms\n",
      "12:\tlearn: 0.3621018\ttotal: 531ms\tremaining: 694ms\n",
      "13:\tlearn: 0.3512502\ttotal: 574ms\tremaining: 657ms\n",
      "14:\tlearn: 0.3416817\ttotal: 615ms\tremaining: 615ms\n",
      "15:\tlearn: 0.3327884\ttotal: 658ms\tremaining: 576ms\n",
      "16:\tlearn: 0.3248635\ttotal: 698ms\tremaining: 534ms\n",
      "17:\tlearn: 0.3177083\ttotal: 741ms\tremaining: 494ms\n",
      "18:\tlearn: 0.3110233\ttotal: 784ms\tremaining: 454ms\n",
      "19:\tlearn: 0.3048455\ttotal: 826ms\tremaining: 413ms\n",
      "20:\tlearn: 0.2991348\ttotal: 868ms\tremaining: 372ms\n",
      "21:\tlearn: 0.2938785\ttotal: 912ms\tremaining: 332ms\n",
      "22:\tlearn: 0.2890989\ttotal: 955ms\tremaining: 291ms\n",
      "23:\tlearn: 0.2848127\ttotal: 997ms\tremaining: 249ms\n",
      "24:\tlearn: 0.2807590\ttotal: 1.04s\tremaining: 208ms\n",
      "25:\tlearn: 0.2770594\ttotal: 1.08s\tremaining: 166ms\n",
      "26:\tlearn: 0.2736954\ttotal: 1.12s\tremaining: 124ms\n",
      "27:\tlearn: 0.2702454\ttotal: 1.16s\tremaining: 82.9ms\n"
     ]
    },
    {
     "name": "stderr",
     "output_type": "stream",
     "text": [
      "7it [00:11,  1.59s/it]"
     ]
    },
    {
     "name": "stdout",
     "output_type": "stream",
     "text": [
      "28:\tlearn: 0.2674398\ttotal: 1.2s\tremaining: 41.4ms\n",
      "29:\tlearn: 0.2645076\ttotal: 1.24s\tremaining: 0us\n",
      "0:\tlearn: 0.6441703\ttotal: 40.8ms\tremaining: 1.18s\n",
      "1:\tlearn: 0.6014351\ttotal: 81.2ms\tremaining: 1.14s\n",
      "2:\tlearn: 0.5643036\ttotal: 120ms\tremaining: 1.08s\n",
      "3:\tlearn: 0.5316489\ttotal: 158ms\tremaining: 1.03s\n",
      "4:\tlearn: 0.5031206\ttotal: 200ms\tremaining: 999ms\n",
      "5:\tlearn: 0.4776277\ttotal: 240ms\tremaining: 959ms\n",
      "6:\tlearn: 0.4551265\ttotal: 282ms\tremaining: 926ms\n",
      "7:\tlearn: 0.4352319\ttotal: 321ms\tremaining: 884ms\n",
      "8:\tlearn: 0.4169967\ttotal: 361ms\tremaining: 842ms\n",
      "9:\tlearn: 0.4011687\ttotal: 404ms\tremaining: 809ms\n",
      "10:\tlearn: 0.3865667\ttotal: 443ms\tremaining: 765ms\n",
      "11:\tlearn: 0.3736551\ttotal: 482ms\tremaining: 723ms\n",
      "12:\tlearn: 0.3619654\ttotal: 522ms\tremaining: 682ms\n",
      "13:\tlearn: 0.3512622\ttotal: 564ms\tremaining: 645ms\n",
      "14:\tlearn: 0.3413738\ttotal: 602ms\tremaining: 602ms\n",
      "15:\tlearn: 0.3324911\ttotal: 644ms\tremaining: 564ms\n",
      "16:\tlearn: 0.3245585\ttotal: 683ms\tremaining: 522ms\n",
      "17:\tlearn: 0.3174121\ttotal: 728ms\tremaining: 485ms\n",
      "18:\tlearn: 0.3107018\ttotal: 770ms\tremaining: 446ms\n",
      "19:\tlearn: 0.3045153\ttotal: 813ms\tremaining: 407ms\n",
      "20:\tlearn: 0.2988636\ttotal: 855ms\tremaining: 366ms\n",
      "21:\tlearn: 0.2936575\ttotal: 898ms\tremaining: 327ms\n",
      "22:\tlearn: 0.2888125\ttotal: 941ms\tremaining: 286ms\n",
      "23:\tlearn: 0.2839162\ttotal: 983ms\tremaining: 246ms\n",
      "24:\tlearn: 0.2797429\ttotal: 1.03s\tremaining: 205ms\n",
      "25:\tlearn: 0.2759727\ttotal: 1.07s\tremaining: 164ms\n",
      "26:\tlearn: 0.2725972\ttotal: 1.11s\tremaining: 123ms\n",
      "27:\tlearn: 0.2693032\ttotal: 1.15s\tremaining: 82.4ms\n"
     ]
    },
    {
     "name": "stderr",
     "output_type": "stream",
     "text": [
      "8it [00:12,  1.59s/it]"
     ]
    },
    {
     "name": "stdout",
     "output_type": "stream",
     "text": [
      "28:\tlearn: 0.2665235\ttotal: 1.2s\tremaining: 41.3ms\n",
      "29:\tlearn: 0.2638661\ttotal: 1.24s\tremaining: 0us\n",
      "0:\tlearn: 0.6441736\ttotal: 38.7ms\tremaining: 1.12s\n",
      "1:\tlearn: 0.6013456\ttotal: 77.4ms\tremaining: 1.08s\n",
      "2:\tlearn: 0.5641784\ttotal: 120ms\tremaining: 1.07s\n",
      "3:\tlearn: 0.5317320\ttotal: 157ms\tremaining: 1.02s\n",
      "4:\tlearn: 0.5032062\ttotal: 199ms\tremaining: 994ms\n",
      "5:\tlearn: 0.4779208\ttotal: 237ms\tremaining: 946ms\n",
      "6:\tlearn: 0.4551110\ttotal: 275ms\tremaining: 904ms\n",
      "7:\tlearn: 0.4350336\ttotal: 317ms\tremaining: 870ms\n",
      "8:\tlearn: 0.4170660\ttotal: 357ms\tremaining: 832ms\n",
      "9:\tlearn: 0.4011565\ttotal: 399ms\tremaining: 798ms\n",
      "10:\tlearn: 0.3866687\ttotal: 437ms\tremaining: 755ms\n",
      "11:\tlearn: 0.3737174\ttotal: 475ms\tremaining: 713ms\n",
      "12:\tlearn: 0.3619528\ttotal: 517ms\tremaining: 676ms\n",
      "13:\tlearn: 0.3512398\ttotal: 559ms\tremaining: 639ms\n",
      "14:\tlearn: 0.3415677\ttotal: 598ms\tremaining: 598ms\n",
      "15:\tlearn: 0.3327340\ttotal: 640ms\tremaining: 560ms\n",
      "16:\tlearn: 0.3248571\ttotal: 680ms\tremaining: 520ms\n",
      "17:\tlearn: 0.3175169\ttotal: 718ms\tremaining: 479ms\n",
      "18:\tlearn: 0.3109388\ttotal: 762ms\tremaining: 441ms\n",
      "19:\tlearn: 0.3048406\ttotal: 802ms\tremaining: 401ms\n",
      "20:\tlearn: 0.2992826\ttotal: 843ms\tremaining: 361ms\n",
      "21:\tlearn: 0.2941865\ttotal: 883ms\tremaining: 321ms\n",
      "22:\tlearn: 0.2895991\ttotal: 922ms\tremaining: 281ms\n",
      "23:\tlearn: 0.2848350\ttotal: 966ms\tremaining: 241ms\n",
      "24:\tlearn: 0.2810049\ttotal: 1.01s\tremaining: 202ms\n",
      "25:\tlearn: 0.2771929\ttotal: 1.05s\tremaining: 161ms\n",
      "26:\tlearn: 0.2736723\ttotal: 1.09s\tremaining: 121ms\n",
      "27:\tlearn: 0.2702617\ttotal: 1.13s\tremaining: 80.7ms\n",
      "28:\tlearn: 0.2673661\ttotal: 1.17s\tremaining: 40.4ms\n",
      "29:\tlearn: 0.2647130\ttotal: 1.21s\tremaining: 0us\n"
     ]
    },
    {
     "name": "stderr",
     "output_type": "stream",
     "text": [
      "9it [00:14,  1.57s/it]"
     ]
    },
    {
     "name": "stdout",
     "output_type": "stream",
     "text": [
      "0:\tlearn: 0.6442148\ttotal: 39.4ms\tremaining: 1.14s\n",
      "1:\tlearn: 0.6017255\ttotal: 78.5ms\tremaining: 1.1s\n",
      "2:\tlearn: 0.5645049\ttotal: 122ms\tremaining: 1.09s\n",
      "3:\tlearn: 0.5319242\ttotal: 162ms\tremaining: 1.05s\n",
      "4:\tlearn: 0.5034591\ttotal: 203ms\tremaining: 1.01s\n",
      "5:\tlearn: 0.4779892\ttotal: 244ms\tremaining: 975ms\n",
      "6:\tlearn: 0.4553784\ttotal: 287ms\tremaining: 944ms\n",
      "7:\tlearn: 0.4353408\ttotal: 326ms\tremaining: 898ms\n",
      "8:\tlearn: 0.4173527\ttotal: 368ms\tremaining: 859ms\n",
      "9:\tlearn: 0.4014999\ttotal: 410ms\tremaining: 820ms\n",
      "10:\tlearn: 0.3870410\ttotal: 451ms\tremaining: 779ms\n",
      "11:\tlearn: 0.3740301\ttotal: 493ms\tremaining: 739ms\n",
      "12:\tlearn: 0.3622324\ttotal: 534ms\tremaining: 699ms\n",
      "13:\tlearn: 0.3515105\ttotal: 575ms\tremaining: 657ms\n",
      "14:\tlearn: 0.3415061\ttotal: 618ms\tremaining: 618ms\n",
      "15:\tlearn: 0.3325244\ttotal: 659ms\tremaining: 577ms\n",
      "16:\tlearn: 0.3246156\ttotal: 700ms\tremaining: 535ms\n",
      "17:\tlearn: 0.3173621\ttotal: 741ms\tremaining: 494ms\n",
      "18:\tlearn: 0.3106059\ttotal: 784ms\tremaining: 454ms\n",
      "19:\tlearn: 0.3045175\ttotal: 829ms\tremaining: 414ms\n",
      "20:\tlearn: 0.2989609\ttotal: 874ms\tremaining: 374ms\n",
      "21:\tlearn: 0.2937142\ttotal: 919ms\tremaining: 334ms\n",
      "22:\tlearn: 0.2885544\ttotal: 960ms\tremaining: 292ms\n",
      "23:\tlearn: 0.2837588\ttotal: 1s\tremaining: 250ms\n",
      "24:\tlearn: 0.2797972\ttotal: 1.04s\tremaining: 209ms\n",
      "25:\tlearn: 0.2760197\ttotal: 1.09s\tremaining: 167ms\n",
      "26:\tlearn: 0.2722222\ttotal: 1.13s\tremaining: 126ms\n",
      "27:\tlearn: 0.2689952\ttotal: 1.17s\tremaining: 83.8ms\n",
      "28:\tlearn: 0.2662036\ttotal: 1.21s\tremaining: 41.9ms\n",
      "29:\tlearn: 0.2631605\ttotal: 1.26s\tremaining: 0us\n"
     ]
    },
    {
     "name": "stderr",
     "output_type": "stream",
     "text": [
      "10it [00:15,  1.58s/it]\n",
      "[I 2024-06-30 12:25:53,734] Trial 1 finished with value: 0.9569970255596928 and parameters: {'depth': 8, 'learning_rate': 0.0757319735787722, 'l2_leaf_reg': 8, 'iterations': 30}. Best is trial 0 with value: 0.9856638918653319.\n",
      "0it [00:00, ?it/s]"
     ]
    },
    {
     "name": "stdout",
     "output_type": "stream",
     "text": [
      "0:\tlearn: 0.6514821\ttotal: 137ms\tremaining: 3.96s\n",
      "1:\tlearn: 0.6148077\ttotal: 269ms\tremaining: 3.76s\n",
      "2:\tlearn: 0.5821104\ttotal: 400ms\tremaining: 3.6s\n",
      "3:\tlearn: 0.5526308\ttotal: 533ms\tremaining: 3.47s\n",
      "4:\tlearn: 0.5260875\ttotal: 677ms\tremaining: 3.38s\n",
      "5:\tlearn: 0.5020799\ttotal: 813ms\tremaining: 3.25s\n",
      "6:\tlearn: 0.4802908\ttotal: 954ms\tremaining: 3.13s\n",
      "7:\tlearn: 0.4605760\ttotal: 1.1s\tremaining: 3.02s\n",
      "8:\tlearn: 0.4427925\ttotal: 1.19s\tremaining: 2.78s\n",
      "9:\tlearn: 0.4262878\ttotal: 1.33s\tremaining: 2.66s\n",
      "10:\tlearn: 0.4114106\ttotal: 1.48s\tremaining: 2.55s\n",
      "11:\tlearn: 0.3975779\ttotal: 1.61s\tremaining: 2.42s\n",
      "12:\tlearn: 0.3848326\ttotal: 1.75s\tremaining: 2.29s\n",
      "13:\tlearn: 0.3732370\ttotal: 1.89s\tremaining: 2.16s\n",
      "14:\tlearn: 0.3623872\ttotal: 2.03s\tremaining: 2.03s\n",
      "15:\tlearn: 0.3524694\ttotal: 2.17s\tremaining: 1.9s\n",
      "16:\tlearn: 0.3432821\ttotal: 2.31s\tremaining: 1.77s\n",
      "17:\tlearn: 0.3347663\ttotal: 2.45s\tremaining: 1.63s\n",
      "18:\tlearn: 0.3267910\ttotal: 2.58s\tremaining: 1.5s\n",
      "19:\tlearn: 0.3195859\ttotal: 2.73s\tremaining: 1.36s\n",
      "20:\tlearn: 0.3128518\ttotal: 2.87s\tremaining: 1.23s\n",
      "21:\tlearn: 0.3066980\ttotal: 3s\tremaining: 1.09s\n",
      "22:\tlearn: 0.3006807\ttotal: 3.15s\tremaining: 958ms\n",
      "23:\tlearn: 0.2948995\ttotal: 3.29s\tremaining: 823ms\n",
      "24:\tlearn: 0.2897724\ttotal: 3.43s\tremaining: 686ms\n",
      "25:\tlearn: 0.2848274\ttotal: 3.57s\tremaining: 549ms\n",
      "26:\tlearn: 0.2801605\ttotal: 3.71s\tremaining: 412ms\n",
      "27:\tlearn: 0.2759603\ttotal: 3.85s\tremaining: 275ms\n",
      "28:\tlearn: 0.2722460\ttotal: 3.98s\tremaining: 137ms\n",
      "29:\tlearn: 0.2682997\ttotal: 4.12s\tremaining: 0us\n"
     ]
    },
    {
     "name": "stderr",
     "output_type": "stream",
     "text": [
      "1it [00:04,  4.53s/it]"
     ]
    },
    {
     "name": "stdout",
     "output_type": "stream",
     "text": [
      "0:\tlearn: 0.6515542\ttotal: 141ms\tremaining: 4.1s\n",
      "1:\tlearn: 0.6147880\ttotal: 278ms\tremaining: 3.89s\n",
      "2:\tlearn: 0.5820195\ttotal: 407ms\tremaining: 3.66s\n",
      "3:\tlearn: 0.5526130\ttotal: 541ms\tremaining: 3.52s\n",
      "4:\tlearn: 0.5260065\ttotal: 681ms\tremaining: 3.4s\n",
      "5:\tlearn: 0.5018735\ttotal: 812ms\tremaining: 3.25s\n",
      "6:\tlearn: 0.4800909\ttotal: 956ms\tremaining: 3.14s\n",
      "7:\tlearn: 0.4604203\ttotal: 1.1s\tremaining: 3.02s\n",
      "8:\tlearn: 0.4426703\ttotal: 1.19s\tremaining: 2.77s\n",
      "9:\tlearn: 0.4261968\ttotal: 1.32s\tremaining: 2.64s\n",
      "10:\tlearn: 0.4113728\ttotal: 1.46s\tremaining: 2.53s\n",
      "11:\tlearn: 0.3974577\ttotal: 1.61s\tremaining: 2.41s\n",
      "12:\tlearn: 0.3846863\ttotal: 1.75s\tremaining: 2.29s\n",
      "13:\tlearn: 0.3729112\ttotal: 1.89s\tremaining: 2.16s\n",
      "14:\tlearn: 0.3619677\ttotal: 2.03s\tremaining: 2.03s\n",
      "15:\tlearn: 0.3520688\ttotal: 2.17s\tremaining: 1.9s\n",
      "16:\tlearn: 0.3428558\ttotal: 2.31s\tremaining: 1.77s\n",
      "17:\tlearn: 0.3343310\ttotal: 2.45s\tremaining: 1.63s\n",
      "18:\tlearn: 0.3267250\ttotal: 2.59s\tremaining: 1.5s\n",
      "19:\tlearn: 0.3195056\ttotal: 2.73s\tremaining: 1.36s\n",
      "20:\tlearn: 0.3125536\ttotal: 2.88s\tremaining: 1.23s\n",
      "21:\tlearn: 0.3063237\ttotal: 3.02s\tremaining: 1.1s\n",
      "22:\tlearn: 0.3003994\ttotal: 3.16s\tremaining: 962ms\n",
      "23:\tlearn: 0.2948236\ttotal: 3.3s\tremaining: 826ms\n",
      "24:\tlearn: 0.2892183\ttotal: 3.45s\tremaining: 690ms\n",
      "25:\tlearn: 0.2842704\ttotal: 3.59s\tremaining: 553ms\n",
      "26:\tlearn: 0.2796193\ttotal: 3.73s\tremaining: 415ms\n",
      "27:\tlearn: 0.2748801\ttotal: 3.86s\tremaining: 276ms\n"
     ]
    },
    {
     "name": "stderr",
     "output_type": "stream",
     "text": [
      "2it [00:09,  4.52s/it]"
     ]
    },
    {
     "name": "stdout",
     "output_type": "stream",
     "text": [
      "28:\tlearn: 0.2705397\ttotal: 4s\tremaining: 138ms\n",
      "29:\tlearn: 0.2669409\ttotal: 4.14s\tremaining: 0us\n",
      "0:\tlearn: 0.6514559\ttotal: 143ms\tremaining: 4.16s\n",
      "1:\tlearn: 0.6147039\ttotal: 298ms\tremaining: 4.17s\n",
      "2:\tlearn: 0.5819482\ttotal: 454ms\tremaining: 4.09s\n",
      "3:\tlearn: 0.5524825\ttotal: 594ms\tremaining: 3.86s\n",
      "4:\tlearn: 0.5259869\ttotal: 745ms\tremaining: 3.73s\n",
      "5:\tlearn: 0.5019724\ttotal: 893ms\tremaining: 3.57s\n",
      "6:\tlearn: 0.4801207\ttotal: 1.03s\tremaining: 3.4s\n",
      "7:\tlearn: 0.4603917\ttotal: 1.18s\tremaining: 3.25s\n",
      "8:\tlearn: 0.4426405\ttotal: 1.33s\tremaining: 3.1s\n",
      "9:\tlearn: 0.4263072\ttotal: 1.5s\tremaining: 3s\n",
      "10:\tlearn: 0.4113211\ttotal: 1.64s\tremaining: 2.84s\n",
      "11:\tlearn: 0.3974333\ttotal: 1.8s\tremaining: 2.71s\n",
      "12:\tlearn: 0.3848002\ttotal: 1.95s\tremaining: 2.56s\n",
      "13:\tlearn: 0.3731884\ttotal: 2.11s\tremaining: 2.41s\n",
      "14:\tlearn: 0.3622468\ttotal: 2.26s\tremaining: 2.26s\n",
      "15:\tlearn: 0.3523951\ttotal: 2.42s\tremaining: 2.12s\n",
      "16:\tlearn: 0.3430949\ttotal: 2.6s\tremaining: 1.99s\n",
      "17:\tlearn: 0.3346746\ttotal: 2.76s\tremaining: 1.84s\n",
      "18:\tlearn: 0.3269298\ttotal: 2.93s\tremaining: 1.7s\n",
      "19:\tlearn: 0.3195550\ttotal: 3.1s\tremaining: 1.55s\n",
      "20:\tlearn: 0.3129329\ttotal: 3.27s\tremaining: 1.4s\n",
      "21:\tlearn: 0.3066390\ttotal: 3.44s\tremaining: 1.25s\n",
      "22:\tlearn: 0.3007168\ttotal: 3.6s\tremaining: 1.09s\n",
      "23:\tlearn: 0.2953267\ttotal: 3.77s\tremaining: 942ms\n",
      "24:\tlearn: 0.2900043\ttotal: 3.92s\tremaining: 783ms\n",
      "25:\tlearn: 0.2852202\ttotal: 4.06s\tremaining: 625ms\n",
      "26:\tlearn: 0.2807443\ttotal: 4.21s\tremaining: 468ms\n",
      "27:\tlearn: 0.2764693\ttotal: 4.35s\tremaining: 311ms\n",
      "28:\tlearn: 0.2722395\ttotal: 4.5s\tremaining: 155ms\n",
      "29:\tlearn: 0.2681826\ttotal: 4.66s\tremaining: 0us\n"
     ]
    },
    {
     "name": "stderr",
     "output_type": "stream",
     "text": [
      "3it [00:14,  4.76s/it]"
     ]
    },
    {
     "name": "stdout",
     "output_type": "stream",
     "text": [
      "0:\tlearn: 0.6514727\ttotal: 134ms\tremaining: 3.87s\n",
      "1:\tlearn: 0.6147443\ttotal: 269ms\tremaining: 3.76s\n",
      "2:\tlearn: 0.5820757\ttotal: 404ms\tremaining: 3.63s\n",
      "3:\tlearn: 0.5525958\ttotal: 543ms\tremaining: 3.53s\n",
      "4:\tlearn: 0.5262035\ttotal: 681ms\tremaining: 3.4s\n",
      "5:\tlearn: 0.5020697\ttotal: 821ms\tremaining: 3.28s\n",
      "6:\tlearn: 0.4802926\ttotal: 956ms\tremaining: 3.14s\n",
      "7:\tlearn: 0.4605232\ttotal: 1.09s\tremaining: 3s\n",
      "8:\tlearn: 0.4427175\ttotal: 1.22s\tremaining: 2.85s\n",
      "9:\tlearn: 0.4263637\ttotal: 1.36s\tremaining: 2.72s\n",
      "10:\tlearn: 0.4113539\ttotal: 1.5s\tremaining: 2.59s\n",
      "11:\tlearn: 0.3974890\ttotal: 1.64s\tremaining: 2.46s\n",
      "12:\tlearn: 0.3848531\ttotal: 1.78s\tremaining: 2.33s\n",
      "13:\tlearn: 0.3732185\ttotal: 1.93s\tremaining: 2.21s\n",
      "14:\tlearn: 0.3623065\ttotal: 2.08s\tremaining: 2.08s\n",
      "15:\tlearn: 0.3523843\ttotal: 2.22s\tremaining: 1.94s\n",
      "16:\tlearn: 0.3430567\ttotal: 2.36s\tremaining: 1.8s\n",
      "17:\tlearn: 0.3347108\ttotal: 2.5s\tremaining: 1.67s\n",
      "18:\tlearn: 0.3268578\ttotal: 2.64s\tremaining: 1.53s\n",
      "19:\tlearn: 0.3194934\ttotal: 2.78s\tremaining: 1.39s\n",
      "20:\tlearn: 0.3127102\ttotal: 2.93s\tremaining: 1.25s\n",
      "21:\tlearn: 0.3064757\ttotal: 3.07s\tremaining: 1.12s\n",
      "22:\tlearn: 0.3006052\ttotal: 3.24s\tremaining: 985ms\n",
      "23:\tlearn: 0.2952195\ttotal: 3.4s\tremaining: 850ms\n",
      "24:\tlearn: 0.2898956\ttotal: 3.56s\tremaining: 712ms\n",
      "25:\tlearn: 0.2849711\ttotal: 3.73s\tremaining: 574ms\n",
      "26:\tlearn: 0.2802840\ttotal: 3.88s\tremaining: 431ms\n",
      "27:\tlearn: 0.2757589\ttotal: 4.03s\tremaining: 288ms\n"
     ]
    },
    {
     "name": "stderr",
     "output_type": "stream",
     "text": [
      "4it [00:18,  4.72s/it]"
     ]
    },
    {
     "name": "stdout",
     "output_type": "stream",
     "text": [
      "28:\tlearn: 0.2715111\ttotal: 4.18s\tremaining: 144ms\n",
      "29:\tlearn: 0.2674863\ttotal: 4.32s\tremaining: 0us\n",
      "0:\tlearn: 0.6515708\ttotal: 131ms\tremaining: 3.79s\n",
      "1:\tlearn: 0.6147470\ttotal: 271ms\tremaining: 3.79s\n",
      "2:\tlearn: 0.5819890\ttotal: 410ms\tremaining: 3.69s\n",
      "3:\tlearn: 0.5526182\ttotal: 546ms\tremaining: 3.55s\n",
      "4:\tlearn: 0.5259778\ttotal: 688ms\tremaining: 3.44s\n",
      "5:\tlearn: 0.5018415\ttotal: 837ms\tremaining: 3.35s\n",
      "6:\tlearn: 0.4802883\ttotal: 967ms\tremaining: 3.18s\n",
      "7:\tlearn: 0.4604181\ttotal: 1.1s\tremaining: 3.03s\n",
      "8:\tlearn: 0.4425772\ttotal: 1.24s\tremaining: 2.9s\n",
      "9:\tlearn: 0.4261869\ttotal: 1.39s\tremaining: 2.77s\n",
      "10:\tlearn: 0.4112249\ttotal: 1.52s\tremaining: 2.63s\n",
      "11:\tlearn: 0.3973430\ttotal: 1.67s\tremaining: 2.5s\n",
      "12:\tlearn: 0.3846418\ttotal: 1.8s\tremaining: 2.36s\n",
      "13:\tlearn: 0.3729574\ttotal: 1.95s\tremaining: 2.23s\n",
      "14:\tlearn: 0.3621913\ttotal: 2.09s\tremaining: 2.09s\n",
      "15:\tlearn: 0.3524337\ttotal: 2.24s\tremaining: 1.96s\n",
      "16:\tlearn: 0.3430912\ttotal: 2.38s\tremaining: 1.82s\n",
      "17:\tlearn: 0.3343883\ttotal: 2.52s\tremaining: 1.68s\n",
      "18:\tlearn: 0.3267948\ttotal: 2.66s\tremaining: 1.54s\n",
      "19:\tlearn: 0.3194395\ttotal: 2.81s\tremaining: 1.4s\n",
      "20:\tlearn: 0.3129008\ttotal: 2.95s\tremaining: 1.26s\n",
      "21:\tlearn: 0.3066373\ttotal: 3.08s\tremaining: 1.12s\n",
      "22:\tlearn: 0.3004264\ttotal: 3.22s\tremaining: 980ms\n",
      "23:\tlearn: 0.2949953\ttotal: 3.35s\tremaining: 838ms\n",
      "24:\tlearn: 0.2894331\ttotal: 3.49s\tremaining: 698ms\n",
      "25:\tlearn: 0.2846568\ttotal: 3.63s\tremaining: 558ms\n",
      "26:\tlearn: 0.2799870\ttotal: 3.76s\tremaining: 418ms\n",
      "27:\tlearn: 0.2755921\ttotal: 3.9s\tremaining: 279ms\n"
     ]
    },
    {
     "name": "stderr",
     "output_type": "stream",
     "text": [
      "5it [00:23,  4.65s/it]"
     ]
    },
    {
     "name": "stdout",
     "output_type": "stream",
     "text": [
      "28:\tlearn: 0.2712998\ttotal: 4.04s\tremaining: 139ms\n",
      "29:\tlearn: 0.2674029\ttotal: 4.18s\tremaining: 0us\n",
      "0:\tlearn: 0.6515679\ttotal: 132ms\tremaining: 3.82s\n",
      "1:\tlearn: 0.6147537\ttotal: 274ms\tremaining: 3.84s\n",
      "2:\tlearn: 0.5820437\ttotal: 411ms\tremaining: 3.7s\n",
      "3:\tlearn: 0.5525869\ttotal: 547ms\tremaining: 3.55s\n",
      "4:\tlearn: 0.5263233\ttotal: 692ms\tremaining: 3.46s\n",
      "5:\tlearn: 0.5022765\ttotal: 832ms\tremaining: 3.33s\n",
      "6:\tlearn: 0.4805527\ttotal: 972ms\tremaining: 3.19s\n",
      "7:\tlearn: 0.4607555\ttotal: 1.11s\tremaining: 3.05s\n",
      "8:\tlearn: 0.4430386\ttotal: 1.2s\tremaining: 2.81s\n",
      "9:\tlearn: 0.4265589\ttotal: 1.35s\tremaining: 2.69s\n",
      "10:\tlearn: 0.4116723\ttotal: 1.49s\tremaining: 2.57s\n",
      "11:\tlearn: 0.3978113\ttotal: 1.63s\tremaining: 2.44s\n",
      "12:\tlearn: 0.3850982\ttotal: 1.76s\tremaining: 2.31s\n",
      "13:\tlearn: 0.3734654\ttotal: 1.9s\tremaining: 2.17s\n",
      "14:\tlearn: 0.3626417\ttotal: 2.04s\tremaining: 2.04s\n",
      "15:\tlearn: 0.3528028\ttotal: 2.18s\tremaining: 1.91s\n",
      "16:\tlearn: 0.3435858\ttotal: 2.32s\tremaining: 1.78s\n",
      "17:\tlearn: 0.3350779\ttotal: 2.46s\tremaining: 1.64s\n",
      "18:\tlearn: 0.3274445\ttotal: 2.59s\tremaining: 1.5s\n",
      "19:\tlearn: 0.3198427\ttotal: 2.74s\tremaining: 1.37s\n",
      "20:\tlearn: 0.3129786\ttotal: 2.88s\tremaining: 1.23s\n",
      "21:\tlearn: 0.3068785\ttotal: 3.01s\tremaining: 1.09s\n",
      "22:\tlearn: 0.3010392\ttotal: 3.15s\tremaining: 958ms\n",
      "23:\tlearn: 0.2955642\ttotal: 3.28s\tremaining: 821ms\n",
      "24:\tlearn: 0.2899166\ttotal: 3.42s\tremaining: 684ms\n",
      "25:\tlearn: 0.2850907\ttotal: 3.56s\tremaining: 548ms\n",
      "26:\tlearn: 0.2800605\ttotal: 3.7s\tremaining: 411ms\n",
      "27:\tlearn: 0.2758672\ttotal: 3.84s\tremaining: 275ms\n",
      "28:\tlearn: 0.2720350\ttotal: 3.98s\tremaining: 137ms\n",
      "29:\tlearn: 0.2679278\ttotal: 4.12s\tremaining: 0us\n"
     ]
    },
    {
     "name": "stderr",
     "output_type": "stream",
     "text": [
      "6it [00:27,  4.59s/it]"
     ]
    },
    {
     "name": "stdout",
     "output_type": "stream",
     "text": [
      "0:\tlearn: 0.6515553\ttotal: 141ms\tremaining: 4.09s\n",
      "1:\tlearn: 0.6147328\ttotal: 276ms\tremaining: 3.86s\n",
      "2:\tlearn: 0.5821321\ttotal: 407ms\tremaining: 3.67s\n",
      "3:\tlearn: 0.5527487\ttotal: 541ms\tremaining: 3.52s\n",
      "4:\tlearn: 0.5263491\ttotal: 682ms\tremaining: 3.41s\n",
      "5:\tlearn: 0.5022570\ttotal: 819ms\tremaining: 3.27s\n",
      "6:\tlearn: 0.4805461\ttotal: 957ms\tremaining: 3.14s\n",
      "7:\tlearn: 0.4608496\ttotal: 1.1s\tremaining: 3.03s\n",
      "8:\tlearn: 0.4431974\ttotal: 1.2s\tremaining: 2.81s\n",
      "9:\tlearn: 0.4266376\ttotal: 1.34s\tremaining: 2.69s\n",
      "10:\tlearn: 0.4117931\ttotal: 1.49s\tremaining: 2.57s\n",
      "11:\tlearn: 0.3979580\ttotal: 1.63s\tremaining: 2.44s\n",
      "12:\tlearn: 0.3853359\ttotal: 1.76s\tremaining: 2.31s\n",
      "13:\tlearn: 0.3736998\ttotal: 1.9s\tremaining: 2.18s\n",
      "14:\tlearn: 0.3628852\ttotal: 2.04s\tremaining: 2.04s\n",
      "15:\tlearn: 0.3529311\ttotal: 2.17s\tremaining: 1.9s\n",
      "16:\tlearn: 0.3436663\ttotal: 2.32s\tremaining: 1.77s\n",
      "17:\tlearn: 0.3350368\ttotal: 2.46s\tremaining: 1.64s\n",
      "18:\tlearn: 0.3270809\ttotal: 2.6s\tremaining: 1.51s\n",
      "19:\tlearn: 0.3197815\ttotal: 2.75s\tremaining: 1.37s\n",
      "20:\tlearn: 0.3128788\ttotal: 2.9s\tremaining: 1.24s\n",
      "21:\tlearn: 0.3064382\ttotal: 3.04s\tremaining: 1.1s\n",
      "22:\tlearn: 0.3002169\ttotal: 3.18s\tremaining: 968ms\n",
      "23:\tlearn: 0.2946707\ttotal: 3.32s\tremaining: 831ms\n",
      "24:\tlearn: 0.2893464\ttotal: 3.48s\tremaining: 695ms\n",
      "25:\tlearn: 0.2845460\ttotal: 3.63s\tremaining: 558ms\n",
      "26:\tlearn: 0.2797553\ttotal: 3.78s\tremaining: 420ms\n",
      "27:\tlearn: 0.2753482\ttotal: 3.92s\tremaining: 280ms\n",
      "28:\tlearn: 0.2714736\ttotal: 4.06s\tremaining: 140ms\n",
      "29:\tlearn: 0.2676135\ttotal: 4.2s\tremaining: 0us\n"
     ]
    },
    {
     "name": "stderr",
     "output_type": "stream",
     "text": [
      "7it [00:32,  4.58s/it]"
     ]
    },
    {
     "name": "stdout",
     "output_type": "stream",
     "text": [
      "0:\tlearn: 0.6515484\ttotal: 144ms\tremaining: 4.19s\n",
      "1:\tlearn: 0.6148689\ttotal: 292ms\tremaining: 4.09s\n",
      "2:\tlearn: 0.5820044\ttotal: 437ms\tremaining: 3.93s\n",
      "3:\tlearn: 0.5526218\ttotal: 579ms\tremaining: 3.76s\n",
      "4:\tlearn: 0.5260810\ttotal: 723ms\tremaining: 3.61s\n",
      "5:\tlearn: 0.5020222\ttotal: 886ms\tremaining: 3.54s\n",
      "6:\tlearn: 0.4803146\ttotal: 1.05s\tremaining: 3.47s\n",
      "7:\tlearn: 0.4606776\ttotal: 1.21s\tremaining: 3.34s\n",
      "8:\tlearn: 0.4428363\ttotal: 1.38s\tremaining: 3.22s\n",
      "9:\tlearn: 0.4265240\ttotal: 1.53s\tremaining: 3.05s\n",
      "10:\tlearn: 0.4115430\ttotal: 1.67s\tremaining: 2.89s\n",
      "11:\tlearn: 0.3975334\ttotal: 1.82s\tremaining: 2.73s\n",
      "12:\tlearn: 0.3850052\ttotal: 1.96s\tremaining: 2.57s\n",
      "13:\tlearn: 0.3734145\ttotal: 2.1s\tremaining: 2.4s\n",
      "14:\tlearn: 0.3626791\ttotal: 2.25s\tremaining: 2.25s\n",
      "15:\tlearn: 0.3527772\ttotal: 2.39s\tremaining: 2.09s\n",
      "16:\tlearn: 0.3435092\ttotal: 2.53s\tremaining: 1.94s\n",
      "17:\tlearn: 0.3352991\ttotal: 2.67s\tremaining: 1.78s\n",
      "18:\tlearn: 0.3274892\ttotal: 2.81s\tremaining: 1.63s\n",
      "19:\tlearn: 0.3200781\ttotal: 2.95s\tremaining: 1.48s\n",
      "20:\tlearn: 0.3135219\ttotal: 3.1s\tremaining: 1.33s\n",
      "21:\tlearn: 0.3071460\ttotal: 3.23s\tremaining: 1.18s\n",
      "22:\tlearn: 0.3012285\ttotal: 3.38s\tremaining: 1.03s\n",
      "23:\tlearn: 0.2955519\ttotal: 3.51s\tremaining: 878ms\n",
      "24:\tlearn: 0.2899105\ttotal: 3.65s\tremaining: 730ms\n",
      "25:\tlearn: 0.2849683\ttotal: 3.78s\tremaining: 582ms\n",
      "26:\tlearn: 0.2801076\ttotal: 3.92s\tremaining: 436ms\n",
      "27:\tlearn: 0.2759533\ttotal: 4.06s\tremaining: 290ms\n"
     ]
    },
    {
     "name": "stderr",
     "output_type": "stream",
     "text": [
      "8it [00:37,  4.62s/it]"
     ]
    },
    {
     "name": "stdout",
     "output_type": "stream",
     "text": [
      "28:\tlearn: 0.2718076\ttotal: 4.2s\tremaining: 145ms\n",
      "29:\tlearn: 0.2677779\ttotal: 4.34s\tremaining: 0us\n",
      "0:\tlearn: 0.6515632\ttotal: 132ms\tremaining: 3.84s\n",
      "1:\tlearn: 0.6149400\ttotal: 274ms\tremaining: 3.83s\n",
      "2:\tlearn: 0.5823158\ttotal: 408ms\tremaining: 3.67s\n",
      "3:\tlearn: 0.5527986\ttotal: 547ms\tremaining: 3.56s\n",
      "4:\tlearn: 0.5265013\ttotal: 684ms\tremaining: 3.42s\n",
      "5:\tlearn: 0.5023443\ttotal: 823ms\tremaining: 3.29s\n",
      "6:\tlearn: 0.4805477\ttotal: 962ms\tremaining: 3.16s\n",
      "7:\tlearn: 0.4606234\ttotal: 1.1s\tremaining: 3.02s\n",
      "8:\tlearn: 0.4429591\ttotal: 1.19s\tremaining: 2.78s\n",
      "9:\tlearn: 0.4264157\ttotal: 1.34s\tremaining: 2.67s\n",
      "10:\tlearn: 0.4114699\ttotal: 1.47s\tremaining: 2.54s\n",
      "11:\tlearn: 0.3976826\ttotal: 1.6s\tremaining: 2.4s\n",
      "12:\tlearn: 0.3849596\ttotal: 1.73s\tremaining: 2.27s\n",
      "13:\tlearn: 0.3732803\ttotal: 1.87s\tremaining: 2.14s\n",
      "14:\tlearn: 0.3625035\ttotal: 2.01s\tremaining: 2.01s\n",
      "15:\tlearn: 0.3526081\ttotal: 2.15s\tremaining: 1.88s\n",
      "16:\tlearn: 0.3433258\ttotal: 2.29s\tremaining: 1.75s\n",
      "17:\tlearn: 0.3348471\ttotal: 2.43s\tremaining: 1.62s\n",
      "18:\tlearn: 0.3271691\ttotal: 2.57s\tremaining: 1.49s\n",
      "19:\tlearn: 0.3199295\ttotal: 2.72s\tremaining: 1.36s\n",
      "20:\tlearn: 0.3132130\ttotal: 2.87s\tremaining: 1.23s\n",
      "21:\tlearn: 0.3071410\ttotal: 3.01s\tremaining: 1.1s\n",
      "22:\tlearn: 0.3011268\ttotal: 3.15s\tremaining: 960ms\n",
      "23:\tlearn: 0.2950994\ttotal: 3.3s\tremaining: 824ms\n",
      "24:\tlearn: 0.2898299\ttotal: 3.44s\tremaining: 687ms\n",
      "25:\tlearn: 0.2849083\ttotal: 3.58s\tremaining: 550ms\n",
      "26:\tlearn: 0.2800006\ttotal: 3.71s\tremaining: 413ms\n",
      "27:\tlearn: 0.2758679\ttotal: 3.86s\tremaining: 275ms\n",
      "28:\tlearn: 0.2719613\ttotal: 4s\tremaining: 138ms\n",
      "29:\tlearn: 0.2679607\ttotal: 4.13s\tremaining: 0us\n"
     ]
    },
    {
     "name": "stderr",
     "output_type": "stream",
     "text": [
      "9it [00:41,  4.58s/it]"
     ]
    },
    {
     "name": "stdout",
     "output_type": "stream",
     "text": [
      "0:\tlearn: 0.6515448\ttotal: 137ms\tremaining: 3.97s\n",
      "1:\tlearn: 0.6147962\ttotal: 271ms\tremaining: 3.8s\n",
      "2:\tlearn: 0.5819405\ttotal: 405ms\tremaining: 3.64s\n",
      "3:\tlearn: 0.5525117\ttotal: 543ms\tremaining: 3.53s\n",
      "4:\tlearn: 0.5260993\ttotal: 680ms\tremaining: 3.4s\n",
      "5:\tlearn: 0.5020102\ttotal: 829ms\tremaining: 3.32s\n",
      "6:\tlearn: 0.4801612\ttotal: 972ms\tremaining: 3.19s\n",
      "7:\tlearn: 0.4604632\ttotal: 1.11s\tremaining: 3.05s\n",
      "8:\tlearn: 0.4428143\ttotal: 1.2s\tremaining: 2.8s\n",
      "9:\tlearn: 0.4263646\ttotal: 1.34s\tremaining: 2.68s\n",
      "10:\tlearn: 0.4113583\ttotal: 1.49s\tremaining: 2.57s\n",
      "11:\tlearn: 0.3975524\ttotal: 1.63s\tremaining: 2.45s\n",
      "12:\tlearn: 0.3848177\ttotal: 1.77s\tremaining: 2.31s\n",
      "13:\tlearn: 0.3731740\ttotal: 1.91s\tremaining: 2.18s\n",
      "14:\tlearn: 0.3622700\ttotal: 2.04s\tremaining: 2.04s\n",
      "15:\tlearn: 0.3523279\ttotal: 2.18s\tremaining: 1.9s\n",
      "16:\tlearn: 0.3431648\ttotal: 2.32s\tremaining: 1.77s\n",
      "17:\tlearn: 0.3345652\ttotal: 2.46s\tremaining: 1.64s\n",
      "18:\tlearn: 0.3268906\ttotal: 2.59s\tremaining: 1.5s\n",
      "19:\tlearn: 0.3194622\ttotal: 2.74s\tremaining: 1.37s\n",
      "20:\tlearn: 0.3125953\ttotal: 2.88s\tremaining: 1.24s\n",
      "21:\tlearn: 0.3063640\ttotal: 3.03s\tremaining: 1.1s\n",
      "22:\tlearn: 0.3005891\ttotal: 3.17s\tremaining: 964ms\n",
      "23:\tlearn: 0.2950864\ttotal: 3.3s\tremaining: 824ms\n",
      "24:\tlearn: 0.2899335\ttotal: 3.44s\tremaining: 688ms\n",
      "25:\tlearn: 0.2851266\ttotal: 3.58s\tremaining: 551ms\n",
      "26:\tlearn: 0.2801744\ttotal: 3.72s\tremaining: 414ms\n",
      "27:\tlearn: 0.2755344\ttotal: 3.87s\tremaining: 276ms\n"
     ]
    },
    {
     "name": "stderr",
     "output_type": "stream",
     "text": [
      "10it [00:45,  4.55s/it]"
     ]
    },
    {
     "name": "stdout",
     "output_type": "stream",
     "text": [
      "28:\tlearn: 0.2713515\ttotal: 4.01s\tremaining: 138ms\n",
      "29:\tlearn: 0.2677071\ttotal: 4.14s\tremaining: 0us\n"
     ]
    },
    {
     "name": "stderr",
     "output_type": "stream",
     "text": [
      "10it [00:45,  4.60s/it]\n",
      "[I 2024-06-30 12:26:39,736] Trial 2 finished with value: 0.9635377687997476 and parameters: {'depth': 11, 'learning_rate': 0.06261866445325026, 'l2_leaf_reg': 4, 'iterations': 30}. Best is trial 0 with value: 0.9856638918653319.\n",
      "0it [00:00, ?it/s]"
     ]
    },
    {
     "name": "stdout",
     "output_type": "stream",
     "text": [
      "0:\tlearn: 0.5755755\ttotal: 92.7ms\tremaining: 2.69s\n",
      "1:\tlearn: 0.4949935\ttotal: 184ms\tremaining: 2.58s\n",
      "2:\tlearn: 0.4356863\ttotal: 277ms\tremaining: 2.49s\n",
      "3:\tlearn: 0.3911479\ttotal: 370ms\tremaining: 2.4s\n",
      "4:\tlearn: 0.3574181\ttotal: 464ms\tremaining: 2.32s\n",
      "5:\tlearn: 0.3305339\ttotal: 559ms\tremaining: 2.24s\n",
      "6:\tlearn: 0.3098138\ttotal: 652ms\tremaining: 2.14s\n",
      "7:\tlearn: 0.2935463\ttotal: 747ms\tremaining: 2.05s\n",
      "8:\tlearn: 0.2804399\ttotal: 837ms\tremaining: 1.95s\n",
      "9:\tlearn: 0.2694949\ttotal: 926ms\tremaining: 1.85s\n",
      "10:\tlearn: 0.2577136\ttotal: 1.02s\tremaining: 1.77s\n",
      "11:\tlearn: 0.2506625\ttotal: 1.12s\tremaining: 1.68s\n",
      "12:\tlearn: 0.2434943\ttotal: 1.23s\tremaining: 1.6s\n",
      "13:\tlearn: 0.2382098\ttotal: 1.32s\tremaining: 1.51s\n",
      "14:\tlearn: 0.2331091\ttotal: 1.41s\tremaining: 1.41s\n",
      "15:\tlearn: 0.2287965\ttotal: 1.51s\tremaining: 1.32s\n",
      "16:\tlearn: 0.2222858\ttotal: 1.61s\tremaining: 1.23s\n",
      "17:\tlearn: 0.2187122\ttotal: 1.79s\tremaining: 1.2s\n",
      "18:\tlearn: 0.2154942\ttotal: 1.92s\tremaining: 1.11s\n",
      "19:\tlearn: 0.2109057\ttotal: 2.01s\tremaining: 1s\n",
      "20:\tlearn: 0.2080922\ttotal: 2.11s\tremaining: 904ms\n",
      "21:\tlearn: 0.2053665\ttotal: 2.21s\tremaining: 802ms\n",
      "22:\tlearn: 0.2027530\ttotal: 2.3s\tremaining: 699ms\n",
      "23:\tlearn: 0.1996618\ttotal: 2.39s\tremaining: 597ms\n",
      "24:\tlearn: 0.1978449\ttotal: 2.48s\tremaining: 496ms\n",
      "25:\tlearn: 0.1959921\ttotal: 2.57s\tremaining: 396ms\n",
      "26:\tlearn: 0.1936424\ttotal: 2.67s\tremaining: 296ms\n",
      "27:\tlearn: 0.1912146\ttotal: 2.76s\tremaining: 197ms\n"
     ]
    },
    {
     "name": "stderr",
     "output_type": "stream",
     "text": [
      "1it [00:03,  3.28s/it]"
     ]
    },
    {
     "name": "stdout",
     "output_type": "stream",
     "text": [
      "28:\tlearn: 0.1882462\ttotal: 2.85s\tremaining: 98.4ms\n",
      "29:\tlearn: 0.1856746\ttotal: 2.94s\tremaining: 0us\n",
      "0:\tlearn: 0.5756910\ttotal: 94.1ms\tremaining: 2.73s\n",
      "1:\tlearn: 0.4944588\ttotal: 193ms\tremaining: 2.71s\n",
      "2:\tlearn: 0.4356048\ttotal: 286ms\tremaining: 2.58s\n",
      "3:\tlearn: 0.3911158\ttotal: 380ms\tremaining: 2.47s\n",
      "4:\tlearn: 0.3569601\ttotal: 475ms\tremaining: 2.38s\n",
      "5:\tlearn: 0.3304272\ttotal: 573ms\tremaining: 2.29s\n",
      "6:\tlearn: 0.3097300\ttotal: 668ms\tremaining: 2.19s\n",
      "7:\tlearn: 0.2935532\ttotal: 762ms\tremaining: 2.1s\n",
      "8:\tlearn: 0.2805469\ttotal: 868ms\tremaining: 2.02s\n",
      "9:\tlearn: 0.2697017\ttotal: 980ms\tremaining: 1.96s\n",
      "10:\tlearn: 0.2582343\ttotal: 1.09s\tremaining: 1.89s\n",
      "11:\tlearn: 0.2510257\ttotal: 1.2s\tremaining: 1.8s\n",
      "12:\tlearn: 0.2432335\ttotal: 1.3s\tremaining: 1.7s\n",
      "13:\tlearn: 0.2377685\ttotal: 1.4s\tremaining: 1.6s\n",
      "14:\tlearn: 0.2313720\ttotal: 1.51s\tremaining: 1.51s\n",
      "15:\tlearn: 0.2266730\ttotal: 1.61s\tremaining: 1.41s\n",
      "16:\tlearn: 0.2229645\ttotal: 1.7s\tremaining: 1.3s\n",
      "17:\tlearn: 0.2196171\ttotal: 1.8s\tremaining: 1.2s\n",
      "18:\tlearn: 0.2143520\ttotal: 1.9s\tremaining: 1.1s\n",
      "19:\tlearn: 0.2112644\ttotal: 2s\tremaining: 998ms\n",
      "20:\tlearn: 0.2086072\ttotal: 2.09s\tremaining: 895ms\n",
      "21:\tlearn: 0.2042037\ttotal: 2.19s\tremaining: 795ms\n",
      "22:\tlearn: 0.2014126\ttotal: 2.28s\tremaining: 693ms\n",
      "23:\tlearn: 0.1981036\ttotal: 2.38s\tremaining: 594ms\n",
      "24:\tlearn: 0.1949701\ttotal: 2.47s\tremaining: 495ms\n",
      "25:\tlearn: 0.1920152\ttotal: 2.57s\tremaining: 395ms\n",
      "26:\tlearn: 0.1897988\ttotal: 2.66s\tremaining: 296ms\n",
      "27:\tlearn: 0.1883845\ttotal: 2.75s\tremaining: 197ms\n",
      "28:\tlearn: 0.1873264\ttotal: 2.84s\tremaining: 98.1ms\n"
     ]
    },
    {
     "name": "stderr",
     "output_type": "stream",
     "text": [
      "2it [00:06,  3.28s/it]"
     ]
    },
    {
     "name": "stdout",
     "output_type": "stream",
     "text": [
      "29:\tlearn: 0.1859873\ttotal: 2.94s\tremaining: 0us\n",
      "0:\tlearn: 0.5754072\ttotal: 89.4ms\tremaining: 2.59s\n",
      "1:\tlearn: 0.4944188\ttotal: 180ms\tremaining: 2.52s\n",
      "2:\tlearn: 0.4351183\ttotal: 269ms\tremaining: 2.42s\n",
      "3:\tlearn: 0.3905615\ttotal: 363ms\tremaining: 2.36s\n",
      "4:\tlearn: 0.3559472\ttotal: 458ms\tremaining: 2.29s\n",
      "5:\tlearn: 0.3298573\ttotal: 554ms\tremaining: 2.22s\n",
      "6:\tlearn: 0.3086051\ttotal: 662ms\tremaining: 2.17s\n",
      "7:\tlearn: 0.2921363\ttotal: 766ms\tremaining: 2.1s\n",
      "8:\tlearn: 0.2790082\ttotal: 876ms\tremaining: 2.04s\n",
      "9:\tlearn: 0.2679646\ttotal: 989ms\tremaining: 1.98s\n",
      "10:\tlearn: 0.2581162\ttotal: 1.09s\tremaining: 1.89s\n",
      "11:\tlearn: 0.2496434\ttotal: 1.21s\tremaining: 1.81s\n",
      "12:\tlearn: 0.2416543\ttotal: 1.32s\tremaining: 1.73s\n",
      "13:\tlearn: 0.2353475\ttotal: 1.43s\tremaining: 1.63s\n",
      "14:\tlearn: 0.2298363\ttotal: 1.53s\tremaining: 1.53s\n",
      "15:\tlearn: 0.2259720\ttotal: 1.62s\tremaining: 1.42s\n",
      "16:\tlearn: 0.2223598\ttotal: 1.72s\tremaining: 1.31s\n",
      "17:\tlearn: 0.2168791\ttotal: 1.81s\tremaining: 1.21s\n",
      "18:\tlearn: 0.2128759\ttotal: 1.91s\tremaining: 1.11s\n",
      "19:\tlearn: 0.2090863\ttotal: 2.02s\tremaining: 1.01s\n",
      "20:\tlearn: 0.2067597\ttotal: 2.11s\tremaining: 904ms\n",
      "21:\tlearn: 0.2031106\ttotal: 2.21s\tremaining: 803ms\n",
      "22:\tlearn: 0.2000527\ttotal: 2.3s\tremaining: 700ms\n",
      "23:\tlearn: 0.1979493\ttotal: 2.39s\tremaining: 597ms\n",
      "24:\tlearn: 0.1947498\ttotal: 2.49s\tremaining: 497ms\n",
      "25:\tlearn: 0.1931173\ttotal: 2.58s\tremaining: 397ms\n",
      "26:\tlearn: 0.1905052\ttotal: 2.67s\tremaining: 297ms\n",
      "27:\tlearn: 0.1885062\ttotal: 2.77s\tremaining: 198ms\n",
      "28:\tlearn: 0.1863586\ttotal: 2.86s\tremaining: 98.6ms\n",
      "29:\tlearn: 0.1839924\ttotal: 2.96s\tremaining: 0us\n"
     ]
    },
    {
     "name": "stderr",
     "output_type": "stream",
     "text": [
      "3it [00:09,  3.30s/it]"
     ]
    },
    {
     "name": "stdout",
     "output_type": "stream",
     "text": [
      "0:\tlearn: 0.5755142\ttotal: 92.2ms\tremaining: 2.67s\n",
      "1:\tlearn: 0.4946808\ttotal: 187ms\tremaining: 2.62s\n",
      "2:\tlearn: 0.4359594\ttotal: 279ms\tremaining: 2.51s\n",
      "3:\tlearn: 0.3913749\ttotal: 376ms\tremaining: 2.44s\n",
      "4:\tlearn: 0.3564606\ttotal: 469ms\tremaining: 2.34s\n",
      "5:\tlearn: 0.3297979\ttotal: 565ms\tremaining: 2.26s\n",
      "6:\tlearn: 0.3085477\ttotal: 665ms\tremaining: 2.18s\n",
      "7:\tlearn: 0.2926943\ttotal: 761ms\tremaining: 2.09s\n",
      "8:\tlearn: 0.2796295\ttotal: 856ms\tremaining: 2s\n",
      "9:\tlearn: 0.2684123\ttotal: 949ms\tremaining: 1.9s\n",
      "10:\tlearn: 0.2569294\ttotal: 1.05s\tremaining: 1.81s\n",
      "11:\tlearn: 0.2491566\ttotal: 1.14s\tremaining: 1.72s\n",
      "12:\tlearn: 0.2429082\ttotal: 1.24s\tremaining: 1.62s\n",
      "13:\tlearn: 0.2369245\ttotal: 1.33s\tremaining: 1.52s\n",
      "14:\tlearn: 0.2315500\ttotal: 1.42s\tremaining: 1.42s\n",
      "15:\tlearn: 0.2268758\ttotal: 1.51s\tremaining: 1.33s\n",
      "16:\tlearn: 0.2227929\ttotal: 1.61s\tremaining: 1.23s\n",
      "17:\tlearn: 0.2190391\ttotal: 1.7s\tremaining: 1.13s\n",
      "18:\tlearn: 0.2153814\ttotal: 1.79s\tremaining: 1.04s\n",
      "19:\tlearn: 0.2119954\ttotal: 1.89s\tremaining: 944ms\n",
      "20:\tlearn: 0.2089263\ttotal: 1.98s\tremaining: 850ms\n",
      "21:\tlearn: 0.2059797\ttotal: 2.08s\tremaining: 755ms\n",
      "22:\tlearn: 0.2018845\ttotal: 2.17s\tremaining: 661ms\n",
      "23:\tlearn: 0.1992465\ttotal: 2.26s\tremaining: 566ms\n",
      "24:\tlearn: 0.1966694\ttotal: 2.36s\tremaining: 473ms\n",
      "25:\tlearn: 0.1946450\ttotal: 2.45s\tremaining: 377ms\n",
      "26:\tlearn: 0.1911772\ttotal: 2.55s\tremaining: 283ms\n",
      "27:\tlearn: 0.1890140\ttotal: 2.65s\tremaining: 189ms\n",
      "28:\tlearn: 0.1865527\ttotal: 2.74s\tremaining: 94.4ms\n"
     ]
    },
    {
     "name": "stderr",
     "output_type": "stream",
     "text": [
      "4it [00:13,  3.25s/it]"
     ]
    },
    {
     "name": "stdout",
     "output_type": "stream",
     "text": [
      "29:\tlearn: 0.1851843\ttotal: 2.83s\tremaining: 0us\n",
      "0:\tlearn: 0.5757397\ttotal: 86.2ms\tremaining: 2.5s\n",
      "1:\tlearn: 0.4953059\ttotal: 177ms\tremaining: 2.48s\n",
      "2:\tlearn: 0.4362025\ttotal: 272ms\tremaining: 2.44s\n",
      "3:\tlearn: 0.3916798\ttotal: 362ms\tremaining: 2.35s\n",
      "4:\tlearn: 0.3574271\ttotal: 455ms\tremaining: 2.27s\n",
      "5:\tlearn: 0.3312519\ttotal: 546ms\tremaining: 2.18s\n",
      "6:\tlearn: 0.3103332\ttotal: 643ms\tremaining: 2.11s\n",
      "7:\tlearn: 0.2944657\ttotal: 735ms\tremaining: 2.02s\n",
      "8:\tlearn: 0.2810764\ttotal: 832ms\tremaining: 1.94s\n",
      "9:\tlearn: 0.2700621\ttotal: 926ms\tremaining: 1.85s\n",
      "10:\tlearn: 0.2582069\ttotal: 1.02s\tremaining: 1.77s\n",
      "11:\tlearn: 0.2499693\ttotal: 1.12s\tremaining: 1.69s\n",
      "12:\tlearn: 0.2422822\ttotal: 1.22s\tremaining: 1.59s\n",
      "13:\tlearn: 0.2367435\ttotal: 1.32s\tremaining: 1.5s\n",
      "14:\tlearn: 0.2321753\ttotal: 1.41s\tremaining: 1.41s\n",
      "15:\tlearn: 0.2271444\ttotal: 1.51s\tremaining: 1.32s\n",
      "16:\tlearn: 0.2223415\ttotal: 1.6s\tremaining: 1.23s\n",
      "17:\tlearn: 0.2191218\ttotal: 1.69s\tremaining: 1.13s\n",
      "18:\tlearn: 0.2160819\ttotal: 1.78s\tremaining: 1.03s\n",
      "19:\tlearn: 0.2133271\ttotal: 1.88s\tremaining: 939ms\n",
      "20:\tlearn: 0.2105051\ttotal: 1.97s\tremaining: 844ms\n",
      "21:\tlearn: 0.2077072\ttotal: 2.07s\tremaining: 752ms\n",
      "22:\tlearn: 0.2050487\ttotal: 2.16s\tremaining: 657ms\n",
      "23:\tlearn: 0.2022819\ttotal: 2.25s\tremaining: 563ms\n",
      "24:\tlearn: 0.1977914\ttotal: 2.35s\tremaining: 471ms\n",
      "25:\tlearn: 0.1948063\ttotal: 2.45s\tremaining: 377ms\n",
      "26:\tlearn: 0.1932536\ttotal: 2.55s\tremaining: 283ms\n",
      "27:\tlearn: 0.1908367\ttotal: 2.64s\tremaining: 189ms\n",
      "28:\tlearn: 0.1873611\ttotal: 2.74s\tremaining: 94.6ms\n",
      "29:\tlearn: 0.1857769\ttotal: 2.84s\tremaining: 0us\n"
     ]
    },
    {
     "name": "stderr",
     "output_type": "stream",
     "text": [
      "5it [00:16,  3.22s/it]"
     ]
    },
    {
     "name": "stdout",
     "output_type": "stream",
     "text": [
      "0:\tlearn: 0.5757069\ttotal: 97.1ms\tremaining: 2.81s\n",
      "1:\tlearn: 0.4947857\ttotal: 190ms\tremaining: 2.66s\n",
      "2:\tlearn: 0.4360555\ttotal: 282ms\tremaining: 2.54s\n",
      "3:\tlearn: 0.3916277\ttotal: 373ms\tremaining: 2.42s\n",
      "4:\tlearn: 0.3577031\ttotal: 463ms\tremaining: 2.32s\n",
      "5:\tlearn: 0.3314740\ttotal: 556ms\tremaining: 2.22s\n",
      "6:\tlearn: 0.3108365\ttotal: 648ms\tremaining: 2.13s\n",
      "7:\tlearn: 0.2948830\ttotal: 742ms\tremaining: 2.04s\n",
      "8:\tlearn: 0.2816679\ttotal: 838ms\tremaining: 1.95s\n",
      "9:\tlearn: 0.2704762\ttotal: 935ms\tremaining: 1.87s\n",
      "10:\tlearn: 0.2605240\ttotal: 1.03s\tremaining: 1.78s\n",
      "11:\tlearn: 0.2522682\ttotal: 1.12s\tremaining: 1.69s\n",
      "12:\tlearn: 0.2451140\ttotal: 1.22s\tremaining: 1.59s\n",
      "13:\tlearn: 0.2376596\ttotal: 1.31s\tremaining: 1.5s\n",
      "14:\tlearn: 0.2326783\ttotal: 1.41s\tremaining: 1.41s\n",
      "15:\tlearn: 0.2281070\ttotal: 1.5s\tremaining: 1.31s\n",
      "16:\tlearn: 0.2241448\ttotal: 1.59s\tremaining: 1.22s\n",
      "17:\tlearn: 0.2183223\ttotal: 1.69s\tremaining: 1.13s\n",
      "18:\tlearn: 0.2147025\ttotal: 1.78s\tremaining: 1.03s\n",
      "19:\tlearn: 0.2116851\ttotal: 1.87s\tremaining: 937ms\n",
      "20:\tlearn: 0.2090063\ttotal: 1.97s\tremaining: 844ms\n",
      "21:\tlearn: 0.2056960\ttotal: 2.06s\tremaining: 748ms\n",
      "22:\tlearn: 0.2034228\ttotal: 2.15s\tremaining: 655ms\n",
      "23:\tlearn: 0.2003680\ttotal: 2.24s\tremaining: 560ms\n",
      "24:\tlearn: 0.1968692\ttotal: 2.34s\tremaining: 468ms\n",
      "25:\tlearn: 0.1942192\ttotal: 2.44s\tremaining: 375ms\n",
      "26:\tlearn: 0.1923084\ttotal: 2.53s\tremaining: 281ms\n",
      "27:\tlearn: 0.1883250\ttotal: 2.63s\tremaining: 188ms\n",
      "28:\tlearn: 0.1863595\ttotal: 2.72s\tremaining: 93.9ms\n",
      "29:\tlearn: 0.1849816\ttotal: 2.82s\tremaining: 0us\n"
     ]
    },
    {
     "name": "stderr",
     "output_type": "stream",
     "text": [
      "6it [00:19,  3.20s/it]"
     ]
    },
    {
     "name": "stdout",
     "output_type": "stream",
     "text": [
      "0:\tlearn: 0.5756811\ttotal: 94.4ms\tremaining: 2.74s\n",
      "1:\tlearn: 0.4947890\ttotal: 192ms\tremaining: 2.69s\n",
      "2:\tlearn: 0.4354615\ttotal: 290ms\tremaining: 2.61s\n",
      "3:\tlearn: 0.3907045\ttotal: 386ms\tremaining: 2.51s\n",
      "4:\tlearn: 0.3567651\ttotal: 480ms\tremaining: 2.4s\n",
      "5:\tlearn: 0.3308047\ttotal: 574ms\tremaining: 2.3s\n",
      "6:\tlearn: 0.3098551\ttotal: 680ms\tremaining: 2.23s\n",
      "7:\tlearn: 0.2934605\ttotal: 772ms\tremaining: 2.12s\n",
      "8:\tlearn: 0.2803023\ttotal: 864ms\tremaining: 2.02s\n",
      "9:\tlearn: 0.2694031\ttotal: 958ms\tremaining: 1.92s\n",
      "10:\tlearn: 0.2600247\ttotal: 1.06s\tremaining: 1.82s\n",
      "11:\tlearn: 0.2524823\ttotal: 1.15s\tremaining: 1.73s\n",
      "12:\tlearn: 0.2444575\ttotal: 1.25s\tremaining: 1.63s\n",
      "13:\tlearn: 0.2371218\ttotal: 1.34s\tremaining: 1.53s\n",
      "14:\tlearn: 0.2325815\ttotal: 1.44s\tremaining: 1.44s\n",
      "15:\tlearn: 0.2279640\ttotal: 1.53s\tremaining: 1.34s\n",
      "16:\tlearn: 0.2219023\ttotal: 1.63s\tremaining: 1.25s\n",
      "17:\tlearn: 0.2161655\ttotal: 1.73s\tremaining: 1.15s\n",
      "18:\tlearn: 0.2122389\ttotal: 1.82s\tremaining: 1.05s\n",
      "19:\tlearn: 0.2094122\ttotal: 1.91s\tremaining: 957ms\n",
      "20:\tlearn: 0.2066745\ttotal: 2.01s\tremaining: 862ms\n",
      "21:\tlearn: 0.2031890\ttotal: 2.11s\tremaining: 766ms\n",
      "22:\tlearn: 0.2006220\ttotal: 2.2s\tremaining: 670ms\n",
      "23:\tlearn: 0.1975560\ttotal: 2.29s\tremaining: 573ms\n",
      "24:\tlearn: 0.1945262\ttotal: 2.39s\tremaining: 478ms\n",
      "25:\tlearn: 0.1927571\ttotal: 2.48s\tremaining: 382ms\n",
      "26:\tlearn: 0.1907458\ttotal: 2.57s\tremaining: 286ms\n",
      "27:\tlearn: 0.1891867\ttotal: 2.66s\tremaining: 190ms\n",
      "28:\tlearn: 0.1874932\ttotal: 2.76s\tremaining: 95.2ms\n"
     ]
    },
    {
     "name": "stderr",
     "output_type": "stream",
     "text": [
      "7it [00:22,  3.20s/it]"
     ]
    },
    {
     "name": "stdout",
     "output_type": "stream",
     "text": [
      "29:\tlearn: 0.1850437\ttotal: 2.86s\tremaining: 0us\n",
      "0:\tlearn: 0.5756731\ttotal: 94.8ms\tremaining: 2.75s\n",
      "1:\tlearn: 0.4947521\ttotal: 189ms\tremaining: 2.65s\n",
      "2:\tlearn: 0.4360320\ttotal: 284ms\tremaining: 2.55s\n",
      "3:\tlearn: 0.3917843\ttotal: 379ms\tremaining: 2.46s\n",
      "4:\tlearn: 0.3574705\ttotal: 473ms\tremaining: 2.36s\n",
      "5:\tlearn: 0.3308873\ttotal: 569ms\tremaining: 2.27s\n",
      "6:\tlearn: 0.3102338\ttotal: 666ms\tremaining: 2.19s\n",
      "7:\tlearn: 0.2941869\ttotal: 758ms\tremaining: 2.08s\n",
      "8:\tlearn: 0.2796798\ttotal: 854ms\tremaining: 1.99s\n",
      "9:\tlearn: 0.2690622\ttotal: 946ms\tremaining: 1.89s\n",
      "10:\tlearn: 0.2587461\ttotal: 1.05s\tremaining: 1.81s\n",
      "11:\tlearn: 0.2513384\ttotal: 1.14s\tremaining: 1.72s\n",
      "12:\tlearn: 0.2430564\ttotal: 1.24s\tremaining: 1.62s\n",
      "13:\tlearn: 0.2376555\ttotal: 1.33s\tremaining: 1.52s\n",
      "14:\tlearn: 0.2326049\ttotal: 1.43s\tremaining: 1.43s\n",
      "15:\tlearn: 0.2272947\ttotal: 1.53s\tremaining: 1.34s\n",
      "16:\tlearn: 0.2232142\ttotal: 1.62s\tremaining: 1.24s\n",
      "17:\tlearn: 0.2192908\ttotal: 1.72s\tremaining: 1.15s\n",
      "18:\tlearn: 0.2159126\ttotal: 1.81s\tremaining: 1.05s\n",
      "19:\tlearn: 0.2129442\ttotal: 1.91s\tremaining: 954ms\n",
      "20:\tlearn: 0.2101402\ttotal: 2s\tremaining: 858ms\n",
      "21:\tlearn: 0.2068553\ttotal: 2.09s\tremaining: 761ms\n",
      "22:\tlearn: 0.2042559\ttotal: 2.18s\tremaining: 665ms\n",
      "23:\tlearn: 0.2014695\ttotal: 2.28s\tremaining: 569ms\n",
      "24:\tlearn: 0.1977405\ttotal: 2.37s\tremaining: 474ms\n",
      "25:\tlearn: 0.1955849\ttotal: 2.46s\tremaining: 379ms\n",
      "26:\tlearn: 0.1933197\ttotal: 2.55s\tremaining: 284ms\n",
      "27:\tlearn: 0.1906083\ttotal: 2.65s\tremaining: 189ms\n",
      "28:\tlearn: 0.1890815\ttotal: 2.74s\tremaining: 94.4ms\n",
      "29:\tlearn: 0.1870395\ttotal: 2.83s\tremaining: 0us\n"
     ]
    },
    {
     "name": "stderr",
     "output_type": "stream",
     "text": [
      "8it [00:25,  3.19s/it]"
     ]
    },
    {
     "name": "stdout",
     "output_type": "stream",
     "text": [
      "0:\tlearn: 0.5757428\ttotal: 92.3ms\tremaining: 2.68s\n",
      "1:\tlearn: 0.4946495\ttotal: 186ms\tremaining: 2.6s\n",
      "2:\tlearn: 0.4352779\ttotal: 278ms\tremaining: 2.5s\n",
      "3:\tlearn: 0.3907132\ttotal: 373ms\tremaining: 2.42s\n",
      "4:\tlearn: 0.3570873\ttotal: 465ms\tremaining: 2.32s\n",
      "5:\tlearn: 0.3304522\ttotal: 561ms\tremaining: 2.25s\n",
      "6:\tlearn: 0.3092902\ttotal: 656ms\tremaining: 2.15s\n",
      "7:\tlearn: 0.2931494\ttotal: 749ms\tremaining: 2.06s\n",
      "8:\tlearn: 0.2800405\ttotal: 844ms\tremaining: 1.97s\n",
      "9:\tlearn: 0.2692675\ttotal: 940ms\tremaining: 1.88s\n",
      "10:\tlearn: 0.2600662\ttotal: 1.04s\tremaining: 1.8s\n",
      "11:\tlearn: 0.2523978\ttotal: 1.13s\tremaining: 1.7s\n",
      "12:\tlearn: 0.2440206\ttotal: 1.22s\tremaining: 1.6s\n",
      "13:\tlearn: 0.2385264\ttotal: 1.31s\tremaining: 1.5s\n",
      "14:\tlearn: 0.2325565\ttotal: 1.41s\tremaining: 1.41s\n",
      "15:\tlearn: 0.2264163\ttotal: 1.51s\tremaining: 1.32s\n",
      "16:\tlearn: 0.2231800\ttotal: 1.6s\tremaining: 1.22s\n",
      "17:\tlearn: 0.2173426\ttotal: 1.7s\tremaining: 1.13s\n",
      "18:\tlearn: 0.2135502\ttotal: 1.79s\tremaining: 1.04s\n",
      "19:\tlearn: 0.2104001\ttotal: 1.89s\tremaining: 944ms\n",
      "20:\tlearn: 0.2065565\ttotal: 1.98s\tremaining: 849ms\n",
      "21:\tlearn: 0.2016386\ttotal: 2.08s\tremaining: 758ms\n",
      "22:\tlearn: 0.1983735\ttotal: 2.18s\tremaining: 664ms\n",
      "23:\tlearn: 0.1961890\ttotal: 2.28s\tremaining: 569ms\n",
      "24:\tlearn: 0.1934855\ttotal: 2.38s\tremaining: 475ms\n",
      "25:\tlearn: 0.1918472\ttotal: 2.47s\tremaining: 380ms\n",
      "26:\tlearn: 0.1899164\ttotal: 2.57s\tremaining: 285ms\n",
      "27:\tlearn: 0.1872929\ttotal: 2.67s\tremaining: 191ms\n",
      "28:\tlearn: 0.1854165\ttotal: 2.79s\tremaining: 96.1ms\n"
     ]
    },
    {
     "name": "stderr",
     "output_type": "stream",
     "text": [
      "9it [00:28,  3.21s/it]"
     ]
    },
    {
     "name": "stdout",
     "output_type": "stream",
     "text": [
      "29:\tlearn: 0.1842117\ttotal: 2.9s\tremaining: 0us\n",
      "0:\tlearn: 0.5756912\ttotal: 108ms\tremaining: 3.13s\n",
      "1:\tlearn: 0.4947279\ttotal: 227ms\tremaining: 3.18s\n",
      "2:\tlearn: 0.4360747\ttotal: 345ms\tremaining: 3.1s\n",
      "3:\tlearn: 0.3919549\ttotal: 458ms\tremaining: 2.97s\n",
      "4:\tlearn: 0.3570515\ttotal: 576ms\tremaining: 2.88s\n",
      "5:\tlearn: 0.3304986\ttotal: 689ms\tremaining: 2.76s\n",
      "6:\tlearn: 0.3095931\ttotal: 807ms\tremaining: 2.65s\n",
      "7:\tlearn: 0.2938829\ttotal: 923ms\tremaining: 2.54s\n",
      "8:\tlearn: 0.2808119\ttotal: 1.04s\tremaining: 2.44s\n",
      "9:\tlearn: 0.2698721\ttotal: 1.15s\tremaining: 2.31s\n",
      "10:\tlearn: 0.2580016\ttotal: 1.26s\tremaining: 2.18s\n",
      "11:\tlearn: 0.2508171\ttotal: 1.38s\tremaining: 2.07s\n",
      "12:\tlearn: 0.2436393\ttotal: 1.49s\tremaining: 1.95s\n",
      "13:\tlearn: 0.2367192\ttotal: 1.6s\tremaining: 1.83s\n",
      "14:\tlearn: 0.2312691\ttotal: 1.71s\tremaining: 1.71s\n",
      "15:\tlearn: 0.2264667\ttotal: 1.83s\tremaining: 1.6s\n",
      "16:\tlearn: 0.2223985\ttotal: 1.94s\tremaining: 1.48s\n",
      "17:\tlearn: 0.2184037\ttotal: 2.05s\tremaining: 1.37s\n",
      "18:\tlearn: 0.2146088\ttotal: 2.17s\tremaining: 1.26s\n",
      "19:\tlearn: 0.2106884\ttotal: 2.29s\tremaining: 1.15s\n",
      "20:\tlearn: 0.2076225\ttotal: 2.41s\tremaining: 1.03s\n",
      "21:\tlearn: 0.2047558\ttotal: 2.52s\tremaining: 918ms\n",
      "22:\tlearn: 0.2011836\ttotal: 2.66s\tremaining: 809ms\n",
      "23:\tlearn: 0.1984203\ttotal: 2.77s\tremaining: 693ms\n",
      "24:\tlearn: 0.1958112\ttotal: 2.9s\tremaining: 581ms\n",
      "25:\tlearn: 0.1943616\ttotal: 3.02s\tremaining: 465ms\n",
      "26:\tlearn: 0.1926871\ttotal: 3.13s\tremaining: 348ms\n",
      "27:\tlearn: 0.1890557\ttotal: 3.25s\tremaining: 232ms\n"
     ]
    },
    {
     "name": "stderr",
     "output_type": "stream",
     "text": [
      "10it [00:32,  3.29s/it]\n",
      "[I 2024-06-30 12:27:12,688] Trial 3 finished with value: 0.9782881818379255 and parameters: {'depth': 10, 'learning_rate': 0.1873850649926786, 'l2_leaf_reg': 2, 'iterations': 30}. Best is trial 0 with value: 0.9856638918653319.\n"
     ]
    },
    {
     "name": "stdout",
     "output_type": "stream",
     "text": [
      "28:\tlearn: 0.1867834\ttotal: 3.36s\tremaining: 116ms\n",
      "29:\tlearn: 0.1849551\ttotal: 3.47s\tremaining: 0us\n"
     ]
    },
    {
     "name": "stderr",
     "output_type": "stream",
     "text": [
      "0it [00:00, ?it/s]"
     ]
    },
    {
     "name": "stdout",
     "output_type": "stream",
     "text": [
      "0:\tlearn: 0.5736897\ttotal: 39.1ms\tremaining: 1.13s\n",
      "1:\tlearn: 0.4919600\ttotal: 76.4ms\tremaining: 1.07s\n",
      "2:\tlearn: 0.4337719\ttotal: 117ms\tremaining: 1.06s\n",
      "3:\tlearn: 0.3909523\ttotal: 155ms\tremaining: 1.01s\n",
      "4:\tlearn: 0.3584841\ttotal: 194ms\tremaining: 970ms\n",
      "5:\tlearn: 0.3334940\ttotal: 235ms\tremaining: 941ms\n",
      "6:\tlearn: 0.3140158\ttotal: 276ms\tremaining: 907ms\n",
      "7:\tlearn: 0.2984795\ttotal: 324ms\tremaining: 890ms\n",
      "8:\tlearn: 0.2862065\ttotal: 360ms\tremaining: 840ms\n",
      "9:\tlearn: 0.2762806\ttotal: 398ms\tremaining: 795ms\n",
      "10:\tlearn: 0.2680907\ttotal: 439ms\tremaining: 758ms\n",
      "11:\tlearn: 0.2617507\ttotal: 476ms\tremaining: 714ms\n",
      "12:\tlearn: 0.2562569\ttotal: 516ms\tremaining: 675ms\n",
      "13:\tlearn: 0.2512689\ttotal: 555ms\tremaining: 634ms\n",
      "14:\tlearn: 0.2476343\ttotal: 594ms\tremaining: 594ms\n",
      "15:\tlearn: 0.2441942\ttotal: 632ms\tremaining: 553ms\n",
      "16:\tlearn: 0.2401007\ttotal: 673ms\tremaining: 515ms\n",
      "17:\tlearn: 0.2375973\ttotal: 712ms\tremaining: 475ms\n",
      "18:\tlearn: 0.2349074\ttotal: 749ms\tremaining: 434ms\n",
      "19:\tlearn: 0.2321778\ttotal: 788ms\tremaining: 394ms\n",
      "20:\tlearn: 0.2297477\ttotal: 831ms\tremaining: 356ms\n",
      "21:\tlearn: 0.2265406\ttotal: 867ms\tremaining: 315ms\n",
      "22:\tlearn: 0.2238685\ttotal: 906ms\tremaining: 276ms\n",
      "23:\tlearn: 0.2221085\ttotal: 946ms\tremaining: 237ms\n",
      "24:\tlearn: 0.2201966\ttotal: 983ms\tremaining: 197ms\n",
      "25:\tlearn: 0.2186401\ttotal: 1.02s\tremaining: 157ms\n",
      "26:\tlearn: 0.2164656\ttotal: 1.06s\tremaining: 118ms\n",
      "27:\tlearn: 0.2152009\ttotal: 1.1s\tremaining: 78.3ms\n",
      "28:\tlearn: 0.2140581\ttotal: 1.13s\tremaining: 39.1ms\n",
      "29:\tlearn: 0.2122303\ttotal: 1.17s\tremaining: 0us\n"
     ]
    },
    {
     "name": "stderr",
     "output_type": "stream",
     "text": [
      "1it [00:01,  1.65s/it]"
     ]
    },
    {
     "name": "stdout",
     "output_type": "stream",
     "text": [
      "0:\tlearn: 0.5736749\ttotal: 44.4ms\tremaining: 1.29s\n",
      "1:\tlearn: 0.4918833\ttotal: 84.8ms\tremaining: 1.19s\n",
      "2:\tlearn: 0.4336130\ttotal: 123ms\tremaining: 1.11s\n",
      "3:\tlearn: 0.3899377\ttotal: 164ms\tremaining: 1.07s\n",
      "4:\tlearn: 0.3577264\ttotal: 203ms\tremaining: 1.02s\n",
      "5:\tlearn: 0.3331670\ttotal: 241ms\tremaining: 963ms\n",
      "6:\tlearn: 0.3133931\ttotal: 282ms\tremaining: 927ms\n",
      "7:\tlearn: 0.2981196\ttotal: 322ms\tremaining: 885ms\n",
      "8:\tlearn: 0.2865252\ttotal: 361ms\tremaining: 842ms\n",
      "9:\tlearn: 0.2765863\ttotal: 399ms\tremaining: 799ms\n",
      "10:\tlearn: 0.2690273\ttotal: 437ms\tremaining: 754ms\n",
      "11:\tlearn: 0.2627689\ttotal: 473ms\tremaining: 710ms\n",
      "12:\tlearn: 0.2572020\ttotal: 513ms\tremaining: 671ms\n",
      "13:\tlearn: 0.2522336\ttotal: 552ms\tremaining: 631ms\n",
      "14:\tlearn: 0.2489147\ttotal: 588ms\tremaining: 588ms\n",
      "15:\tlearn: 0.2436998\ttotal: 627ms\tremaining: 549ms\n",
      "16:\tlearn: 0.2397674\ttotal: 663ms\tremaining: 507ms\n",
      "17:\tlearn: 0.2368361\ttotal: 698ms\tremaining: 466ms\n",
      "18:\tlearn: 0.2341550\ttotal: 733ms\tremaining: 424ms\n",
      "19:\tlearn: 0.2302555\ttotal: 777ms\tremaining: 388ms\n",
      "20:\tlearn: 0.2281870\ttotal: 814ms\tremaining: 349ms\n",
      "21:\tlearn: 0.2262704\ttotal: 852ms\tremaining: 310ms\n",
      "22:\tlearn: 0.2242186\ttotal: 888ms\tremaining: 270ms\n",
      "23:\tlearn: 0.2218253\ttotal: 927ms\tremaining: 232ms\n",
      "24:\tlearn: 0.2203793\ttotal: 964ms\tremaining: 193ms\n",
      "25:\tlearn: 0.2182842\ttotal: 1s\tremaining: 155ms\n",
      "26:\tlearn: 0.2162588\ttotal: 1.04s\tremaining: 116ms\n",
      "27:\tlearn: 0.2142516\ttotal: 1.08s\tremaining: 77.2ms\n",
      "28:\tlearn: 0.2128228\ttotal: 1.12s\tremaining: 38.5ms\n"
     ]
    },
    {
     "name": "stderr",
     "output_type": "stream",
     "text": [
      "2it [00:03,  1.59s/it]"
     ]
    },
    {
     "name": "stdout",
     "output_type": "stream",
     "text": [
      "29:\tlearn: 0.2115571\ttotal: 1.16s\tremaining: 0us\n",
      "0:\tlearn: 0.5736094\ttotal: 39.7ms\tremaining: 1.15s\n",
      "1:\tlearn: 0.4919252\ttotal: 76.9ms\tremaining: 1.08s\n",
      "2:\tlearn: 0.4336907\ttotal: 114ms\tremaining: 1.03s\n",
      "3:\tlearn: 0.3900621\ttotal: 153ms\tremaining: 992ms\n",
      "4:\tlearn: 0.3577911\ttotal: 190ms\tremaining: 949ms\n",
      "5:\tlearn: 0.3327760\ttotal: 229ms\tremaining: 915ms\n",
      "6:\tlearn: 0.3136672\ttotal: 268ms\tremaining: 879ms\n",
      "7:\tlearn: 0.2985979\ttotal: 307ms\tremaining: 843ms\n",
      "8:\tlearn: 0.2865639\ttotal: 345ms\tremaining: 805ms\n",
      "9:\tlearn: 0.2767691\ttotal: 380ms\tremaining: 761ms\n",
      "10:\tlearn: 0.2679728\ttotal: 419ms\tremaining: 724ms\n",
      "11:\tlearn: 0.2613194\ttotal: 461ms\tremaining: 691ms\n",
      "12:\tlearn: 0.2566324\ttotal: 500ms\tremaining: 654ms\n",
      "13:\tlearn: 0.2516873\ttotal: 540ms\tremaining: 618ms\n",
      "14:\tlearn: 0.2478625\ttotal: 576ms\tremaining: 576ms\n",
      "15:\tlearn: 0.2445160\ttotal: 612ms\tremaining: 535ms\n",
      "16:\tlearn: 0.2412280\ttotal: 650ms\tremaining: 497ms\n",
      "17:\tlearn: 0.2389998\ttotal: 687ms\tremaining: 458ms\n",
      "18:\tlearn: 0.2365062\ttotal: 725ms\tremaining: 419ms\n",
      "19:\tlearn: 0.2336946\ttotal: 766ms\tremaining: 383ms\n",
      "20:\tlearn: 0.2315048\ttotal: 806ms\tremaining: 346ms\n",
      "21:\tlearn: 0.2291405\ttotal: 846ms\tremaining: 307ms\n",
      "22:\tlearn: 0.2257036\ttotal: 883ms\tremaining: 269ms\n",
      "23:\tlearn: 0.2241595\ttotal: 920ms\tremaining: 230ms\n",
      "24:\tlearn: 0.2213581\ttotal: 957ms\tremaining: 191ms\n",
      "25:\tlearn: 0.2198601\ttotal: 992ms\tremaining: 153ms\n",
      "26:\tlearn: 0.2180538\ttotal: 1.03s\tremaining: 114ms\n",
      "27:\tlearn: 0.2168097\ttotal: 1.07s\tremaining: 76.2ms\n",
      "28:\tlearn: 0.2159193\ttotal: 1.1s\tremaining: 38ms\n",
      "29:\tlearn: 0.2124203\ttotal: 1.14s\tremaining: 0us\n"
     ]
    },
    {
     "name": "stderr",
     "output_type": "stream",
     "text": [
      "3it [00:04,  1.56s/it]"
     ]
    },
    {
     "name": "stdout",
     "output_type": "stream",
     "text": [
      "0:\tlearn: 0.5738959\ttotal: 32.4ms\tremaining: 941ms\n",
      "1:\tlearn: 0.4919656\ttotal: 63.3ms\tremaining: 886ms\n",
      "2:\tlearn: 0.4336952\ttotal: 101ms\tremaining: 907ms\n",
      "3:\tlearn: 0.3900264\ttotal: 135ms\tremaining: 878ms\n",
      "4:\tlearn: 0.3577410\ttotal: 170ms\tremaining: 848ms\n",
      "5:\tlearn: 0.3328114\ttotal: 203ms\tremaining: 811ms\n",
      "6:\tlearn: 0.3138839\ttotal: 237ms\tremaining: 779ms\n",
      "7:\tlearn: 0.2984075\ttotal: 273ms\tremaining: 751ms\n",
      "8:\tlearn: 0.2865799\ttotal: 307ms\tremaining: 717ms\n",
      "9:\tlearn: 0.2769578\ttotal: 341ms\tremaining: 682ms\n",
      "10:\tlearn: 0.2686722\ttotal: 374ms\tremaining: 647ms\n",
      "11:\tlearn: 0.2627675\ttotal: 407ms\tremaining: 610ms\n",
      "12:\tlearn: 0.2570768\ttotal: 441ms\tremaining: 577ms\n",
      "13:\tlearn: 0.2524953\ttotal: 475ms\tremaining: 543ms\n",
      "14:\tlearn: 0.2487430\ttotal: 510ms\tremaining: 510ms\n",
      "15:\tlearn: 0.2454540\ttotal: 542ms\tremaining: 475ms\n",
      "16:\tlearn: 0.2426778\ttotal: 580ms\tremaining: 444ms\n",
      "17:\tlearn: 0.2398686\ttotal: 616ms\tremaining: 410ms\n",
      "18:\tlearn: 0.2369273\ttotal: 649ms\tremaining: 376ms\n",
      "19:\tlearn: 0.2337606\ttotal: 685ms\tremaining: 342ms\n",
      "20:\tlearn: 0.2312824\ttotal: 725ms\tremaining: 311ms\n",
      "21:\tlearn: 0.2292503\ttotal: 758ms\tremaining: 276ms\n",
      "22:\tlearn: 0.2265756\ttotal: 793ms\tremaining: 241ms\n",
      "23:\tlearn: 0.2245632\ttotal: 826ms\tremaining: 207ms\n",
      "24:\tlearn: 0.2224543\ttotal: 860ms\tremaining: 172ms\n"
     ]
    },
    {
     "name": "stderr",
     "output_type": "stream",
     "text": [
      "4it [00:06,  1.49s/it]"
     ]
    },
    {
     "name": "stdout",
     "output_type": "stream",
     "text": [
      "25:\tlearn: 0.2190671\ttotal: 898ms\tremaining: 138ms\n",
      "26:\tlearn: 0.2170441\ttotal: 937ms\tremaining: 104ms\n",
      "27:\tlearn: 0.2154098\ttotal: 971ms\tremaining: 69.4ms\n",
      "28:\tlearn: 0.2138993\ttotal: 1s\tremaining: 34.6ms\n",
      "29:\tlearn: 0.2121981\ttotal: 1.04s\tremaining: 0us\n",
      "0:\tlearn: 0.5738031\ttotal: 33ms\tremaining: 958ms\n",
      "1:\tlearn: 0.4921291\ttotal: 64ms\tremaining: 895ms\n",
      "2:\tlearn: 0.4343702\ttotal: 99ms\tremaining: 891ms\n",
      "3:\tlearn: 0.3909291\ttotal: 132ms\tremaining: 857ms\n",
      "4:\tlearn: 0.3585991\ttotal: 163ms\tremaining: 816ms\n",
      "5:\tlearn: 0.3338706\ttotal: 196ms\tremaining: 785ms\n",
      "6:\tlearn: 0.3143254\ttotal: 229ms\tremaining: 751ms\n",
      "7:\tlearn: 0.2990603\ttotal: 263ms\tremaining: 724ms\n",
      "8:\tlearn: 0.2870496\ttotal: 298ms\tremaining: 695ms\n",
      "9:\tlearn: 0.2775235\ttotal: 331ms\tremaining: 662ms\n",
      "10:\tlearn: 0.2699770\ttotal: 366ms\tremaining: 633ms\n",
      "11:\tlearn: 0.2639649\ttotal: 396ms\tremaining: 595ms\n",
      "12:\tlearn: 0.2586900\ttotal: 433ms\tremaining: 566ms\n",
      "13:\tlearn: 0.2540585\ttotal: 465ms\tremaining: 531ms\n",
      "14:\tlearn: 0.2495019\ttotal: 498ms\tremaining: 498ms\n",
      "15:\tlearn: 0.2448584\ttotal: 539ms\tremaining: 471ms\n",
      "16:\tlearn: 0.2415767\ttotal: 571ms\tremaining: 437ms\n",
      "17:\tlearn: 0.2388784\ttotal: 604ms\tremaining: 402ms\n",
      "18:\tlearn: 0.2361083\ttotal: 635ms\tremaining: 368ms\n",
      "19:\tlearn: 0.2328180\ttotal: 665ms\tremaining: 333ms\n",
      "20:\tlearn: 0.2302971\ttotal: 699ms\tremaining: 300ms\n",
      "21:\tlearn: 0.2275585\ttotal: 737ms\tremaining: 268ms\n",
      "22:\tlearn: 0.2250261\ttotal: 770ms\tremaining: 234ms\n",
      "23:\tlearn: 0.2235522\ttotal: 801ms\tremaining: 200ms\n",
      "24:\tlearn: 0.2215294\ttotal: 839ms\tremaining: 168ms\n",
      "25:\tlearn: 0.2190446\ttotal: 873ms\tremaining: 134ms\n"
     ]
    },
    {
     "name": "stderr",
     "output_type": "stream",
     "text": [
      "5it [00:07,  1.44s/it]"
     ]
    },
    {
     "name": "stdout",
     "output_type": "stream",
     "text": [
      "26:\tlearn: 0.2175903\ttotal: 904ms\tremaining: 100ms\n",
      "27:\tlearn: 0.2148568\ttotal: 942ms\tremaining: 67.3ms\n",
      "28:\tlearn: 0.2132620\ttotal: 973ms\tremaining: 33.5ms\n",
      "29:\tlearn: 0.2120383\ttotal: 1s\tremaining: 0us\n",
      "0:\tlearn: 0.5737200\ttotal: 34.3ms\tremaining: 994ms\n",
      "1:\tlearn: 0.4920265\ttotal: 65.9ms\tremaining: 923ms\n",
      "2:\tlearn: 0.4337643\ttotal: 96.3ms\tremaining: 866ms\n",
      "3:\tlearn: 0.3901482\ttotal: 131ms\tremaining: 851ms\n",
      "4:\tlearn: 0.3580582\ttotal: 167ms\tremaining: 835ms\n",
      "5:\tlearn: 0.3331469\ttotal: 200ms\tremaining: 801ms\n",
      "6:\tlearn: 0.3142156\ttotal: 236ms\tremaining: 775ms\n",
      "7:\tlearn: 0.2990705\ttotal: 268ms\tremaining: 737ms\n",
      "8:\tlearn: 0.2871057\ttotal: 301ms\tremaining: 702ms\n",
      "9:\tlearn: 0.2771269\ttotal: 334ms\tremaining: 668ms\n",
      "10:\tlearn: 0.2697065\ttotal: 367ms\tremaining: 635ms\n",
      "11:\tlearn: 0.2629662\ttotal: 399ms\tremaining: 599ms\n",
      "12:\tlearn: 0.2564513\ttotal: 432ms\tremaining: 566ms\n",
      "13:\tlearn: 0.2508130\ttotal: 467ms\tremaining: 534ms\n",
      "14:\tlearn: 0.2472548\ttotal: 501ms\tremaining: 501ms\n",
      "15:\tlearn: 0.2442495\ttotal: 536ms\tremaining: 469ms\n",
      "16:\tlearn: 0.2415570\ttotal: 574ms\tremaining: 439ms\n",
      "17:\tlearn: 0.2381730\ttotal: 608ms\tremaining: 405ms\n",
      "18:\tlearn: 0.2353167\ttotal: 641ms\tremaining: 371ms\n",
      "19:\tlearn: 0.2331446\ttotal: 672ms\tremaining: 336ms\n",
      "20:\tlearn: 0.2301077\ttotal: 709ms\tremaining: 304ms\n",
      "21:\tlearn: 0.2281684\ttotal: 743ms\tremaining: 270ms\n",
      "22:\tlearn: 0.2258606\ttotal: 774ms\tremaining: 236ms\n",
      "23:\tlearn: 0.2241637\ttotal: 806ms\tremaining: 201ms\n",
      "24:\tlearn: 0.2221294\ttotal: 838ms\tremaining: 168ms\n",
      "25:\tlearn: 0.2186224\ttotal: 872ms\tremaining: 134ms\n",
      "26:\tlearn: 0.2166217\ttotal: 906ms\tremaining: 101ms\n"
     ]
    },
    {
     "name": "stderr",
     "output_type": "stream",
     "text": [
      "6it [00:08,  1.41s/it]"
     ]
    },
    {
     "name": "stdout",
     "output_type": "stream",
     "text": [
      "27:\tlearn: 0.2148196\ttotal: 942ms\tremaining: 67.3ms\n",
      "28:\tlearn: 0.2126475\ttotal: 976ms\tremaining: 33.6ms\n",
      "29:\tlearn: 0.2108039\ttotal: 1.01s\tremaining: 0us\n",
      "0:\tlearn: 0.5737258\ttotal: 34.9ms\tremaining: 1.01s\n",
      "1:\tlearn: 0.4918839\ttotal: 66.3ms\tremaining: 928ms\n",
      "2:\tlearn: 0.4340612\ttotal: 98.5ms\tremaining: 886ms\n",
      "3:\tlearn: 0.3906074\ttotal: 131ms\tremaining: 853ms\n",
      "4:\tlearn: 0.3583830\ttotal: 163ms\tremaining: 815ms\n",
      "5:\tlearn: 0.3337263\ttotal: 196ms\tremaining: 785ms\n",
      "6:\tlearn: 0.3147022\ttotal: 233ms\tremaining: 764ms\n",
      "7:\tlearn: 0.2996332\ttotal: 266ms\tremaining: 731ms\n",
      "8:\tlearn: 0.2881741\ttotal: 299ms\tremaining: 698ms\n",
      "9:\tlearn: 0.2777062\ttotal: 333ms\tremaining: 665ms\n",
      "10:\tlearn: 0.2700171\ttotal: 366ms\tremaining: 632ms\n",
      "11:\tlearn: 0.2627303\ttotal: 398ms\tremaining: 596ms\n",
      "12:\tlearn: 0.2571978\ttotal: 434ms\tremaining: 568ms\n",
      "13:\tlearn: 0.2514825\ttotal: 469ms\tremaining: 536ms\n",
      "14:\tlearn: 0.2475506\ttotal: 501ms\tremaining: 501ms\n",
      "15:\tlearn: 0.2437515\ttotal: 536ms\tremaining: 469ms\n",
      "16:\tlearn: 0.2407936\ttotal: 569ms\tremaining: 435ms\n",
      "17:\tlearn: 0.2378174\ttotal: 600ms\tremaining: 400ms\n",
      "18:\tlearn: 0.2356547\ttotal: 634ms\tremaining: 367ms\n",
      "19:\tlearn: 0.2322278\ttotal: 666ms\tremaining: 333ms\n",
      "20:\tlearn: 0.2291859\ttotal: 701ms\tremaining: 300ms\n",
      "21:\tlearn: 0.2263714\ttotal: 734ms\tremaining: 267ms\n",
      "22:\tlearn: 0.2245642\ttotal: 768ms\tremaining: 234ms\n",
      "23:\tlearn: 0.2228505\ttotal: 805ms\tremaining: 201ms\n",
      "24:\tlearn: 0.2215434\ttotal: 839ms\tremaining: 168ms\n",
      "25:\tlearn: 0.2194170\ttotal: 875ms\tremaining: 135ms\n",
      "26:\tlearn: 0.2177851\ttotal: 912ms\tremaining: 101ms\n"
     ]
    },
    {
     "name": "stderr",
     "output_type": "stream",
     "text": [
      "7it [00:10,  1.40s/it]"
     ]
    },
    {
     "name": "stdout",
     "output_type": "stream",
     "text": [
      "27:\tlearn: 0.2155620\ttotal: 950ms\tremaining: 67.9ms\n",
      "28:\tlearn: 0.2138653\ttotal: 983ms\tremaining: 33.9ms\n",
      "29:\tlearn: 0.2118532\ttotal: 1.02s\tremaining: 0us\n",
      "0:\tlearn: 0.5736938\ttotal: 34.4ms\tremaining: 998ms\n",
      "1:\tlearn: 0.4920900\ttotal: 65.7ms\tremaining: 920ms\n",
      "2:\tlearn: 0.4338167\ttotal: 97.2ms\tremaining: 875ms\n",
      "3:\tlearn: 0.3907626\ttotal: 133ms\tremaining: 866ms\n",
      "4:\tlearn: 0.3584312\ttotal: 167ms\tremaining: 835ms\n",
      "5:\tlearn: 0.3335523\ttotal: 200ms\tremaining: 801ms\n",
      "6:\tlearn: 0.3141089\ttotal: 235ms\tremaining: 773ms\n",
      "7:\tlearn: 0.2991164\ttotal: 270ms\tremaining: 743ms\n",
      "8:\tlearn: 0.2874541\ttotal: 305ms\tremaining: 712ms\n",
      "9:\tlearn: 0.2775777\ttotal: 340ms\tremaining: 681ms\n",
      "10:\tlearn: 0.2691937\ttotal: 374ms\tremaining: 647ms\n",
      "11:\tlearn: 0.2628187\ttotal: 406ms\tremaining: 609ms\n",
      "12:\tlearn: 0.2579176\ttotal: 440ms\tremaining: 575ms\n",
      "13:\tlearn: 0.2533542\ttotal: 474ms\tremaining: 542ms\n",
      "14:\tlearn: 0.2493940\ttotal: 505ms\tremaining: 505ms\n",
      "15:\tlearn: 0.2452562\ttotal: 539ms\tremaining: 472ms\n",
      "16:\tlearn: 0.2415077\ttotal: 575ms\tremaining: 439ms\n",
      "17:\tlearn: 0.2391610\ttotal: 608ms\tremaining: 405ms\n",
      "18:\tlearn: 0.2365152\ttotal: 645ms\tremaining: 373ms\n",
      "19:\tlearn: 0.2333438\ttotal: 678ms\tremaining: 339ms\n",
      "20:\tlearn: 0.2306413\ttotal: 711ms\tremaining: 305ms\n",
      "21:\tlearn: 0.2283783\ttotal: 746ms\tremaining: 271ms\n",
      "22:\tlearn: 0.2256486\ttotal: 783ms\tremaining: 238ms\n",
      "23:\tlearn: 0.2237237\ttotal: 817ms\tremaining: 204ms\n",
      "24:\tlearn: 0.2219645\ttotal: 850ms\tremaining: 170ms\n",
      "25:\tlearn: 0.2184355\ttotal: 886ms\tremaining: 136ms\n"
     ]
    },
    {
     "name": "stderr",
     "output_type": "stream",
     "text": [
      "8it [00:11,  1.39s/it]"
     ]
    },
    {
     "name": "stdout",
     "output_type": "stream",
     "text": [
      "26:\tlearn: 0.2165742\ttotal: 922ms\tremaining: 102ms\n",
      "27:\tlearn: 0.2147183\ttotal: 961ms\tremaining: 68.6ms\n",
      "28:\tlearn: 0.2134183\ttotal: 993ms\tremaining: 34.2ms\n",
      "29:\tlearn: 0.2119289\ttotal: 1.02s\tremaining: 0us\n",
      "0:\tlearn: 0.5736999\ttotal: 32.3ms\tremaining: 936ms\n",
      "1:\tlearn: 0.4920091\ttotal: 64.6ms\tremaining: 905ms\n",
      "2:\tlearn: 0.4337406\ttotal: 96.6ms\tremaining: 869ms\n",
      "3:\tlearn: 0.3908421\ttotal: 130ms\tremaining: 847ms\n",
      "4:\tlearn: 0.3586016\ttotal: 164ms\tremaining: 822ms\n",
      "5:\tlearn: 0.3339020\ttotal: 197ms\tremaining: 788ms\n",
      "6:\tlearn: 0.3141798\ttotal: 230ms\tremaining: 755ms\n",
      "7:\tlearn: 0.2988512\ttotal: 271ms\tremaining: 744ms\n",
      "8:\tlearn: 0.2874729\ttotal: 304ms\tremaining: 709ms\n",
      "9:\tlearn: 0.2776469\ttotal: 338ms\tremaining: 676ms\n",
      "10:\tlearn: 0.2691931\ttotal: 373ms\tremaining: 644ms\n",
      "11:\tlearn: 0.2627791\ttotal: 406ms\tremaining: 610ms\n",
      "12:\tlearn: 0.2572814\ttotal: 440ms\tremaining: 576ms\n",
      "13:\tlearn: 0.2528178\ttotal: 476ms\tremaining: 544ms\n",
      "14:\tlearn: 0.2493802\ttotal: 511ms\tremaining: 511ms\n",
      "15:\tlearn: 0.2463071\ttotal: 546ms\tremaining: 477ms\n",
      "16:\tlearn: 0.2430317\ttotal: 578ms\tremaining: 442ms\n",
      "17:\tlearn: 0.2395757\ttotal: 613ms\tremaining: 409ms\n",
      "18:\tlearn: 0.2368367\ttotal: 644ms\tremaining: 373ms\n",
      "19:\tlearn: 0.2340445\ttotal: 680ms\tremaining: 340ms\n",
      "20:\tlearn: 0.2305989\ttotal: 716ms\tremaining: 307ms\n",
      "21:\tlearn: 0.2274435\ttotal: 756ms\tremaining: 275ms\n",
      "22:\tlearn: 0.2253481\ttotal: 796ms\tremaining: 242ms\n",
      "23:\tlearn: 0.2236327\ttotal: 831ms\tremaining: 208ms\n",
      "24:\tlearn: 0.2214780\ttotal: 866ms\tremaining: 173ms\n"
     ]
    },
    {
     "name": "stderr",
     "output_type": "stream",
     "text": [
      "9it [00:12,  1.39s/it]"
     ]
    },
    {
     "name": "stdout",
     "output_type": "stream",
     "text": [
      "25:\tlearn: 0.2193162\ttotal: 905ms\tremaining: 139ms\n",
      "26:\tlearn: 0.2171892\ttotal: 940ms\tremaining: 104ms\n",
      "27:\tlearn: 0.2159013\ttotal: 972ms\tremaining: 69.4ms\n",
      "28:\tlearn: 0.2144851\ttotal: 1.01s\tremaining: 34.7ms\n",
      "29:\tlearn: 0.2120793\ttotal: 1.04s\tremaining: 0us\n",
      "0:\tlearn: 0.5738582\ttotal: 35.9ms\tremaining: 1.04s\n",
      "1:\tlearn: 0.4921827\ttotal: 71.8ms\tremaining: 1s\n",
      "2:\tlearn: 0.4339117\ttotal: 111ms\tremaining: 995ms\n",
      "3:\tlearn: 0.3902811\ttotal: 150ms\tremaining: 973ms\n",
      "4:\tlearn: 0.3580207\ttotal: 186ms\tremaining: 929ms\n",
      "5:\tlearn: 0.3335413\ttotal: 220ms\tremaining: 881ms\n",
      "6:\tlearn: 0.3138172\ttotal: 255ms\tremaining: 837ms\n",
      "7:\tlearn: 0.2988392\ttotal: 292ms\tremaining: 802ms\n",
      "8:\tlearn: 0.2872092\ttotal: 329ms\tremaining: 767ms\n",
      "9:\tlearn: 0.2774411\ttotal: 363ms\tremaining: 726ms\n",
      "10:\tlearn: 0.2693574\ttotal: 402ms\tremaining: 695ms\n",
      "11:\tlearn: 0.2619915\ttotal: 436ms\tremaining: 653ms\n",
      "12:\tlearn: 0.2566682\ttotal: 472ms\tremaining: 617ms\n",
      "13:\tlearn: 0.2512515\ttotal: 509ms\tremaining: 582ms\n",
      "14:\tlearn: 0.2475243\ttotal: 542ms\tremaining: 542ms\n",
      "15:\tlearn: 0.2441119\ttotal: 579ms\tremaining: 507ms\n",
      "16:\tlearn: 0.2398120\ttotal: 618ms\tremaining: 472ms\n",
      "17:\tlearn: 0.2366857\ttotal: 651ms\tremaining: 434ms\n",
      "18:\tlearn: 0.2344342\ttotal: 686ms\tremaining: 397ms\n",
      "19:\tlearn: 0.2322781\ttotal: 721ms\tremaining: 361ms\n",
      "20:\tlearn: 0.2291120\ttotal: 755ms\tremaining: 323ms\n",
      "21:\tlearn: 0.2272290\ttotal: 789ms\tremaining: 287ms\n",
      "22:\tlearn: 0.2252149\ttotal: 824ms\tremaining: 251ms\n",
      "23:\tlearn: 0.2228903\ttotal: 854ms\tremaining: 214ms\n"
     ]
    },
    {
     "name": "stderr",
     "output_type": "stream",
     "text": [
      "10it [00:14,  1.41s/it]"
     ]
    },
    {
     "name": "stdout",
     "output_type": "stream",
     "text": [
      "24:\tlearn: 0.2207648\ttotal: 890ms\tremaining: 178ms\n",
      "25:\tlearn: 0.2183374\ttotal: 927ms\tremaining: 143ms\n",
      "26:\tlearn: 0.2166375\ttotal: 959ms\tremaining: 107ms\n",
      "27:\tlearn: 0.2152256\ttotal: 989ms\tremaining: 70.6ms\n",
      "28:\tlearn: 0.2138569\ttotal: 1.02s\tremaining: 35.2ms\n",
      "29:\tlearn: 0.2126184\ttotal: 1.05s\tremaining: 0us\n"
     ]
    },
    {
     "name": "stderr",
     "output_type": "stream",
     "text": [
      "10it [00:14,  1.44s/it]\n",
      "[I 2024-06-30 12:27:27,122] Trial 4 finished with value: 0.9692686880586363 and parameters: {'depth': 7, 'learning_rate': 0.19482615462649633, 'l2_leaf_reg': 3, 'iterations': 30}. Best is trial 0 with value: 0.9856638918653319.\n"
     ]
    },
    {
     "name": "stdout",
     "output_type": "stream",
     "text": [
      "Best parameters: {'depth': 9, 'learning_rate': 0.4135636527417158, 'l2_leaf_reg': 6, 'iterations': 30}\n",
      "0:\tlearn: 0.4679815\ttotal: 58.5ms\tremaining: 1.7s\n",
      "1:\tlearn: 0.3692712\ttotal: 115ms\tremaining: 1.61s\n",
      "2:\tlearn: 0.3146261\ttotal: 170ms\tremaining: 1.53s\n",
      "3:\tlearn: 0.2838230\ttotal: 225ms\tremaining: 1.47s\n",
      "4:\tlearn: 0.2641772\ttotal: 279ms\tremaining: 1.39s\n",
      "5:\tlearn: 0.2505591\ttotal: 338ms\tremaining: 1.35s\n",
      "6:\tlearn: 0.2407056\ttotal: 393ms\tremaining: 1.29s\n",
      "7:\tlearn: 0.2341939\ttotal: 445ms\tremaining: 1.22s\n",
      "8:\tlearn: 0.2278396\ttotal: 501ms\tremaining: 1.17s\n",
      "9:\tlearn: 0.2207405\ttotal: 555ms\tremaining: 1.11s\n",
      "10:\tlearn: 0.2149309\ttotal: 613ms\tremaining: 1.06s\n",
      "11:\tlearn: 0.2102817\ttotal: 669ms\tremaining: 1s\n",
      "12:\tlearn: 0.2072583\ttotal: 724ms\tremaining: 947ms\n",
      "13:\tlearn: 0.2042165\ttotal: 780ms\tremaining: 891ms\n",
      "14:\tlearn: 0.2013185\ttotal: 831ms\tremaining: 831ms\n",
      "15:\tlearn: 0.1967585\ttotal: 890ms\tremaining: 778ms\n",
      "16:\tlearn: 0.1942281\ttotal: 944ms\tremaining: 722ms\n",
      "17:\tlearn: 0.1881293\ttotal: 1s\tremaining: 668ms\n",
      "18:\tlearn: 0.1853746\ttotal: 1.06s\tremaining: 614ms\n",
      "19:\tlearn: 0.1827043\ttotal: 1.12s\tremaining: 560ms\n",
      "20:\tlearn: 0.1763728\ttotal: 1.18s\tremaining: 506ms\n",
      "21:\tlearn: 0.1700259\ttotal: 1.24s\tremaining: 452ms\n",
      "22:\tlearn: 0.1675431\ttotal: 1.3s\tremaining: 395ms\n",
      "23:\tlearn: 0.1651654\ttotal: 1.35s\tremaining: 338ms\n",
      "24:\tlearn: 0.1615201\ttotal: 1.41s\tremaining: 281ms\n",
      "25:\tlearn: 0.1552710\ttotal: 1.47s\tremaining: 226ms\n",
      "26:\tlearn: 0.1514205\ttotal: 1.52s\tremaining: 169ms\n",
      "27:\tlearn: 0.1488716\ttotal: 1.57s\tremaining: 112ms\n"
     ]
    },
    {
     "name": "stderr",
     "output_type": "stream",
     "text": [
      "[I 2024-06-30 12:27:29,116] A new study created in memory with name: no-name-02ffb41b-9490-445d-9f1e-fbd88ffbdf60\n"
     ]
    },
    {
     "name": "stdout",
     "output_type": "stream",
     "text": [
      "28:\tlearn: 0.1465036\ttotal: 1.63s\tremaining: 56.2ms\n",
      "29:\tlearn: 0.1457231\ttotal: 1.68s\tremaining: 0us\n",
      "Best AUC Score: 0.9856638918653319\n",
      "Best AUC score for CatBoost: 0.9856638918653319\n",
      "----------------------\n",
      "Tuning and fitting model ----------->>>>  XgBoost\n"
     ]
    },
    {
     "name": "stderr",
     "output_type": "stream",
     "text": [
      "10it [02:11, 13.17s/it]\n",
      "[I 2024-06-30 12:29:40,805] Trial 0 finished with value: 0.9990832899568144 and parameters: {'max_depth': 41, 'learning_rate': 0.03125486789933031, 'n_estimators': 118, 'min_child_weight': 5}. Best is trial 0 with value: 0.9990832899568144.\n",
      "10it [01:42, 10.28s/it]\n",
      "[I 2024-06-30 12:31:23,621] Trial 1 finished with value: 0.9998955754055535 and parameters: {'max_depth': 20, 'learning_rate': 0.2553888092367265, 'n_estimators': 252, 'min_child_weight': 2}. Best is trial 1 with value: 0.9998955754055535.\n",
      "10it [02:05, 12.56s/it]\n",
      "[I 2024-06-30 12:33:29,277] Trial 2 finished with value: 0.9998934821497627 and parameters: {'max_depth': 29, 'learning_rate': 0.26249124654722156, 'n_estimators': 306, 'min_child_weight': 4}. Best is trial 1 with value: 0.9998955754055535.\n",
      "10it [03:02, 18.22s/it]\n",
      "[I 2024-06-30 12:36:31,512] Trial 3 finished with value: 0.9998742405951637 and parameters: {'max_depth': 38, 'learning_rate': 0.15166484847686498, 'n_estimators': 337, 'min_child_weight': 10}. Best is trial 1 with value: 0.9998955754055535.\n",
      "10it [03:04, 18.47s/it]\n",
      "[I 2024-06-30 12:39:36,268] Trial 4 finished with value: 0.999889285287126 and parameters: {'max_depth': 45, 'learning_rate': 0.24500437590740926, 'n_estimators': 407, 'min_child_weight': 7}. Best is trial 1 with value: 0.9998955754055535.\n"
     ]
    },
    {
     "name": "stdout",
     "output_type": "stream",
     "text": [
      "Best parameters: {'max_depth': 20, 'learning_rate': 0.2553888092367265, 'n_estimators': 252, 'min_child_weight': 2}\n",
      "Best AUC Score: 0.9998955754055535\n",
      "Best AUC score for XgBoost: 0.9998955754055535\n",
      "----------------------\n"
     ]
    }
   ],
   "source": [
    "models = ModelClassifier()\n",
    "\n",
    "results = {}  # Dictionary to store the best models and their AUC scores\n",
    "\n",
    "# List to store the tuned models\n",
    "tuned_models = []\n",
    "\n",
    "for model_name, model in models.model_dict.items():\n",
    "    if model_name == 'CatBoost':\n",
    "\n",
    "        print(f\"Tuning and fitting model ----------->>>>  {model_name}\")\n",
    "\n",
    "        # Create an instance of OptunaTuner for each model\n",
    "        tuner = OptunaTuner_Catboost(model, params=models.params[model_name], X=X_train_scaled, y=y_train)\n",
    "\n",
    "        # Perform hyperparameter tuning\n",
    "        best_auc_score, tuned_model = tuner.tune(n_trials=5)\n",
    "\n",
    "        print(f\"Best AUC score for {model_name}: {best_auc_score}\")\n",
    "        print(\"----------------------\")\n",
    "\n",
    "        # Append the tuned model to the list of tuned models\n",
    "        tuned_models.append((model_name, tuned_model))\n",
    "        \n",
    "        results[model_name] = best_auc_score\n",
    "        \n",
    "        \n",
    "    else: \n",
    "        \n",
    "        print(f\"Tuning and fitting model ----------->>>>  {model_name}\")\n",
    "\n",
    "        # Create an instance of OptunaTuner for each model\n",
    "        tuner = OptunaTuner(model, params=models.params[model_name], X=X_train_scaled, y=y_train)\n",
    "\n",
    "        # Perform hyperparameter tuning\n",
    "        best_auc_score, tuned_model = tuner.tune(n_trials=5)\n",
    "\n",
    "        print(f\"Best AUC score for {model_name}: {best_auc_score}\")\n",
    "        print(\"----------------------\")\n",
    "\n",
    "        # Append the tuned model to the list of tuned models\n",
    "        tuned_models.append((model_name, tuned_model))\n",
    "        \n",
    "        results[model_name] = best_auc_score\n",
    "        \n",
    "# Convert the 'results' dictionary to a DataFrame\n",
    "result_df = pd.DataFrame(results.items(), columns=['Model', 'Best AUC Score'])"
   ]
  },
  {
   "cell_type": "code",
   "execution_count": 413,
   "metadata": {},
   "outputs": [
    {
     "data": {
      "text/html": [
       "<div>\n",
       "<style scoped>\n",
       "    .dataframe tbody tr th:only-of-type {\n",
       "        vertical-align: middle;\n",
       "    }\n",
       "\n",
       "    .dataframe tbody tr th {\n",
       "        vertical-align: top;\n",
       "    }\n",
       "\n",
       "    .dataframe thead th {\n",
       "        text-align: right;\n",
       "    }\n",
       "</style>\n",
       "<table border=\"1\" class=\"dataframe\">\n",
       "  <thead>\n",
       "    <tr style=\"text-align: right;\">\n",
       "      <th></th>\n",
       "      <th>Model</th>\n",
       "      <th>Best AUC Score</th>\n",
       "    </tr>\n",
       "  </thead>\n",
       "  <tbody>\n",
       "    <tr>\n",
       "      <th>0</th>\n",
       "      <td>LightGBM</td>\n",
       "      <td>0.999220</td>\n",
       "    </tr>\n",
       "    <tr>\n",
       "      <th>1</th>\n",
       "      <td>CatBoost</td>\n",
       "      <td>0.985664</td>\n",
       "    </tr>\n",
       "    <tr>\n",
       "      <th>2</th>\n",
       "      <td>XgBoost</td>\n",
       "      <td>0.999896</td>\n",
       "    </tr>\n",
       "  </tbody>\n",
       "</table>\n",
       "</div>"
      ],
      "text/plain": [
       "      Model  Best AUC Score\n",
       "0  LightGBM        0.999220\n",
       "1  CatBoost        0.985664\n",
       "2   XgBoost        0.999896"
      ]
     },
     "execution_count": 413,
     "metadata": {},
     "output_type": "execute_result"
    }
   ],
   "source": [
    "result_df"
   ]
  },
  {
   "cell_type": "code",
   "execution_count": 406,
   "metadata": {},
   "outputs": [
    {
     "data": {
      "text/plain": [
       "[('LightGBM',\n",
       "  LGBMClassifier(bagging_fraction=0.5009937636806028,\n",
       "                 feature_fraction=0.2738910987798412,\n",
       "                 learning_rate=0.44643270801445767, min_data_in_leaf=37,\n",
       "                 num_leaves=42, verbose=0)),\n",
       " ('CatBoost', <catboost.core.CatBoostClassifier at 0x1fb01b92b00>),\n",
       " ('XgBoost',\n",
       "  XGBClassifier(base_score=None, booster=None, callbacks=None,\n",
       "                colsample_bylevel=None, colsample_bynode=None,\n",
       "                colsample_bytree=None, device=None, early_stopping_rounds=None,\n",
       "                enable_categorical=False, eval_metric=None, feature_types=None,\n",
       "                gamma=None, grow_policy=None, importance_type=None,\n",
       "                interaction_constraints=None, learning_rate=0.2553888092367265,\n",
       "                max_bin=None, max_cat_threshold=None, max_cat_to_onehot=None,\n",
       "                max_delta_step=None, max_depth=20, max_leaves=None,\n",
       "                min_child_weight=2, missing=nan, monotone_constraints=None,\n",
       "                multi_strategy=None, n_estimators=252, n_jobs=None,\n",
       "                num_parallel_tree=None, random_state=None, ...))]"
      ]
     },
     "execution_count": 406,
     "metadata": {},
     "output_type": "execute_result"
    }
   ],
   "source": [
    "tuned_models"
   ]
  },
  {
   "cell_type": "markdown",
   "metadata": {},
   "source": [
    "# Happy Learning"
   ]
  }
 ],
 "metadata": {
  "kernelspec": {
   "display_name": "Python 3",
   "language": "python",
   "name": "python3"
  },
  "language_info": {
   "codemirror_mode": {
    "name": "ipython",
    "version": 3
   },
   "file_extension": ".py",
   "mimetype": "text/x-python",
   "name": "python",
   "nbconvert_exporter": "python",
   "pygments_lexer": "ipython3",
   "version": "3.6.9"
  }
 },
 "nbformat": 4,
 "nbformat_minor": 4
}
